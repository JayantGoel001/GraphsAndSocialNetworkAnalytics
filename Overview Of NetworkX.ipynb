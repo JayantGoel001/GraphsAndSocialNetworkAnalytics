{
 "cells": [
  {
   "cell_type": "markdown",
   "metadata": {},
   "source": [
    "# Overview Of NetworkX"
   ]
  },
  {
   "cell_type": "markdown",
   "metadata": {},
   "source": [
    "NetworkX is a Python Language Software package for the\n",
    "\n",
    "* creation\n",
    "* manipulation\n",
    "* study of the structure\n",
    "* dynamics, and\n",
    "* function of complex networks\n",
    "---\n",
    "* With NetworkX We can load and store networks in standard and non standard data formats,\n",
    "* Generate many types of random and classic networks,\n",
    "* Analyze Network structure,\n",
    "* Build Network Models,\n",
    "* Design new Network Algorithms,\n",
    "* Draw Networks and much more."
   ]
  },
  {
   "cell_type": "markdown",
   "metadata": {},
   "source": [
    "### Who Uses NetworkX\n",
    "\n",
    "The potential audience for networkX includes\n",
    "* Mathematicians,\n",
    "* Physicsts,\n",
    "* Biologists,\n",
    "* Computer Science and\n",
    "* Social Scientists"
   ]
  },
  {
   "cell_type": "markdown",
   "metadata": {},
   "source": [
    "## The Python programming language\n",
    "Python is a powerful programming language that allows\n",
    "\n",
    "* simple and flexible representations of networks, and\n",
    "* clear and concise expressions of network algorithms (and other algorithms too).\n",
    "\n",
    "Python has a vibrant and growing ecosystem of packages that NetworkX uses to provide more features such as numerical linear algebra and drawing.\n",
    "\n",
    "* Python is free, well-supported, and a joy to use.\n",
    "\n",
    "* In order to make the most out of NetworkX you will want to know how to write basic programs in Python.\n",
    "\n",
    "* Among the many guides to Python, we recommend the documentation at https://.python.org\n",
    "\n",
    "## Free software\n",
    "\n",
    "* NetworkX is free software;\n",
    "* You can redistribute it and/or modify it under the terms of the BSD License.\n",
    "* They welcome contributions from the community.\n",
    "\n",
    "Information on NetworkX development is found at the NetworkX Developer Zone at Github https://github.com/networkx/networkx"
   ]
  },
  {
   "cell_type": "markdown",
   "metadata": {},
   "source": [
    "### History\n",
    "NetworkX was born in May 2002.\n",
    "The original version was designed and written by Aric Hagberg, Dan Schult, and Pieter Swart in 2002 and 2003.\n",
    "The first public release was in April 2005."
   ]
  },
  {
   "cell_type": "markdown",
   "metadata": {},
   "source": [
    "---\n",
    "NumPy Provides matrix representation of graphs and is used in some graph algorithms for high-performance matrix computations. Download: http://scipy.org/Download\n",
    "\n",
    "SciPy Provides sparse matrix representation of graphs and many numerical scientific tools. Download: http://scipy.org/Download\n",
    "\n",
    "Matplotlib Provides flexible drawing of graphs. Download: http://matplotlib.sourceforge.net/\n",
    "\n",
    "GraphViz In conjunction with either PyGraphviz: http://pygraphviz.github.io/\n",
    "\n",
    "pydot: http://code.google.com/p/pydot/ provides graph drawing and graph layout algorithms. Download: http://graphviz.org/\n",
    "\n",
    "PyYAML http://pyyaml.org/\n",
    "\n",
    "Required for YAML format reading and writing."
   ]
  },
  {
   "cell_type": "markdown",
   "metadata": {},
   "source": [
    "---\n",
    "**Creating A Graph**\n",
    "\n",
    "* Nodes\n",
    "* Edges\n",
    "* What to Use as Nodes And Edges\n",
    "* Accessing Edges\n",
    "* Adding Attribute to graphs, Nodes And Edges\n",
    "  * Graph Attribute\n",
    "  * Node Attribute\n",
    "  * Edge Attribute\n",
    "* Directed Graphs\n",
    "* Multigraphs\n",
    "* Graph Generators and Graph Operations\n",
    "* Analyzing Graphs\n",
    "* Drawing Graphs"
   ]
  },
  {
   "cell_type": "code",
   "execution_count": null,
   "metadata": {},
   "outputs": [],
   "source": []
  }
 ],
 "metadata": {
  "kernelspec": {
   "display_name": "Python 3",
   "language": "python",
   "name": "python3"
  },
  "language_info": {
   "codemirror_mode": {
    "name": "ipython",
    "version": 3
   },
   "file_extension": ".py",
   "mimetype": "text/x-python",
   "name": "python",
   "nbconvert_exporter": "python",
   "pygments_lexer": "ipython3",
   "version": "3.8.3"
  }
 },
 "nbformat": 4,
 "nbformat_minor": 4
}
