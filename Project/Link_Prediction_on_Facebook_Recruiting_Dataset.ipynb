{
  "cells": [
    {
      "cell_type": "markdown",
      "metadata": {
        "id": "view-in-github",
        "colab_type": "text"
      },
      "source": [
        "<a href=\"https://colab.research.google.com/github/JayantGoel001/GraphsAndSocialNetworkAnalytics/blob/master/Project/Link_Prediction_on_Facebook_Recruiting_Dataset.ipynb\" target=\"_parent\"><img src=\"https://colab.research.google.com/assets/colab-badge.svg\" alt=\"Open In Colab\"/></a>"
      ]
    },
    {
      "cell_type": "code",
      "source": [
        "from google.colab import drive\n",
        "drive.mount('/content/drive')"
      ],
      "metadata": {
        "id": "wE5hD68UFVJ2"
      },
      "id": "wE5hD68UFVJ2",
      "execution_count": null,
      "outputs": []
    },
    {
      "cell_type": "code",
      "source": [
        "!cp /drive/MyContent/train.csv .\n",
        "!cp /drive/MyContent/test.csv ."
      ],
      "metadata": {
        "id": "_A4-n4uyG_4m"
      },
      "id": "_A4-n4uyG_4m",
      "execution_count": null,
      "outputs": []
    },
    {
      "cell_type": "code",
      "execution_count": null,
      "id": "30893297-caf3-4e4a-ae87-7b98a881400f",
      "metadata": {
        "id": "30893297-caf3-4e4a-ae87-7b98a881400f"
      },
      "outputs": [],
      "source": [
        "import pandas as pd\n",
        "import numpy as np\n",
        "import networkx as nx\n",
        "import matplotlib.pyplot as plt\n",
        "plt.style.use('seaborn')"
      ]
    },
    {
      "cell_type": "code",
      "execution_count": null,
      "id": "a3bd9b26-eabd-4783-a594-a2dd40307a2d",
      "metadata": {
        "id": "a3bd9b26-eabd-4783-a594-a2dd40307a2d",
        "outputId": "037660a1-9226-45db-e757-3560a2edeaa6"
      },
      "outputs": [
        {
          "data": {
            "text/html": [
              "<div>\n",
              "<style scoped>\n",
              "    .dataframe tbody tr th:only-of-type {\n",
              "        vertical-align: middle;\n",
              "    }\n",
              "\n",
              "    .dataframe tbody tr th {\n",
              "        vertical-align: top;\n",
              "    }\n",
              "\n",
              "    .dataframe thead th {\n",
              "        text-align: right;\n",
              "    }\n",
              "</style>\n",
              "<table border=\"1\" class=\"dataframe\">\n",
              "  <thead>\n",
              "    <tr style=\"text-align: right;\">\n",
              "      <th></th>\n",
              "      <th>source_node</th>\n",
              "      <th>destination_node</th>\n",
              "    </tr>\n",
              "  </thead>\n",
              "  <tbody>\n",
              "    <tr>\n",
              "      <th>0</th>\n",
              "      <td>1</td>\n",
              "      <td>690569</td>\n",
              "    </tr>\n",
              "    <tr>\n",
              "      <th>1</th>\n",
              "      <td>1</td>\n",
              "      <td>315892</td>\n",
              "    </tr>\n",
              "    <tr>\n",
              "      <th>2</th>\n",
              "      <td>1</td>\n",
              "      <td>189226</td>\n",
              "    </tr>\n",
              "    <tr>\n",
              "      <th>3</th>\n",
              "      <td>2</td>\n",
              "      <td>834328</td>\n",
              "    </tr>\n",
              "    <tr>\n",
              "      <th>4</th>\n",
              "      <td>2</td>\n",
              "      <td>1615927</td>\n",
              "    </tr>\n",
              "  </tbody>\n",
              "</table>\n",
              "</div>"
            ],
            "text/plain": [
              "   source_node  destination_node\n",
              "0            1            690569\n",
              "1            1            315892\n",
              "2            1            189226\n",
              "3            2            834328\n",
              "4            2           1615927"
            ]
          },
          "execution_count": 3,
          "metadata": {},
          "output_type": "execute_result"
        }
      ],
      "source": [
        "df = pd.read_csv('train.csv',index_col=False)\n",
        "df.head()"
      ]
    },
    {
      "cell_type": "code",
      "execution_count": null,
      "id": "ceb3b850-d519-409a-8ddd-92513d66033a",
      "metadata": {
        "id": "ceb3b850-d519-409a-8ddd-92513d66033a"
      },
      "outputs": [],
      "source": [
        "edge_list = df.values.tolist()"
      ]
    },
    {
      "cell_type": "code",
      "execution_count": null,
      "id": "7d339951-d43a-4564-91d2-6ca9e8203adb",
      "metadata": {
        "id": "7d339951-d43a-4564-91d2-6ca9e8203adb"
      },
      "outputs": [],
      "source": [
        "G = nx.DiGraph(edge_list)"
      ]
    },
    {
      "cell_type": "code",
      "execution_count": null,
      "id": "90e46bf4-88b7-4015-a8aa-03f4781f803b",
      "metadata": {
        "id": "90e46bf4-88b7-4015-a8aa-03f4781f803b",
        "outputId": "4e23d8e2-79a6-403a-ac38-86724670f6ce"
      },
      "outputs": [
        {
          "data": {
            "text/plain": [
              "'DiGraph with 1862220 nodes and 9437519 edges'"
            ]
          },
          "execution_count": 17,
          "metadata": {},
          "output_type": "execute_result"
        }
      ],
      "source": [
        "nx.info(G)"
      ]
    },
    {
      "cell_type": "code",
      "execution_count": null,
      "id": "826ca71d-e853-4df6-be80-46356e5e0cff",
      "metadata": {
        "id": "826ca71d-e853-4df6-be80-46356e5e0cff"
      },
      "outputs": [],
      "source": [
        ""
      ]
    }
  ],
  "metadata": {
    "kernelspec": {
      "display_name": "Python 3 (ipykernel)",
      "language": "python",
      "name": "python3"
    },
    "language_info": {
      "codemirror_mode": {
        "name": "ipython",
        "version": 3
      },
      "file_extension": ".py",
      "mimetype": "text/x-python",
      "name": "python",
      "nbconvert_exporter": "python",
      "pygments_lexer": "ipython3",
      "version": "3.7.0"
    },
    "colab": {
      "name": "Link Prediction on Facebook Recruiting Dataset.ipynb",
      "provenance": [],
      "include_colab_link": true
    }
  },
  "nbformat": 4,
  "nbformat_minor": 5
}