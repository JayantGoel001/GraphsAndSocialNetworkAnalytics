{
  "cells": [
    {
      "cell_type": "markdown",
      "source": [
        "# **Link Prediction on Facebook Recruiting Dataset**"
      ],
      "metadata": {
        "id": "WMf0IYLB3Bmj"
      },
      "id": "WMf0IYLB3Bmj"
    },
    {
      "cell_type": "code",
      "source": [
        "from google.colab import drive\n",
        "drive.mount('/content/drive')"
      ],
      "metadata": {
        "colab": {
          "base_uri": "https://localhost:8080/"
        },
        "id": "7rOVNuiWHrnA",
        "outputId": "196fb95c-6e3b-4132-ffd6-cf120fa89cb1"
      },
      "id": "7rOVNuiWHrnA",
      "execution_count": 1,
      "outputs": [
        {
          "output_type": "stream",
          "name": "stdout",
          "text": [
            "Drive already mounted at /content/drive; to attempt to forcibly remount, call drive.mount(\"/content/drive\", force_remount=True).\n"
          ]
        }
      ]
    },
    {
      "cell_type": "code",
      "source": [
        "# Loading Training And Testing Dataset\n",
        "\n",
        "!cp drive/MyDrive/train.csv .\n",
        "!cp drive/MyDrive/test.csv .\n",
        "!cp drive/MyDrive/Graph.pkl ."
      ],
      "metadata": {
        "id": "3M5zS0awHrAB"
      },
      "id": "3M5zS0awHrAB",
      "execution_count": 2,
      "outputs": []
    },
    {
      "cell_type": "code",
      "execution_count": 3,
      "id": "cc185138",
      "metadata": {
        "id": "cc185138"
      },
      "outputs": [],
      "source": [
        "# Importing packages\n",
        "import networkx as nx\n",
        "import numpy as np\n",
        "import pandas as pd\n",
        "\n",
        "import matplotlib.pyplot as plt\n",
        "import seaborn as sns\n",
        "plt.style.use('seaborn')\n",
        "\n",
        "from sklearn.model_selection import train_test_split,GridSearchCV,RandomizedSearchCV\n",
        "from sklearn.ensemble import RandomForestClassifier\n",
        "from sklearn.metrics import roc_curve, auc, roc_auc_score, confusion_matrix\n",
        "from xgboost import XGBClassifier\n",
        "\n",
        "\n",
        "from time import time\n",
        "from collections import Counter\n",
        "import random\n",
        "import pickle\n",
        "import os"
      ]
    },
    {
      "cell_type": "code",
      "execution_count": 4,
      "id": "f65d7630",
      "metadata": {
        "colab": {
          "base_uri": "https://localhost:8080/",
          "height": 206
        },
        "id": "f65d7630",
        "outputId": "6202dc5a-d82e-41ec-bfaf-99d100317cf9"
      },
      "outputs": [
        {
          "output_type": "execute_result",
          "data": {
            "text/html": [
              "<div>\n",
              "<style scoped>\n",
              "    .dataframe tbody tr th:only-of-type {\n",
              "        vertical-align: middle;\n",
              "    }\n",
              "\n",
              "    .dataframe tbody tr th {\n",
              "        vertical-align: top;\n",
              "    }\n",
              "\n",
              "    .dataframe thead th {\n",
              "        text-align: right;\n",
              "    }\n",
              "</style>\n",
              "<table border=\"1\" class=\"dataframe\">\n",
              "  <thead>\n",
              "    <tr style=\"text-align: right;\">\n",
              "      <th></th>\n",
              "      <th>source_node</th>\n",
              "      <th>destination_node</th>\n",
              "    </tr>\n",
              "  </thead>\n",
              "  <tbody>\n",
              "    <tr>\n",
              "      <th>0</th>\n",
              "      <td>1</td>\n",
              "      <td>690569</td>\n",
              "    </tr>\n",
              "    <tr>\n",
              "      <th>1</th>\n",
              "      <td>1</td>\n",
              "      <td>315892</td>\n",
              "    </tr>\n",
              "    <tr>\n",
              "      <th>2</th>\n",
              "      <td>1</td>\n",
              "      <td>189226</td>\n",
              "    </tr>\n",
              "    <tr>\n",
              "      <th>3</th>\n",
              "      <td>2</td>\n",
              "      <td>834328</td>\n",
              "    </tr>\n",
              "    <tr>\n",
              "      <th>4</th>\n",
              "      <td>2</td>\n",
              "      <td>1615927</td>\n",
              "    </tr>\n",
              "  </tbody>\n",
              "</table>\n",
              "</div>"
            ],
            "text/plain": [
              "   source_node  destination_node\n",
              "0            1            690569\n",
              "1            1            315892\n",
              "2            1            189226\n",
              "3            2            834328\n",
              "4            2           1615927"
            ]
          },
          "metadata": {},
          "execution_count": 4
        }
      ],
      "source": [
        "df_train=pd.read_csv('train.csv')\n",
        "df_train.head()"
      ]
    },
    {
      "cell_type": "code",
      "execution_count": 5,
      "id": "35a52e17",
      "metadata": {
        "colab": {
          "base_uri": "https://localhost:8080/"
        },
        "id": "35a52e17",
        "outputId": "866f1158-4180-49c5-b44c-953636cfc6d9"
      },
      "outputs": [
        {
          "output_type": "execute_result",
          "data": {
            "text/plain": [
              "(9437519, 2)"
            ]
          },
          "metadata": {},
          "execution_count": 5
        }
      ],
      "source": [
        "df_train.shape"
      ]
    },
    {
      "cell_type": "code",
      "execution_count": 6,
      "id": "9b13a7c3",
      "metadata": {
        "colab": {
          "base_uri": "https://localhost:8080/",
          "height": 206
        },
        "id": "9b13a7c3",
        "outputId": "284a468d-eab2-4143-f463-f6dbbf687342"
      },
      "outputs": [
        {
          "output_type": "execute_result",
          "data": {
            "text/html": [
              "<div>\n",
              "<style scoped>\n",
              "    .dataframe tbody tr th:only-of-type {\n",
              "        vertical-align: middle;\n",
              "    }\n",
              "\n",
              "    .dataframe tbody tr th {\n",
              "        vertical-align: top;\n",
              "    }\n",
              "\n",
              "    .dataframe thead th {\n",
              "        text-align: right;\n",
              "    }\n",
              "</style>\n",
              "<table border=\"1\" class=\"dataframe\">\n",
              "  <thead>\n",
              "    <tr style=\"text-align: right;\">\n",
              "      <th></th>\n",
              "      <th>source_node</th>\n",
              "    </tr>\n",
              "  </thead>\n",
              "  <tbody>\n",
              "    <tr>\n",
              "      <th>0</th>\n",
              "      <td>20</td>\n",
              "    </tr>\n",
              "    <tr>\n",
              "      <th>1</th>\n",
              "      <td>24</td>\n",
              "    </tr>\n",
              "    <tr>\n",
              "      <th>2</th>\n",
              "      <td>31</td>\n",
              "    </tr>\n",
              "    <tr>\n",
              "      <th>3</th>\n",
              "      <td>35</td>\n",
              "    </tr>\n",
              "    <tr>\n",
              "      <th>4</th>\n",
              "      <td>42</td>\n",
              "    </tr>\n",
              "  </tbody>\n",
              "</table>\n",
              "</div>"
            ],
            "text/plain": [
              "   source_node\n",
              "0           20\n",
              "1           24\n",
              "2           31\n",
              "3           35\n",
              "4           42"
            ]
          },
          "metadata": {},
          "execution_count": 6
        }
      ],
      "source": [
        "df_test=pd.read_csv('test.csv')\n",
        "df_test.head()"
      ]
    },
    {
      "cell_type": "code",
      "source": [
        "df_test.shape"
      ],
      "metadata": {
        "colab": {
          "base_uri": "https://localhost:8080/"
        },
        "id": "Y6VnUyz1tZn4",
        "outputId": "d74407f8-69a0-44c8-e823-ab4f36bad653"
      },
      "id": "Y6VnUyz1tZn4",
      "execution_count": 7,
      "outputs": [
        {
          "output_type": "execute_result",
          "data": {
            "text/plain": [
              "(262588, 1)"
            ]
          },
          "metadata": {},
          "execution_count": 7
        }
      ]
    },
    {
      "cell_type": "code",
      "execution_count": 8,
      "id": "ff231828",
      "metadata": {
        "colab": {
          "base_uri": "https://localhost:8080/"
        },
        "id": "ff231828",
        "outputId": "e8c16027-2066-444f-d70a-50ea35b82bc0"
      },
      "outputs": [
        {
          "output_type": "stream",
          "name": "stdout",
          "text": [
            "Number of NUll Values in Training Data :  0\n",
            "Number of Duplicate Values in Training Data :  0\n"
          ]
        }
      ],
      "source": [
        "print(\"Number of NUll Values in Training Data : \",sum(df_train.isna().any(1)))\n",
        "print(\"Number of Duplicate Values in Training Data : \",sum(df_train.duplicated()))"
      ]
    },
    {
      "cell_type": "code",
      "source": [
        "edge_list = df_train.values.tolist()"
      ],
      "metadata": {
        "id": "-0KLlzY9uLLg"
      },
      "id": "-0KLlzY9uLLg",
      "execution_count": 9,
      "outputs": []
    },
    {
      "cell_type": "markdown",
      "source": [
        "---"
      ],
      "metadata": {
        "id": "sx84KxFaC8xk"
      },
      "id": "sx84KxFaC8xk"
    },
    {
      "cell_type": "code",
      "execution_count": 11,
      "id": "179b15aa",
      "metadata": {
        "id": "179b15aa"
      },
      "outputs": [],
      "source": [
        "G = nx.DiGraph(edge_list,nodetype=np.int32)\n",
        "\n",
        "pickle.dump(G,open('Graph.pkl','wb+'))\n",
        "!cp Graph.pkl drive/MyDrive"
      ]
    },
    {
      "cell_type": "markdown",
      "source": [
        "---"
      ],
      "metadata": {
        "id": "F-Ng3GIMFMJT"
      },
      "id": "F-Ng3GIMFMJT"
    },
    {
      "cell_type": "code",
      "source": [
        "G = pickle.load(open('Graph.pkl',\"rb+\"))"
      ],
      "metadata": {
        "id": "iJzepslICkA4"
      },
      "id": "iJzepslICkA4",
      "execution_count": 10,
      "outputs": []
    },
    {
      "cell_type": "markdown",
      "id": "a1cddca8",
      "metadata": {
        "id": "a1cddca8"
      },
      "source": [
        "### Basic Information of graph."
      ]
    },
    {
      "cell_type": "code",
      "source": [
        "nodes = G.nodes()\n",
        "print(\"Number of Nodes : \",len(nodes))\n",
        "print(\"Number of Edges : \",len(edge_list))"
      ],
      "metadata": {
        "colab": {
          "base_uri": "https://localhost:8080/"
        },
        "id": "qyi4mYql3UOi",
        "outputId": "6e85436e-a0ac-4733-ee34-a78187154b63"
      },
      "id": "qyi4mYql3UOi",
      "execution_count": 11,
      "outputs": [
        {
          "output_type": "stream",
          "name": "stdout",
          "text": [
            "Number of Nodes :  1862220\n",
            "Number of Edges :  9437519\n"
          ]
        }
      ]
    },
    {
      "cell_type": "markdown",
      "id": "95aabf42",
      "metadata": {
        "id": "95aabf42"
      },
      "source": [
        "# Reading 50 rows and Visualization"
      ]
    },
    {
      "cell_type": "code",
      "execution_count": 12,
      "id": "66e64498",
      "metadata": {
        "id": "66e64498"
      },
      "outputs": [],
      "source": [
        "subgraph = nx.DiGraph(edge_list[:50],nodetype=np.int32)"
      ]
    },
    {
      "cell_type": "code",
      "execution_count": 13,
      "id": "0cde16bf",
      "metadata": {
        "colab": {
          "base_uri": "https://localhost:8080/",
          "height": 593
        },
        "id": "0cde16bf",
        "outputId": "747b1655-75d8-4154-9364-9f0472b9a839"
      },
      "outputs": [
        {
          "output_type": "stream",
          "name": "stdout",
          "text": [
            "DiGraph with 66 nodes and 50 edges\n"
          ]
        },
        {
          "output_type": "display_data",
          "data": {
            "image/png": "[encoded data removed]",
            "text/plain": [
              "<Figure size 1080x720 with 1 Axes>"
            ]
          },
          "metadata": {}
        }
      ],
      "source": [
        "pos=nx.spring_layout(subgraph)\n",
        "plt.figure(figsize=(15,10))\n",
        "nx.draw_networkx(subgraph,pos,edge_color='#111',font_color='white',node_size=400)\n",
        "plt.savefig(\"graph_sample.png\")\n",
        "print(nx.info(subgraph))"
      ]
    },
    {
      "cell_type": "markdown",
      "id": "7a06e698",
      "metadata": {
        "id": "7a06e698"
      },
      "source": [
        "* inner nodes are source nodes and outer nodes are destination nodes."
      ]
    },
    {
      "cell_type": "code",
      "source": [
        "dict_in = dict(G.in_degree())\n",
        "dict_out = dict(G.out_degree())\n",
        "\n",
        "indegree_dist = list(dict_in.values())\n",
        "outdegree_dist = list(dict_out.values())"
      ],
      "metadata": {
        "id": "PC3rY5lh0wi2"
      },
      "id": "PC3rY5lh0wi2",
      "execution_count": 14,
      "outputs": []
    },
    {
      "cell_type": "code",
      "execution_count": 15,
      "id": "d535ffea",
      "metadata": {
        "colab": {
          "base_uri": "https://localhost:8080/",
          "height": 388
        },
        "id": "d535ffea",
        "outputId": "46e5fba6-5647-4763-8ba6-96f0cfc4ae5b"
      },
      "outputs": [
        {
          "output_type": "display_data",
          "data": {
            "image/png": "[encoded data removed]",
            "text/plain": [
              "<Figure size 720x432 with 1 Axes>"
            ]
          },
          "metadata": {}
        }
      ],
      "source": [
        "indegree_dist.sort()\n",
        "plt.figure(figsize=(10,6))\n",
        "plt.plot(indegree_dist)\n",
        "plt.xlabel('Number Of Users')\n",
        "plt.ylabel('Number Of Followers')\n",
        "plt.show()"
      ]
    },
    {
      "cell_type": "markdown",
      "id": "cdf266fb",
      "metadata": {
        "id": "cdf266fb"
      },
      "source": [
        "* There are very less people having more followers. i.e. we have the data of common peoples"
      ]
    },
    {
      "cell_type": "code",
      "execution_count": 16,
      "id": "f3781eb4",
      "metadata": {
        "colab": {
          "base_uri": "https://localhost:8080/"
        },
        "id": "f3781eb4",
        "outputId": "364ca9d3-560b-4d0a-f375-0f75742813a3"
      },
      "outputs": [
        {
          "output_type": "stream",
          "name": "stdout",
          "text": [
            "90 percentile value is 12.0\n",
            "91 percentile value is 13.0\n",
            "92 percentile value is 14.0\n",
            "93 percentile value is 15.0\n",
            "94 percentile value is 17.0\n",
            "95 percentile value is 19.0\n",
            "96 percentile value is 21.0\n",
            "97 percentile value is 24.0\n",
            "98 percentile value is 29.0\n",
            "99 percentile value is 40.0\n"
          ]
        }
      ],
      "source": [
        "# 90-99 percentile\n",
        "for i in range(0,10):\n",
        "    print(90+i,'percentile value is',np.percentile(indegree_dist,90+i))"
      ]
    },
    {
      "cell_type": "code",
      "execution_count": 17,
      "id": "1039e682",
      "metadata": {
        "colab": {
          "base_uri": "https://localhost:8080/"
        },
        "id": "1039e682",
        "outputId": "4dcf032a-7cfa-4d50-8a85-bdd1f4917c25"
      },
      "outputs": [
        {
          "output_type": "stream",
          "name": "stdout",
          "text": [
            "99.1 percentile value is 42.0\n",
            "99.2 percentile value is 44.0\n",
            "99.3 percentile value is 47.0\n",
            "99.4 percentile value is 50.0\n",
            "99.5 percentile value is 55.0\n",
            "99.6 percentile value is 61.0\n",
            "99.7 percentile value is 70.0\n",
            "99.8 percentile value is 84.0\n",
            "99.9 percentile value is 112.0\n",
            "100.0 percentile value is 552.0\n"
          ]
        }
      ],
      "source": [
        "# 99-100 percentile\n",
        "for i in range(1,11,1):\n",
        "    print(99+(i/10),'percentile value is',np.percentile(indegree_dist,99+(i/10)))"
      ]
    },
    {
      "cell_type": "markdown",
      "source": [
        "**Observation:**\n",
        "\n",
        "* From 90 to 99 the people having less number of followers(under 40).\n",
        "* From 99.1 to 99.9 the number of follower increases (very less number of peoples)."
      ],
      "metadata": {
        "id": "r5FCNUEB0df4"
      },
      "id": "r5FCNUEB0df4"
    },
    {
      "cell_type": "code",
      "source": [
        "outdegree_dist.sort()\n",
        "plt.figure(figsize=(10,6))\n",
        "plt.plot(indegree_dist)\n",
        "plt.xlabel('Number Of Users')\n",
        "plt.ylabel('Number Of Followings')\n",
        "plt.show()"
      ],
      "metadata": {
        "colab": {
          "base_uri": "https://localhost:8080/",
          "height": 388
        },
        "id": "oV4VVdji18uA",
        "outputId": "3a7cfe55-b2f7-44ff-f2c7-f696a026ff1c"
      },
      "id": "oV4VVdji18uA",
      "execution_count": 18,
      "outputs": [
        {
          "output_type": "display_data",
          "data": {
            "image/png": "[encoded data removed]",
            "text/plain": [
              "<Figure size 720x432 with 1 Axes>"
            ]
          },
          "metadata": {}
        }
      ]
    },
    {
      "cell_type": "markdown",
      "source": [
        "* There are very less people having more followings."
      ],
      "metadata": {
        "id": "nxVVzd0y2ZkR"
      },
      "id": "nxVVzd0y2ZkR"
    },
    {
      "cell_type": "code",
      "source": [
        "# 90-100 percentile\n",
        "for i in range(0,10):\n",
        "    print(90+i,'percentile value is',np.percentile(outdegree_dist,90+i))"
      ],
      "metadata": {
        "colab": {
          "base_uri": "https://localhost:8080/"
        },
        "id": "y_8Et8tu2DiG",
        "outputId": "4bcbd712-1356-491b-c520-f6232439b7e8"
      },
      "id": "y_8Et8tu2DiG",
      "execution_count": 19,
      "outputs": [
        {
          "output_type": "stream",
          "name": "stdout",
          "text": [
            "90 percentile value is 12.0\n",
            "91 percentile value is 13.0\n",
            "92 percentile value is 14.0\n",
            "93 percentile value is 15.0\n",
            "94 percentile value is 17.0\n",
            "95 percentile value is 19.0\n",
            "96 percentile value is 21.0\n",
            "97 percentile value is 24.0\n",
            "98 percentile value is 29.0\n",
            "99 percentile value is 40.0\n"
          ]
        }
      ]
    },
    {
      "cell_type": "code",
      "source": [
        "# 99-100 percentile\n",
        "for i in range(1,11,1):\n",
        "    print(99+(i/10),'percentile value is',np.percentile(outdegree_dist,99+(i/10)))"
      ],
      "metadata": {
        "colab": {
          "base_uri": "https://localhost:8080/"
        },
        "id": "qcNejg9Q2D47",
        "outputId": "d38ad370-cbb6-476e-ffbb-2abf4f1ba64c"
      },
      "id": "qcNejg9Q2D47",
      "execution_count": 20,
      "outputs": [
        {
          "output_type": "stream",
          "name": "stdout",
          "text": [
            "99.1 percentile value is 42.0\n",
            "99.2 percentile value is 45.0\n",
            "99.3 percentile value is 48.0\n",
            "99.4 percentile value is 52.0\n",
            "99.5 percentile value is 56.0\n",
            "99.6 percentile value is 63.0\n",
            "99.7 percentile value is 73.0\n",
            "99.8 percentile value is 90.0\n",
            "99.9 percentile value is 123.0\n",
            "100.0 percentile value is 1566.0\n"
          ]
        }
      ]
    },
    {
      "cell_type": "code",
      "execution_count": 21,
      "id": "96ab7687",
      "metadata": {
        "colab": {
          "base_uri": "https://localhost:8080/"
        },
        "id": "96ab7687",
        "outputId": "658e2c7c-20bf-4af7-ee35-a58bddc6d9b9"
      },
      "outputs": [
        {
          "output_type": "stream",
          "name": "stdout",
          "text": [
            "No of persons those are not following anyone are 274512 and % is 14.741115442858524\n"
          ]
        }
      ],
      "source": [
        "print('No of persons those are not following anyone are' ,sum(np.array(outdegree_dist)==0),'and % is', sum(np.array(outdegree_dist)==0)*100/len(outdegree_dist))"
      ]
    },
    {
      "cell_type": "code",
      "execution_count": 22,
      "id": "46c18d3c",
      "metadata": {
        "colab": {
          "base_uri": "https://localhost:8080/"
        },
        "id": "46c18d3c",
        "outputId": "4645430d-ec87-49e3-acaa-4189a173fa9d"
      },
      "outputs": [
        {
          "output_type": "stream",
          "name": "stdout",
          "text": [
            "No of persons who have no followers 188043 and % is 10.097786512871734\n"
          ]
        }
      ],
      "source": [
        "print('No of persons who have no followers' ,sum(np.array(indegree_dist)==0),'and % is',sum(np.array(indegree_dist)==0)*100/len(indegree_dist))"
      ]
    },
    {
      "cell_type": "markdown",
      "id": "c3b18647",
      "metadata": {
        "id": "c3b18647"
      },
      "source": [
        "**Observation**\n",
        "* It indicates that there are many people who are not using or not active on social network."
      ]
    },
    {
      "cell_type": "code",
      "execution_count": 23,
      "id": "b5d744d3",
      "metadata": {
        "id": "b5d744d3"
      },
      "outputs": [],
      "source": [
        "d = Counter(dict_in) + Counter(dict_out)\n",
        "in_out_degree = np.array(list(d.values()))"
      ]
    },
    {
      "cell_type": "code",
      "execution_count": 24,
      "id": "a9620ae9",
      "metadata": {
        "colab": {
          "base_uri": "https://localhost:8080/",
          "height": 388
        },
        "id": "a9620ae9",
        "outputId": "189b89c3-0d30-46ef-a2eb-6781487c6ff2"
      },
      "outputs": [
        {
          "output_type": "display_data",
          "data": {
            "image/png": "[encoded data removed]",
            "text/plain": [
              "<Figure size 720x432 with 1 Axes>"
            ]
          },
          "metadata": {}
        }
      ],
      "source": [
        "in_out_degree_sort = sorted(in_out_degree)\n",
        "plt.figure(figsize=(10,6))\n",
        "plt.plot(in_out_degree_sort)\n",
        "plt.xlabel('Number Of Users')\n",
        "plt.ylabel('Number Of people each person is followings + followers')\n",
        "plt.show()"
      ]
    },
    {
      "cell_type": "code",
      "execution_count": 25,
      "id": "df11385e",
      "metadata": {
        "colab": {
          "base_uri": "https://localhost:8080/"
        },
        "id": "df11385e",
        "outputId": "1989b4a3-e651-4d43-8df0-3c77c07037af"
      },
      "outputs": [
        {
          "output_type": "stream",
          "name": "stdout",
          "text": [
            "90 percentile value is 24.0\n",
            "91 percentile value is 26.0\n",
            "92 percentile value is 28.0\n",
            "93 percentile value is 31.0\n",
            "94 percentile value is 33.0\n",
            "95 percentile value is 37.0\n",
            "96 percentile value is 41.0\n",
            "97 percentile value is 48.0\n",
            "98 percentile value is 58.0\n",
            "99 percentile value is 79.0\n",
            "100 percentile value is 1579.0\n"
          ]
        }
      ],
      "source": [
        "# 90-100 percentile\n",
        "for i in range(0,11):\n",
        "    print(90+i,'percentile value is',np.percentile(in_out_degree_sort,90+i))"
      ]
    },
    {
      "cell_type": "code",
      "execution_count": 26,
      "id": "beb53cea",
      "metadata": {
        "colab": {
          "base_uri": "https://localhost:8080/"
        },
        "id": "beb53cea",
        "outputId": "3e06b7e8-df48-4c9f-a93d-b27dfc6d60a3"
      },
      "outputs": [
        {
          "output_type": "stream",
          "name": "stdout",
          "text": [
            "99.1 percentile value is 83.0\n",
            "99.2 percentile value is 87.0\n",
            "99.3 percentile value is 93.0\n",
            "99.4 percentile value is 99.0\n",
            "99.5 percentile value is 108.0\n",
            "99.6 percentile value is 120.0\n",
            "99.7 percentile value is 138.0\n",
            "99.8 percentile value is 168.0\n",
            "99.9 percentile value is 221.0\n",
            "100.0 percentile value is 1579.0\n"
          ]
        }
      ],
      "source": [
        "# 99-100 percentile\n",
        "for i in range(10,110,10):\n",
        "    print(99+(i/100),'percentile value is',np.percentile(in_out_degree_sort,99+(i/100)))"
      ]
    },
    {
      "cell_type": "markdown",
      "source": [
        "# Generating missing edges from given graph"
      ],
      "metadata": {
        "id": "qP1-hOjN29Jt"
      },
      "id": "qP1-hOjN29Jt"
    },
    {
      "cell_type": "markdown",
      "source": [
        "---"
      ],
      "metadata": {
        "id": "NRjyRrjTGuzu"
      },
      "id": "NRjyRrjTGuzu"
    },
    {
      "cell_type": "code",
      "execution_count": null,
      "id": "657cb411",
      "metadata": {
        "id": "657cb411"
      },
      "outputs": [],
      "source": [
        "#the dict will contain a tuple of 2 nodes as key and the value will be 1 is the nodes are connected else -1\n",
        "edges = dict()\n",
        "\n",
        "for edge in edge_list: \n",
        "\tedges[(edge[0], edge[1])] = 1 # if edge is present in r then 1.\n",
        "\n",
        "# missing edges.\n",
        "missing_edges = set([])\n",
        "\n",
        "for a in range(1,len(nodes) + 1):\n",
        "\tfor b in range(1,len(nodes) + 1):\n",
        "\t\ttmp = edges.get((a,b),-1)\n",
        "\t\tif tmp == -1 and a != b: # if edge is missing and a and b are not same.\n",
        "\t\t\tmissing_edges.add((a,b))\n",
        "\n",
        "pickle.dump(missing_edges,open('missing_edges.pkl','wb+'))\n",
        "!cp missing_edges.pkl drive/MyDrive"
      ]
    },
    {
      "cell_type": "markdown",
      "source": [
        "---"
      ],
      "metadata": {
        "id": "CG7ks2Y9Gv3a"
      },
      "id": "CG7ks2Y9Gv3a"
    },
    {
      "cell_type": "code",
      "source": [
        "missing_edges = pickle.load(open(\"missing_edges.pkl\",\"rb+\"))"
      ],
      "metadata": {
        "id": "VERBN-P18y-v"
      },
      "id": "VERBN-P18y-v",
      "execution_count": null,
      "outputs": []
    },
    {
      "cell_type": "code",
      "execution_count": null,
      "id": "3e865544",
      "metadata": {
        "id": "3e865544"
      },
      "outputs": [],
      "source": [
        "len(missing_edges)"
      ]
    },
    {
      "cell_type": "markdown",
      "id": "40982649",
      "metadata": {
        "id": "40982649"
      },
      "source": [
        "* positive -> connected nodes\n",
        "* negative -> missing nodes"
      ]
    },
    {
      "cell_type": "code",
      "execution_count": null,
      "id": "070a7566",
      "metadata": {
        "id": "070a7566"
      },
      "outputs": [],
      "source": [
        "df_pos = df_train\n",
        "df_neg = pd.DataFrame(list(missing_edges), columns=['source_node', 'destination_node'])\n",
        "\n",
        "print(\"Number of nodes in the graph with edges\", df_pos.shape[0])\n",
        "print(\"Number of nodes in the graph without edges\", df_neg.shape[0])"
      ]
    },
    {
      "cell_type": "markdown",
      "source": [
        "# Trian Test split \n"
      ],
      "metadata": {
        "id": "8hl6nXAe7OSM"
      },
      "id": "8hl6nXAe7OSM"
    },
    {
      "cell_type": "code",
      "source": [
        "X_train_pos, X_test_pos, y_train_pos, y_test_pos  = train_test_split(df_pos,np.ones(len(df_pos)),test_size=0.2, random_state=9)\n",
        "X_train_neg, X_test_neg, y_train_neg, y_test_neg  = train_test_split(df_neg,np.zeros(len(df_neg)),test_size=0.2, random_state=9)\n",
        "\n",
        "\n",
        "print(\"Number of nodes in the Train data graph with edges\", X_train_pos.shape[0],\" : \",y_train_pos.shape[0])\n",
        "print(\"Number of nodes in the Train data graph without edges\", X_train_neg.shape[0],\" : \", y_train_neg.shape[0])\n",
        "\n",
        "print(\"Number of nodes in the Test data graph with edges\", X_test_pos.shape[0],\" : \",y_test_pos.shape[0])\n",
        "print(\"Number of nodes in the Test data graph without edges\", X_test_neg.shape[0],\" : \",y_test_neg.shape[0])"
      ],
      "metadata": {
        "id": "T62-V9vy7LX6"
      },
      "id": "T62-V9vy7LX6",
      "execution_count": null,
      "outputs": []
    },
    {
      "cell_type": "code",
      "execution_count": null,
      "id": "f4b13751",
      "metadata": {
        "id": "f4b13751"
      },
      "outputs": [],
      "source": [
        "X_train_pos.head()"
      ]
    },
    {
      "cell_type": "code",
      "execution_count": null,
      "id": "edbafabc",
      "metadata": {
        "id": "edbafabc"
      },
      "outputs": [],
      "source": [
        "X_test_pos.head()"
      ]
    },
    {
      "cell_type": "code",
      "execution_count": null,
      "id": "7313a945",
      "metadata": {
        "id": "7313a945"
      },
      "outputs": [],
      "source": [
        "y_train_pos"
      ]
    },
    {
      "cell_type": "code",
      "execution_count": null,
      "id": "792f7e9f",
      "metadata": {
        "id": "792f7e9f"
      },
      "outputs": [],
      "source": [
        "y_test_pos"
      ]
    },
    {
      "cell_type": "markdown",
      "id": "1e35c092",
      "metadata": {
        "id": "1e35c092"
      },
      "source": [
        "Reading only the train positive (present edges) file"
      ]
    },
    {
      "cell_type": "code",
      "execution_count": null,
      "id": "7cec2da6",
      "metadata": {
        "id": "7cec2da6"
      },
      "outputs": [],
      "source": [
        "train_graph=nx.read_edgelist('data/train_pos_after_eda.csv',delimiter=',',create_using=nx.DiGraph(),nodetype=int)\n",
        "print(nx.info(train_graph))"
      ]
    },
    {
      "cell_type": "markdown",
      "id": "add3981b",
      "metadata": {
        "id": "add3981b"
      },
      "source": [
        "# Feature Engineering"
      ]
    },
    {
      "cell_type": "markdown",
      "id": "597fe1f2",
      "metadata": {
        "id": "597fe1f2"
      },
      "source": [
        "1.Jaccard distance"
      ]
    },
    {
      "cell_type": "code",
      "execution_count": null,
      "id": "6240f545",
      "metadata": {
        "id": "6240f545"
      },
      "outputs": [],
      "source": [
        "#for followees\n",
        "def jaccard_for_followees(a,b):\n",
        "    try:\n",
        "        if len(set(train_graph.successors(a))) == 0  | len(set(train_graph.successors(b))) == 0:\n",
        "            return 0\n",
        "        sim = (len(set(train_graph.successors(a)).intersection(set(train_graph.successors(b)))))/\\\n",
        "                                    (len(set(train_graph.successors(a)).union(set(train_graph.successors(b)))))\n",
        "    except:\n",
        "        return 0\n",
        "    return sim"
      ]
    },
    {
      "cell_type": "code",
      "execution_count": null,
      "id": "a6b6c258",
      "metadata": {
        "id": "a6b6c258"
      },
      "outputs": [],
      "source": [
        "#for followers\n",
        "def jaccard_for_followers(a,b):\n",
        "    try:\n",
        "        if len(set(train_graph.predecessors(a))) == 0  | len(set(g.predecessors(b))) == 0:\n",
        "            return 0\n",
        "        sim = (len(set(train_graph.predecessors(a)).intersection(set(train_graph.predecessors(b)))))/\\\n",
        "                                 (len(set(train_graph.predecessors(a)).union(set(train_graph.predecessors(b)))))\n",
        "        return sim\n",
        "    except:\n",
        "        return 0"
      ]
    },
    {
      "cell_type": "markdown",
      "id": "33e08deb",
      "metadata": {
        "id": "33e08deb"
      },
      "source": [
        "\\begin{equation}\n",
        "CosineDistance = \\frac{|X\\cap Y|}{SQRT(|X|\\cdot|Y|)} \n",
        "\\end{equation}"
      ]
    },
    {
      "cell_type": "markdown",
      "id": "a2aa20f6",
      "metadata": {
        "id": "a2aa20f6"
      },
      "source": [
        "2.Cosine distance"
      ]
    },
    {
      "cell_type": "code",
      "execution_count": null,
      "id": "313fe829",
      "metadata": {
        "id": "313fe829"
      },
      "outputs": [],
      "source": [
        "#for followees\n",
        "def cosine_for_followees(a,b):\n",
        "    try:\n",
        "        if len(set(train_graph.successors(a))) == 0  | len(set(train_graph.successors(b))) == 0:\n",
        "            return 0\n",
        "        sim = (len(set(train_graph.successors(a)).intersection(set(train_graph.successors(b)))))/\\\n",
        "                                    (math.sqrt(len(set(train_graph.successors(a)))*len((set(train_graph.successors(b))))))\n",
        "        return sim\n",
        "    except:\n",
        "        return 0"
      ]
    },
    {
      "cell_type": "code",
      "execution_count": null,
      "id": "4076cc72",
      "metadata": {
        "id": "4076cc72"
      },
      "outputs": [],
      "source": [
        "def cosine_for_followers(a,b):\n",
        "    try:\n",
        "        \n",
        "        if len(set(train_graph.predecessors(a))) == 0  | len(set(train_graph.predecessors(b))) == 0:\n",
        "            return 0\n",
        "        sim = (len(set(train_graph.predecessors(a)).intersection(set(train_graph.predecessors(b)))))/\\\n",
        "                                     (math.sqrt(len(set(train_graph.predecessors(a))))*(len(set(train_graph.predecessors(b)))))\n",
        "        return sim\n",
        "    except:\n",
        "        return 0"
      ]
    },
    {
      "cell_type": "markdown",
      "id": "b0a2097d",
      "metadata": {
        "id": "b0a2097d"
      },
      "source": [
        "3.page rank"
      ]
    },
    {
      "cell_type": "code",
      "execution_count": null,
      "id": "2bb3d62b",
      "metadata": {
        "id": "2bb3d62b"
      },
      "outputs": [],
      "source": [
        "pr = nx.pagerank(train_graph, alpha=0.85)\n",
        "pickle.dump(pr,open('data/page_rank.p','wb'))"
      ]
    },
    {
      "cell_type": "code",
      "execution_count": null,
      "id": "ec7cc948",
      "metadata": {
        "id": "ec7cc948"
      },
      "outputs": [],
      "source": [
        "mean_pr=float(sum(pr.values())) / len(pr)"
      ]
    },
    {
      "cell_type": "code",
      "execution_count": null,
      "id": "f456221b",
      "metadata": {
        "id": "f456221b"
      },
      "outputs": [],
      "source": [
        "print('min',pr[min(pr, key=pr.get)])\n",
        "print('max',pr[max(pr, key=pr.get)])\n",
        "print('mean',float(sum(pr.values())) / len(pr))"
      ]
    },
    {
      "cell_type": "markdown",
      "id": "105e77b1",
      "metadata": {
        "id": "105e77b1"
      },
      "source": [
        "For all the data points which are part of the test dataset but are not in the training dataset we will not have the pagerank for these data points.For these data points we will use the mean pagerank as imputation."
      ]
    },
    {
      "cell_type": "markdown",
      "id": "5ea5a1d3",
      "metadata": {
        "id": "5ea5a1d3"
      },
      "source": [
        "4.shortest path"
      ]
    },
    {
      "cell_type": "code",
      "execution_count": null,
      "id": "78d88f01",
      "metadata": {
        "id": "78d88f01"
      },
      "outputs": [],
      "source": [
        "#if has direct edge then deleting that edge and calculating shortest path\n",
        "def compute_shortest_path_length(a,b):\n",
        "    p=-1\n",
        "    try:\n",
        "        if train_graph.has_edge(a,b):\n",
        "            train_graph.remove_edge(a,b)\n",
        "            p= nx.shortest_path_length(train_graph,source=a,target=b)\n",
        "            train_graph.add_edge(a,b)\n",
        "        else:\n",
        "            p= nx.shortest_path_length(train_graph,source=a,target=b)\n",
        "        return p\n",
        "    except:\n",
        "        return -1"
      ]
    },
    {
      "cell_type": "markdown",
      "id": "167c04da",
      "metadata": {
        "id": "167c04da"
      },
      "source": [
        "5.connected components\n",
        "Example of strongly connected components:In a particular component, there is atleast one path from any given node to any other node.\n",
        "\n",
        "https://en.wikipedia.org/wiki/Strongly_connected_component#/media/File:Scc.png\n",
        "\n",
        "Every strongly connected component is a weakly connected component.However, if it is not a strongly connected component, then to check whether it is a weakly connected component remove the directions of the edges and see if still there is atleast one path from any given node to any other node."
      ]
    },
    {
      "cell_type": "markdown",
      "id": "0eae4c0e",
      "metadata": {
        "id": "0eae4c0e"
      },
      "source": [
        "5.Weakly connected components"
      ]
    },
    {
      "cell_type": "code",
      "execution_count": null,
      "id": "6a25e449",
      "metadata": {
        "id": "6a25e449"
      },
      "outputs": [],
      "source": [
        "#getting weekly connected edges from graph \n",
        "wcc=list(nx.weakly_connected_components(train_graph))\n",
        "def belongs_to_same_wcc(a,b):\n",
        "    index = []\n",
        "    if train_graph.has_edge(b,a):\n",
        "        return 1\n",
        "    if train_graph.has_edge(a,b):\n",
        "            for i in wcc:\n",
        "                if a in i:\n",
        "                    index= i\n",
        "                    break\n",
        "            if (b in index):\n",
        "                train_graph.remove_edge(a,b)\n",
        "                if compute_shortest_path_length(a,b)==-1:\n",
        "                    train_graph.add_edge(a,b)\n",
        "                    return 0\n",
        "                else:\n",
        "                    train_graph.add_edge(a,b)\n",
        "                    return 1\n",
        "            else:\n",
        "                return 0\n",
        "    else:\n",
        "            for i in wcc:\n",
        "                if a in i:\n",
        "                    index= i\n",
        "                    break\n",
        "            if(b in index):\n",
        "                return 1\n",
        "            else:\n",
        "                return 0"
      ]
    },
    {
      "cell_type": "markdown",
      "id": "1360da45",
      "metadata": {
        "id": "1360da45"
      },
      "source": [
        "6.Adar Index"
      ]
    },
    {
      "cell_type": "markdown",
      "id": "141c5ef7",
      "metadata": {
        "id": "141c5ef7"
      },
      "source": [
        "Adamic/Adar measures is defined as inverted sum of degrees of common neighbours for given two vertices.\n",
        "$$A(x,y)=\\sum_{u \\in N(x) \\cap N(y)}\\frac{1}{log(|N(u)|)}$$"
      ]
    },
    {
      "cell_type": "code",
      "execution_count": null,
      "id": "72cd95a3",
      "metadata": {
        "id": "72cd95a3"
      },
      "outputs": [],
      "source": [
        "#adar index\n",
        "def calc_adar_in(a,b):\n",
        "    sum=0\n",
        "    try:\n",
        "        n=list(set(train_graph.successors(a)).intersection(set(train_graph.successors(b))))\n",
        "        if len(n)!=0:\n",
        "            for i in n:\n",
        "                sum=sum+(1/np.log10(len(list(train_graph.predecessors(i)))))\n",
        "            return sum\n",
        "        else:\n",
        "            return 0\n",
        "    except:\n",
        "        return 0"
      ]
    },
    {
      "cell_type": "markdown",
      "id": "871a7d6c",
      "metadata": {
        "id": "871a7d6c"
      },
      "source": [
        "7.Follow Back"
      ]
    },
    {
      "cell_type": "code",
      "execution_count": null,
      "id": "5f88c159",
      "metadata": {
        "id": "5f88c159"
      },
      "outputs": [],
      "source": [
        "def follows_back(a,b):\n",
        "    if train_graph.has_edge(b,a):\n",
        "        return 1\n",
        "    else:\n",
        "        return 0"
      ]
    },
    {
      "cell_type": "markdown",
      "id": "30addaf2",
      "metadata": {
        "id": "30addaf2"
      },
      "source": [
        "8.Katz Centrality\n",
        "\n",
        "https://www.geeksforgeeks.org/katz-centrality-centrality-measure/"
      ]
    },
    {
      "cell_type": "code",
      "execution_count": null,
      "id": "12ab2c44",
      "metadata": {
        "id": "12ab2c44"
      },
      "outputs": [],
      "source": [
        "katz = nx.katz.katz_centrality(train_graph,alpha=0.005,beta=1)\n",
        "pickle.dump(katz,open('data/fea_sample/katz.p','wb'))"
      ]
    },
    {
      "cell_type": "code",
      "execution_count": null,
      "id": "b9c29e6c",
      "metadata": {
        "id": "b9c29e6c"
      },
      "outputs": [],
      "source": [
        "mean_katz=float(sum(katz.values())) / len(katz)"
      ]
    },
    {
      "cell_type": "code",
      "execution_count": null,
      "id": "113c0374",
      "metadata": {
        "id": "113c0374"
      },
      "outputs": [],
      "source": [
        "print('min',katz[min(katz, key=katz.get)])\n",
        "print('max',katz[max(katz, key=katz.get)])\n",
        "print('mean',float(sum(katz.values())) / len(katz))"
      ]
    },
    {
      "cell_type": "markdown",
      "id": "b5442b2d",
      "metadata": {
        "id": "b5442b2d"
      },
      "source": [
        "9.HITS\n",
        "\n",
        "The HITS algorithm computes two numbers for a node. Authorities estimates the node value based on the incoming links. Hubs estimates the node value based on outgoing links.\n",
        "\n",
        "https://en.wikipedia.org/wiki/HITS_algorithm"
      ]
    },
    {
      "cell_type": "code",
      "execution_count": null,
      "id": "405c2f38",
      "metadata": {
        "id": "405c2f38"
      },
      "outputs": [],
      "source": [
        "hits = nx.hits(train_graph, max_iter=100, tol=1e-08, nstart=None, normalized=True)\n",
        "pickle.dump(hits,open('data/fea_sample/hits.p','wb'))"
      ]
    },
    {
      "cell_type": "code",
      "execution_count": null,
      "id": "7d561d14",
      "metadata": {
        "id": "7d561d14"
      },
      "outputs": [],
      "source": [
        "print('min',hits[0][min(hits[0], key=hits[0].get)])\n",
        "print('max',hits[0][max(hits[0], key=hits[0].get)])\n",
        "print('mean',float(sum(hits[0].values())) / len(hits[0]))"
      ]
    },
    {
      "cell_type": "markdown",
      "id": "ebf5fd8f",
      "metadata": {
        "id": "ebf5fd8f"
      },
      "source": [
        "Sampling the dataset"
      ]
    },
    {
      "cell_type": "code",
      "execution_count": null,
      "id": "6ee6c64a",
      "metadata": {
        "id": "6ee6c64a"
      },
      "outputs": [],
      "source": [
        "filename = \"data/train_after_eda.csv\"\n",
        "n_train = sum(1 for line in open(filename)) #number of records in file (excludes header)\n",
        "s = 100000 #desired sample size\n",
        "skip_train = sorted(random.sample(range(1,n_train+1),n_train-s))"
      ]
    },
    {
      "cell_type": "code",
      "execution_count": null,
      "id": "071fef94",
      "metadata": {
        "id": "071fef94"
      },
      "outputs": [],
      "source": [
        "filename = \"data/test_after_eda.csv\"\n",
        "n_test = sum(1 for line in open(filename)) #number of records in file (excludes header)\n",
        "s = 50000 #desired sample size\n",
        "skip_test = sorted(random.sample(range(1,n_test+1),n_test-s))"
      ]
    },
    {
      "cell_type": "code",
      "execution_count": null,
      "id": "c9363366",
      "metadata": {
        "id": "c9363366"
      },
      "outputs": [],
      "source": [
        "print(\"Number of rows in the train data file:\", n_train)\n",
        "print(\"Number of rows we are going to elimiate in train data are\",len(skip_train))\n",
        "print(\"Number of rows in the test data file:\", n_test)\n",
        "print(\"Number of rows we are going to elimiate in test data are\",len(skip_test))"
      ]
    },
    {
      "cell_type": "code",
      "execution_count": null,
      "id": "c35a3dc2",
      "metadata": {
        "id": "c35a3dc2"
      },
      "outputs": [],
      "source": [
        "df_final_train = pd.read_csv('data/train_after_eda.csv', skiprows=skip_train, names=['source_node', 'destination_node'])\n",
        "df_final_train['indicator_link'] = pd.read_csv('data/train_y.csv', skiprows=skip_train, names=['indicator_link'])\n",
        "print(\"Our train matrix size \",df_final_train.shape)\n",
        "df_final_train.head(2)"
      ]
    },
    {
      "cell_type": "code",
      "execution_count": null,
      "id": "df541a6b",
      "metadata": {
        "id": "df541a6b"
      },
      "outputs": [],
      "source": [
        "df_final_test = pd.read_csv('data/test_after_eda.csv', skiprows=skip_test, names=['source_node', 'destination_node'])\n",
        "df_final_test['indicator_link'] = pd.read_csv('data/test_y.csv', skiprows=skip_test, names=['indicator_link'])\n",
        "print(\"Our test matrix size \",df_final_test.shape)\n",
        "df_final_test.head(2)"
      ]
    },
    {
      "cell_type": "code",
      "execution_count": null,
      "id": "6b966978",
      "metadata": {
        "id": "6b966978"
      },
      "outputs": [],
      "source": [
        "start_time = time()\n",
        "#mapping jaccrd followers to train and test data\n",
        "df_final_train['jaccard_followers'] = df_final_train.apply(lambda row:\n",
        "\t\t\t\t\t\t\t\t\t\tjaccard_for_followers(row['source_node'],row['destination_node']),axis=1)\n",
        "df_final_test['jaccard_followers'] = df_final_test.apply(lambda row:\n",
        "\t\t\t\t\t\t\t\t\t\tjaccard_for_followers(row['source_node'],row['destination_node']),axis=1)\n",
        "\n",
        "#mapping jaccrd followees to train and test data\n",
        "df_final_train['jaccard_followees'] = df_final_train.apply(lambda row:\n",
        "\t\t\t\t\t\t\t\t\t\tjaccard_for_followees(row['source_node'],row['destination_node']),axis=1)\n",
        "df_final_test['jaccard_followees'] = df_final_test.apply(lambda row:\n",
        "\t\t\t\t\t\t\t\t\t\tjaccard_for_followees(row['source_node'],row['destination_node']),axis=1)\n",
        "\n",
        "\n",
        "\t#mapping jaccrd followers to train and test data\n",
        "df_final_train['cosine_followers'] = df_final_train.apply(lambda row:\n",
        "\t\t\t\t\t\t\t\t\t\tcosine_for_followers(row['source_node'],row['destination_node']),axis=1)\n",
        "df_final_test['cosine_followers'] = df_final_test.apply(lambda row:\n",
        "\t\t\t\t\t\t\t\t\t\tcosine_for_followers(row['source_node'],row['destination_node']),axis=1)\n",
        "\n",
        "#mapping jaccrd followees to train and test data\n",
        "df_final_train['cosine_followees'] = df_final_train.apply(lambda row:\n",
        "\t\t\t\t\t\t\t\t\t\tcosine_for_followees(row['source_node'],row['destination_node']),axis=1)\n",
        "df_final_test['cosine_followees'] = df_final_test.apply(lambda row:\n",
        "\t\t\t\t\t\t\t\t\t\tcosine_for_followees(row['source_node'],row['destination_node']),axis=1)\n",
        "print(\"--- %s seconds ---\" % (time() - start_time))"
      ]
    },
    {
      "cell_type": "code",
      "execution_count": null,
      "id": "542c43ea",
      "metadata": {
        "id": "542c43ea"
      },
      "outputs": [],
      "source": [
        "def compute_features_stage1(df_final):\n",
        "    #calculating no of followers followees for source and destination\n",
        "    #calculating intersection of followers and followees for source and destination\n",
        "    num_followers_s=[]\n",
        "    num_followees_s=[]\n",
        "    num_followers_d=[]\n",
        "    num_followees_d=[]\n",
        "    inter_followers=[]\n",
        "    inter_followees=[]\n",
        "    for i,row in df_final.iterrows():\n",
        "        try:\n",
        "            s1=set(train_graph.predecessors(row['source_node']))\n",
        "            s2=set(train_graph.successors(row['source_node']))\n",
        "        except:\n",
        "            s1 = set()\n",
        "            s2 = set()\n",
        "        try:\n",
        "            d1=set(train_graph.predecessors(row['destination_node']))\n",
        "            d2=set(train_graph.successors(row['destination_node']))\n",
        "        except:\n",
        "            d1 = set()\n",
        "            d2 = set()\n",
        "        num_followers_s.append(len(s1))\n",
        "        num_followees_s.append(len(s2))\n",
        "\n",
        "        num_followers_d.append(len(d1))\n",
        "        num_followees_d.append(len(d2))\n",
        "\n",
        "        inter_followers.append(len(s1.intersection(d1)))\n",
        "        inter_followees.append(len(s2.intersection(d2)))\n",
        "    \n",
        "    return num_followers_s, num_followers_d, num_followees_s, num_followees_d, inter_followers, inter_followees"
      ]
    },
    {
      "cell_type": "code",
      "execution_count": null,
      "id": "c7210666",
      "metadata": {
        "id": "c7210666"
      },
      "outputs": [],
      "source": [
        "df_final_train['num_followers_s'], df_final_train['num_followers_d'], \\\n",
        "df_final_train['num_followees_s'], df_final_train['num_followees_d'], \\\n",
        "df_final_train['inter_followers'], df_final_train['inter_followees']= compute_features_stage1(df_final_train)"
      ]
    },
    {
      "cell_type": "code",
      "execution_count": null,
      "id": "cf8911f5",
      "metadata": {
        "id": "cf8911f5"
      },
      "outputs": [],
      "source": [
        "df_final_test['num_followers_s'], df_final_test['num_followers_d'], \\\n",
        "df_final_test['num_followees_s'], df_final_test['num_followees_d'], \\\n",
        "df_final_test['inter_followers'], df_final_test['inter_followees']= compute_features_stage1(df_final_test)"
      ]
    },
    {
      "cell_type": "code",
      "execution_count": null,
      "id": "d974e14f",
      "metadata": {
        "id": "d974e14f"
      },
      "outputs": [],
      "source": [
        "hdf = HDFStore('data/fea_sample/storage_sample_stage1.h5')\n",
        "hdf.put('train_df',df_final_train, format='table', data_columns=True)\n",
        "hdf.put('test_df',df_final_test, format='table', data_columns=True)\n",
        "hdf.close()"
      ]
    },
    {
      "cell_type": "code",
      "execution_count": null,
      "id": "218337db",
      "metadata": {
        "id": "218337db"
      },
      "outputs": [],
      "source": [
        "start_time = time()\n",
        "#mapping adar index on train\n",
        "df_final_train['adar_index'] = df_final_train.apply(lambda row: calc_adar_in(row['source_node'],row['destination_node']),axis=1)\n",
        "#mapping adar index on test\n",
        "df_final_test['adar_index'] = df_final_test.apply(lambda row: calc_adar_in(row['source_node'],row['destination_node']),axis=1)\n",
        "\n",
        "#--------------------------------------------------------------------------------------------------------\n",
        "#mapping followback or not on train\n",
        "df_final_train['follows_back'] = df_final_train.apply(lambda row: follows_back(row['source_node'],row['destination_node']),axis=1)\n",
        "\n",
        "#mapping followback or not on test\n",
        "df_final_test['follows_back'] = df_final_test.apply(lambda row: follows_back(row['source_node'],row['destination_node']),axis=1)\n",
        "\n",
        "#--------------------------------------------------------------------------------------------------------\n",
        "#mapping same component of wcc or not on train\n",
        "df_final_train['same_comp'] = df_final_train.apply(lambda row: belongs_to_same_wcc(row['source_node'],row['destination_node']),axis=1)\n",
        "\n",
        "##mapping same component of wcc or not on train\n",
        "df_final_test['same_comp'] = df_final_test.apply(lambda row: belongs_to_same_wcc(row['source_node'],row['destination_node']),axis=1)\n",
        "\n",
        "#--------------------------------------------------------------------------------------------------------\n",
        "#mapping shortest path on train \n",
        "df_final_train['shortest_path'] = df_final_train.apply(lambda row: compute_shortest_path_length(row['source_node'],row['destination_node']),axis=1)\n",
        "#mapping shortest path on test\n",
        "df_final_test['shortest_path'] = df_final_test.apply(lambda row: compute_shortest_path_length(row['source_node'],row['destination_node']),axis=1)\n",
        "\n",
        "hdf = HDFStore('data/fea_sample/storage_sample_stage2.h5')\n",
        "hdf.put('train_df',df_final_train, format='table', data_columns=True)\n",
        "hdf.put('test_df',df_final_test, format='table', data_columns=True)\n",
        "hdf.close()\n",
        "print(\"--- %s seconds ---\" % (time() - start_time))"
      ]
    },
    {
      "cell_type": "code",
      "execution_count": null,
      "id": "7090f6f4",
      "metadata": {
        "id": "7090f6f4"
      },
      "outputs": [],
      "source": [
        "file = open(\"data/page_rank1.p\",\"rb\")"
      ]
    },
    {
      "cell_type": "code",
      "execution_count": null,
      "id": "79bb5462",
      "metadata": {
        "id": "79bb5462"
      },
      "outputs": [],
      "source": [
        "pr = pickle.load(file)"
      ]
    },
    {
      "cell_type": "code",
      "execution_count": null,
      "id": "aebb09d7",
      "metadata": {
        "id": "aebb09d7"
      },
      "outputs": [],
      "source": [
        "start_time = time()\n",
        "#page rank for source and destination in Train and Test\n",
        "#if anything not there in train graph then adding mean page rank \n",
        "df_final_train['page_rank_s'] = df_final_train.source_node.apply(lambda x:pr.get(x,mean_pr))\n",
        "df_final_train['page_rank_d'] = df_final_train.destination_node.apply(lambda x:pr.get(x,mean_pr))\n",
        "\n",
        "df_final_test['page_rank_s'] = df_final_test.source_node.apply(lambda x:pr.get(x,mean_pr))\n",
        "df_final_test['page_rank_d'] = df_final_test.destination_node.apply(lambda x:pr.get(x,mean_pr))\n",
        "#================================================================================\n",
        "\n",
        "#Katz centrality score for source and destination in Train and test\n",
        "#if anything not there in train graph then adding mean katz score\n",
        "df_final_train['katz_s'] = df_final_train.source_node.apply(lambda x: katz.get(x,mean_katz))\n",
        "df_final_train['katz_d'] = df_final_train.destination_node.apply(lambda x: katz.get(x,mean_katz))\n",
        "\n",
        "df_final_test['katz_s'] = df_final_test.source_node.apply(lambda x: katz.get(x,mean_katz))\n",
        "df_final_test['katz_d'] = df_final_test.destination_node.apply(lambda x: katz.get(x,mean_katz))\n",
        "#================================================================================\n",
        "\n",
        "#Hits algorithm score for source and destination in Train and test\n",
        "#if anything not there in train graph then adding 0\n",
        "df_final_train['hubs_s'] = df_final_train.source_node.apply(lambda x: hits[0].get(x,0))\n",
        "df_final_train['hubs_d'] = df_final_train.destination_node.apply(lambda x: hits[0].get(x,0))\n",
        "\n",
        "df_final_test['hubs_s'] = df_final_test.source_node.apply(lambda x: hits[0].get(x,0))\n",
        "df_final_test['hubs_d'] = df_final_test.destination_node.apply(lambda x: hits[0].get(x,0))\n",
        "#================================================================================\n",
        "\n",
        "#Hits algorithm score for source and destination in Train and Test\n",
        "#if anything not there in train graph then adding 0\n",
        "df_final_train['authorities_s'] = df_final_train.source_node.apply(lambda x: hits[1].get(x,0))\n",
        "df_final_train['authorities_d'] = df_final_train.destination_node.apply(lambda x: hits[1].get(x,0))\n",
        "\n",
        "df_final_test['authorities_s'] = df_final_test.source_node.apply(lambda x: hits[1].get(x,0))\n",
        "df_final_test['authorities_d'] = df_final_test.destination_node.apply(lambda x: hits[1].get(x,0))\n",
        "#================================================================================\n",
        "\n",
        "hdf = HDFStore('data/fea_sample/storage_sample_stage3.h5')\n",
        "hdf.put('train_df',df_final_train, format='table', data_columns=True)\n",
        "hdf.put('test_df',df_final_test, format='table', data_columns=True)\n",
        "hdf.close()\n",
        "print(\"--- %s seconds ---\" % (time() - start_time))"
      ]
    },
    {
      "cell_type": "markdown",
      "id": "d82e39be",
      "metadata": {
        "id": "d82e39be"
      },
      "source": [
        "Making train n test data from h5 files"
      ]
    },
    {
      "cell_type": "code",
      "execution_count": null,
      "id": "a87e7493",
      "metadata": {
        "id": "a87e7493"
      },
      "outputs": [],
      "source": [
        "df_final_train = read_hdf('data/fea_sample/storage_sample_stage3.h5', 'train_df',mode='r')\n",
        "df_final_test = read_hdf('data/fea_sample/storage_sample_stage3.h5', 'test_df',mode='r')"
      ]
    },
    {
      "cell_type": "code",
      "execution_count": null,
      "id": "3a9d90d7",
      "metadata": {
        "id": "3a9d90d7"
      },
      "outputs": [],
      "source": [
        "df_final_train.head()"
      ]
    },
    {
      "cell_type": "code",
      "execution_count": null,
      "id": "4664c417",
      "metadata": {
        "id": "4664c417"
      },
      "outputs": [],
      "source": [
        "df_final_test.head()"
      ]
    },
    {
      "cell_type": "code",
      "execution_count": null,
      "id": "1bea3777",
      "metadata": {
        "id": "1bea3777"
      },
      "outputs": [],
      "source": [
        "df_final_train.columns"
      ]
    },
    {
      "cell_type": "markdown",
      "id": "3202e791",
      "metadata": {
        "id": "3202e791"
      },
      "source": [
        "Target data"
      ]
    },
    {
      "cell_type": "code",
      "execution_count": null,
      "id": "c4a913ff",
      "metadata": {
        "id": "c4a913ff"
      },
      "outputs": [],
      "source": [
        "y_train = df_final_train.indicator_link\n",
        "y_test = df_final_test.indicator_link"
      ]
    },
    {
      "cell_type": "markdown",
      "id": "ec64ea52",
      "metadata": {
        "id": "ec64ea52"
      },
      "source": [
        "Droping unwanted columns and target var."
      ]
    },
    {
      "cell_type": "code",
      "execution_count": null,
      "id": "82d8d781",
      "metadata": {
        "id": "82d8d781"
      },
      "outputs": [],
      "source": [
        "df_final_train.drop(['source_node', 'destination_node','indicator_link'],axis=1,inplace=True)\n",
        "df_final_test.drop(['source_node', 'destination_node','indicator_link'],axis=1,inplace=True)"
      ]
    },
    {
      "cell_type": "markdown",
      "id": "4a93a595",
      "metadata": {
        "id": "4a93a595"
      },
      "source": [
        "# Model: XGBoost Classification"
      ]
    },
    {
      "cell_type": "code",
      "execution_count": null,
      "id": "c5e32bfb",
      "metadata": {
        "id": "c5e32bfb"
      },
      "outputs": [],
      "source": [
        "start_time = time()\n",
        "\n",
        "tuned_params = {'max_depth': [1, 2, 3, 4, 5], 'learning_rate': [0.01, 0.05, 0.1], 'n_estimators': [100, 200, 300, 400, 500], 'reg_lambda': [0.001, 0.1, 1.0, 10.0, 100.0]}\n",
        "model = RandomizedSearchCV(XGBClassifier(), tuned_params, n_iter=15, scoring = 'roc_auc', n_jobs=-1)\n",
        "model.fit(df_final_train,y_train) # actual data and actual prediction\n",
        "\n",
        "print(\"--- %s seconds ---\" % (time() - start_time))"
      ]
    },
    {
      "cell_type": "code",
      "execution_count": null,
      "id": "362352d5",
      "metadata": {
        "id": "362352d5"
      },
      "outputs": [],
      "source": [
        "model.best_estimator_"
      ]
    },
    {
      "cell_type": "markdown",
      "id": "24b5ae1d",
      "metadata": {
        "id": "24b5ae1d"
      },
      "source": [
        "* In contrast to GridSearchCV, not all parameter values are tried out, but rather a fixed number of parameter settings is sampled."
      ]
    },
    {
      "cell_type": "code",
      "execution_count": null,
      "id": "cff9f8c5",
      "metadata": {
        "id": "cff9f8c5"
      },
      "outputs": [],
      "source": [
        "start_time = time()\n",
        "# tuned_params = {'max_depth': [4], 'learning_rate': [0.05], 'n_estimators': [500], 'reg_lambda': [1.0]}\n",
        "\n",
        "clf = GridSearchCV(XGBClassifier(base_score=0.5, booster='gbtree', colsample_bylevel=1,\n",
        "       colsample_bytree=1, gamma=0, learning_rate=0.05, max_delta_step=0,\n",
        "       max_depth=4, min_child_weight=1, missing=None, n_estimators=500,\n",
        "       n_jobs=1, nthread=None, objective='binary:logistic', random_state=0,\n",
        "       reg_alpha=0, reg_lambda=1.0, scale_pos_weight=1, seed=None,\n",
        "       silent=True, subsample=1), tuned_params, scoring = 'roc_auc', n_jobs=-1)\n",
        "\n",
        "clf.fit(df_final_train,y_train) # actual data and actual prediction\n",
        "\n",
        "print(\"--- %s seconds ---\" % (time() - start_time))"
      ]
    },
    {
      "cell_type": "markdown",
      "id": "31d56bff",
      "metadata": {
        "id": "31d56bff"
      },
      "source": [
        "test set"
      ]
    },
    {
      "cell_type": "code",
      "execution_count": null,
      "id": "d19d7cec",
      "metadata": {
        "id": "d19d7cec"
      },
      "outputs": [],
      "source": [
        "y_train_pred = clf.predict(df_final_train)\n",
        "y_test_pred = clf.predict(df_final_test)"
      ]
    },
    {
      "cell_type": "markdown",
      "id": "3e5046d4",
      "metadata": {
        "id": "3e5046d4"
      },
      "source": [
        "f1 score"
      ]
    },
    {
      "cell_type": "markdown",
      "id": "9da236dc",
      "metadata": {
        "id": "9da236dc"
      },
      "source": [
        "F1 Score is the weighted average of Precision and Recall. Therefore, this score takes both false positives and false negatives into account."
      ]
    },
    {
      "cell_type": "code",
      "execution_count": null,
      "id": "e6310eec",
      "metadata": {
        "id": "e6310eec"
      },
      "outputs": [],
      "source": [
        "from sklearn.metrics import f1_score\n",
        "print('Train f1 score',f1_score(y_train,y_train_pred))\n",
        "print('Test f1 score',f1_score(y_test,y_test_pred))"
      ]
    },
    {
      "cell_type": "markdown",
      "id": "3d581301",
      "metadata": {
        "id": "3d581301"
      },
      "source": [
        "confusion metrics"
      ]
    },
    {
      "cell_type": "code",
      "execution_count": null,
      "id": "660a6629",
      "metadata": {
        "id": "660a6629"
      },
      "outputs": [],
      "source": [
        "confusion_matrix(y_test, y_test_pred).T"
      ]
    },
    {
      "cell_type": "code",
      "execution_count": null,
      "id": "219efa4b",
      "metadata": {
        "id": "219efa4b"
      },
      "outputs": [],
      "source": [
        "from sklearn.metrics import confusion_matrix\n",
        "def plot_confusion_matrix(test_y, predict_y):\n",
        "    C = confusion_matrix(test_y, predict_y)\n",
        "    \n",
        "    A =(((C.T)/(C.sum(axis=1))).T)\n",
        "    \n",
        "    B =(C/C.sum(axis=0))\n",
        "    plt.figure(figsize=(20,4))\n",
        "    \n",
        "    labels = [0,1]\n",
        "    # representing A in heatmap format\n",
        "    cmap=sns.light_palette(\"blue\")\n",
        "    plt.subplot(1, 3, 1)\n",
        "    sns.heatmap(C, annot=True, cmap=cmap, fmt=\".3f\", xticklabels=labels, yticklabels=labels)\n",
        "    plt.xlabel('Predicted Class')\n",
        "    plt.ylabel('Original Class')\n",
        "    plt.title(\"Confusion matrix\")\n",
        "    \n",
        "    plt.subplot(1, 3, 2)\n",
        "    sns.heatmap(B, annot=True, cmap=cmap, fmt=\".3f\", xticklabels=labels, yticklabels=labels)\n",
        "    plt.xlabel('Predicted Class')\n",
        "    plt.ylabel('Original Class')\n",
        "    plt.title(\"Precision matrix\")\n",
        "    \n",
        "    plt.subplot(1, 3, 3)\n",
        "    # representing B in heatmap format\n",
        "    sns.heatmap(A, annot=True, cmap=cmap, fmt=\".3f\", xticklabels=labels, yticklabels=labels)\n",
        "    plt.xlabel('Predicted Class')\n",
        "    plt.ylabel('Original Class')\n",
        "    plt.title(\"Recall matrix\")\n",
        "    \n",
        "    plt.show()"
      ]
    },
    {
      "cell_type": "code",
      "execution_count": null,
      "id": "f0199239",
      "metadata": {
        "id": "f0199239"
      },
      "outputs": [],
      "source": [
        "print('Train confusion_matrix')\n",
        "plot_confusion_matrix(y_train,y_train_pred)\n",
        "print('Test confusion_matrix')\n",
        "plot_confusion_matrix(y_test,y_test_pred)"
      ]
    },
    {
      "cell_type": "markdown",
      "id": "88aade67",
      "metadata": {
        "id": "88aade67"
      },
      "source": [
        "roc auc"
      ]
    },
    {
      "cell_type": "code",
      "execution_count": null,
      "id": "9faf647e",
      "metadata": {
        "id": "9faf647e"
      },
      "outputs": [],
      "source": [
        "from sklearn.metrics import roc_curve, auc\n",
        "fpr,tpr,ths = roc_curve(y_test,y_test_pred)\n",
        "auc_sc = auc(fpr, tpr)\n",
        "plt.plot(fpr, tpr, color='navy',label='ROC curve (area = %0.2f)' % auc_sc)\n",
        "plt.xlabel('False Positive Rate')\n",
        "plt.ylabel('True Positive Rate')\n",
        "plt.title('Receiver operating characteristic with test data')\n",
        "plt.legend()\n",
        "plt.show()"
      ]
    },
    {
      "cell_type": "code",
      "execution_count": null,
      "id": "f2aae9e1",
      "metadata": {
        "id": "f2aae9e1"
      },
      "outputs": [],
      "source": [
        "features = df_final_train.columns\n",
        "importances = clf.feature_importances_\n",
        "indices = (np.argsort(importances))[-25:]\n",
        "plt.figure(figsize=(10,12))\n",
        "plt.title('Feature Importances')\n",
        "plt.barh(range(len(indices)), importances[indices], color='r', align='center')\n",
        "plt.yticks(range(len(indices)), [features[i] for i in indices])\n",
        "plt.xlabel('Relative Importance')\n",
        "plt.show()"
      ]
    },
    {
      "cell_type": "markdown",
      "id": "1fd0595e",
      "metadata": {
        "id": "1fd0595e"
      },
      "source": [
        "Testing"
      ]
    },
    {
      "cell_type": "code",
      "execution_count": null,
      "id": "e9576900",
      "metadata": {
        "id": "e9576900"
      },
      "outputs": [],
      "source": [
        "from sklearn.metrics import accuracy_score\n",
        "acc=accuracy_score(y_test,y_test_pred,normalize=True)*float(100)\n",
        "print(acc)"
      ]
    },
    {
      "cell_type": "markdown",
      "id": "537c4919",
      "metadata": {
        "id": "537c4919"
      },
      "source": [
        "Training"
      ]
    },
    {
      "cell_type": "code",
      "execution_count": null,
      "id": "1eea97b1",
      "metadata": {
        "id": "1eea97b1"
      },
      "outputs": [],
      "source": [
        "acc=accuracy_score(y_train,y_train_pred,normalize=True)*float(100)\n",
        "print(acc)"
      ]
    },
    {
      "cell_type": "code",
      "execution_count": null,
      "id": "4d5cf053",
      "metadata": {
        "id": "4d5cf053"
      },
      "outputs": [],
      "source": [
        ""
      ]
    }
  ],
  "metadata": {
    "kernelspec": {
      "display_name": "Python 3",
      "language": "python",
      "name": "python3"
    },
    "language_info": {
      "codemirror_mode": {
        "name": "ipython",
        "version": 3
      },
      "file_extension": ".py",
      "mimetype": "text/x-python",
      "name": "python",
      "nbconvert_exporter": "python",
      "pygments_lexer": "ipython3",
      "version": "3.6.4"
    },
    "colab": {
      "name": "Link Prediction on Facebook Recruiting Dataset.ipynb",
      "provenance": [],
      "collapsed_sections": []
    }
  },
  "nbformat": 4,
  "nbformat_minor": 5
}