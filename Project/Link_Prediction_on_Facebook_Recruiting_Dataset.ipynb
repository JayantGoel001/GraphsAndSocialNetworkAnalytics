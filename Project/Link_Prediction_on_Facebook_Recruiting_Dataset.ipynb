{
  "cells": [
    {
      "cell_type": "markdown",
      "metadata": {
        "id": "view-in-github",
        "colab_type": "text"
      },
      "source": [
        "<a href=\"https://colab.research.google.com/github/JayantGoel001/GraphsAndSocialNetworkAnalytics/blob/master/Project/Link_Prediction_on_Facebook_Recruiting_Dataset.ipynb\" target=\"_parent\"><img src=\"https://colab.research.google.com/assets/colab-badge.svg\" alt=\"Open In Colab\"/></a>"
      ]
    },
    {
      "cell_type": "markdown",
      "source": [
        "# **Link Prediction on Facebook Recruiting Dataset**"
      ],
      "metadata": {
        "id": "WMf0IYLB3Bmj"
      },
      "id": "WMf0IYLB3Bmj"
    },
    {
      "cell_type": "code",
      "source": [
        "from google.colab import drive\n",
        "drive.mount('/content/drive',force_remount=True)"
      ],
      "metadata": {
        "colab": {
          "base_uri": "https://localhost:8080/"
        },
        "id": "7rOVNuiWHrnA",
        "outputId": "b16b6cd5-5e84-4614-d8b7-08f7264bf7d3"
      },
      "id": "7rOVNuiWHrnA",
      "execution_count": 1,
      "outputs": [
        {
          "output_type": "stream",
          "name": "stdout",
          "text": [
            "Mounted at /content/drive\n"
          ]
        }
      ]
    },
    {
      "cell_type": "code",
      "source": [
        "# Loading Training And Testing Dataset\n",
        "\n",
        "!cp drive/MyDrive/Facebook.csv ."
      ],
      "metadata": {
        "id": "3M5zS0awHrAB"
      },
      "id": "3M5zS0awHrAB",
      "execution_count": 2,
      "outputs": []
    },
    {
      "cell_type": "code",
      "execution_count": 3,
      "id": "cc185138",
      "metadata": {
        "id": "cc185138"
      },
      "outputs": [],
      "source": [
        "# Importing packages\n",
        "import networkx as nx\n",
        "import numpy as np\n",
        "import pandas as pd\n",
        "\n",
        "import matplotlib.pyplot as plt\n",
        "import seaborn as sns\n",
        "plt.style.use('seaborn')\n",
        "\n",
        "from sklearn.model_selection import train_test_split,GridSearchCV,RandomizedSearchCV\n",
        "from sklearn.ensemble import RandomForestClassifier\n",
        "from sklearn.metrics import roc_curve, auc, roc_auc_score, confusion_matrix,accuracy_score,f1_score\n",
        "from xgboost import XGBClassifier\n",
        "\n",
        "\n",
        "from time import time\n",
        "from collections import Counter\n",
        "import random\n",
        "import os"
      ]
    },
    {
      "cell_type": "code",
      "execution_count": 4,
      "id": "f65d7630",
      "metadata": {
        "colab": {
          "base_uri": "https://localhost:8080/",
          "height": 205
        },
        "id": "f65d7630",
        "outputId": "a67126b0-d493-4be0-d324-b3605191aee2"
      },
      "outputs": [
        {
          "output_type": "execute_result",
          "data": {
            "text/html": [
              "<div>\n",
              "<style scoped>\n",
              "    .dataframe tbody tr th:only-of-type {\n",
              "        vertical-align: middle;\n",
              "    }\n",
              "\n",
              "    .dataframe tbody tr th {\n",
              "        vertical-align: top;\n",
              "    }\n",
              "\n",
              "    .dataframe thead th {\n",
              "        text-align: right;\n",
              "    }\n",
              "</style>\n",
              "<table border=\"1\" class=\"dataframe\">\n",
              "  <thead>\n",
              "    <tr style=\"text-align: right;\">\n",
              "      <th></th>\n",
              "      <th>source_node</th>\n",
              "      <th>destination_node</th>\n",
              "    </tr>\n",
              "  </thead>\n",
              "  <tbody>\n",
              "    <tr>\n",
              "      <th>0</th>\n",
              "      <td>0</td>\n",
              "      <td>1</td>\n",
              "    </tr>\n",
              "    <tr>\n",
              "      <th>1</th>\n",
              "      <td>0</td>\n",
              "      <td>2</td>\n",
              "    </tr>\n",
              "    <tr>\n",
              "      <th>2</th>\n",
              "      <td>0</td>\n",
              "      <td>3</td>\n",
              "    </tr>\n",
              "    <tr>\n",
              "      <th>3</th>\n",
              "      <td>0</td>\n",
              "      <td>4</td>\n",
              "    </tr>\n",
              "    <tr>\n",
              "      <th>4</th>\n",
              "      <td>0</td>\n",
              "      <td>5</td>\n",
              "    </tr>\n",
              "  </tbody>\n",
              "</table>\n",
              "</div>"
            ],
            "text/plain": [
              "   source_node  destination_node\n",
              "0            0                 1\n",
              "1            0                 2\n",
              "2            0                 3\n",
              "3            0                 4\n",
              "4            0                 5"
            ]
          },
          "metadata": {},
          "execution_count": 4
        }
      ],
      "source": [
        "df_train=pd.read_csv('Facebook.csv')\n",
        "df_train.head()"
      ]
    },
    {
      "cell_type": "code",
      "execution_count": 5,
      "id": "35a52e17",
      "metadata": {
        "colab": {
          "base_uri": "https://localhost:8080/"
        },
        "id": "35a52e17",
        "outputId": "6de37bc6-be01-4dd9-c2da-782744c70d8d"
      },
      "outputs": [
        {
          "output_type": "execute_result",
          "data": {
            "text/plain": [
              "(88234, 2)"
            ]
          },
          "metadata": {},
          "execution_count": 5
        }
      ],
      "source": [
        "df_train.shape"
      ]
    },
    {
      "cell_type": "code",
      "execution_count": 6,
      "id": "ff231828",
      "metadata": {
        "colab": {
          "base_uri": "https://localhost:8080/"
        },
        "id": "ff231828",
        "outputId": "7fa7e50b-1ab5-48d6-a5e1-e7d8b2165bbd"
      },
      "outputs": [
        {
          "output_type": "stream",
          "name": "stdout",
          "text": [
            "Number of NUll Values in Training Data :  0\n",
            "Number of Duplicate Values in Training Data :  0\n"
          ]
        }
      ],
      "source": [
        "print(\"Number of NUll Values in Training Data : \",sum(df_train.isna().any(1)))\n",
        "print(\"Number of Duplicate Values in Training Data : \",sum(df_train.duplicated()))"
      ]
    },
    {
      "cell_type": "code",
      "source": [
        "edge_list = df_train.values.tolist()"
      ],
      "metadata": {
        "id": "-0KLlzY9uLLg"
      },
      "id": "-0KLlzY9uLLg",
      "execution_count": 7,
      "outputs": []
    },
    {
      "cell_type": "code",
      "execution_count": 8,
      "id": "179b15aa",
      "metadata": {
        "id": "179b15aa"
      },
      "outputs": [],
      "source": [
        "G = nx.DiGraph(edge_list,nodetype=np.int32)"
      ]
    },
    {
      "cell_type": "markdown",
      "id": "a1cddca8",
      "metadata": {
        "id": "a1cddca8"
      },
      "source": [
        "### Basic Information of graph."
      ]
    },
    {
      "cell_type": "code",
      "source": [
        "nodes = G.nodes()\n",
        "print(\"Number of Nodes : \",len(nodes))\n",
        "print(\"Number of Edges : \",len(edge_list))"
      ],
      "metadata": {
        "colab": {
          "base_uri": "https://localhost:8080/"
        },
        "id": "qyi4mYql3UOi",
        "outputId": "0a91faf3-a801-41de-dc4a-e2d1d890496e"
      },
      "id": "qyi4mYql3UOi",
      "execution_count": 9,
      "outputs": [
        {
          "output_type": "stream",
          "name": "stdout",
          "text": [
            "Number of Nodes :  4039\n",
            "Number of Edges :  88234\n"
          ]
        }
      ]
    },
    {
      "cell_type": "markdown",
      "id": "95aabf42",
      "metadata": {
        "id": "95aabf42"
      },
      "source": [
        "# Reading 200 rows and Visualization"
      ]
    },
    {
      "cell_type": "code",
      "execution_count": 10,
      "id": "66e64498",
      "metadata": {
        "id": "66e64498"
      },
      "outputs": [],
      "source": [
        "subgraph = nx.DiGraph(random.sample(edge_list,200),nodetype=np.int32)"
      ]
    },
    {
      "cell_type": "code",
      "execution_count": 11,
      "id": "0cde16bf",
      "metadata": {
        "colab": {
          "base_uri": "https://localhost:8080/",
          "height": 592
        },
        "id": "0cde16bf",
        "outputId": "30249e6f-abbd-46db-b04d-cc6f2e2f15fc"
      },
      "outputs": [
        {
          "output_type": "stream",
          "name": "stdout",
          "text": [
            "DiGraph with 357 nodes and 200 edges\n"
          ]
        },
        {
          "output_type": "display_data",
          "data": {
            "image/png": "[encoded data removed]",
            "text/plain": [
              "<Figure size 1080x720 with 1 Axes>"
            ]
          },
          "metadata": {}
        }
      ],
      "source": [
        "pos=nx.spring_layout(subgraph)\n",
        "plt.figure(figsize=(15,10))\n",
        "nx.draw_networkx(subgraph,pos,edge_color='#111',font_color='white',node_size=400)\n",
        "plt.savefig(\"graph_sample.png\")\n",
        "print(nx.info(subgraph))"
      ]
    },
    {
      "cell_type": "markdown",
      "id": "7a06e698",
      "metadata": {
        "id": "7a06e698"
      },
      "source": [
        "* inner nodes are source nodes and outer nodes are destination nodes."
      ]
    },
    {
      "cell_type": "code",
      "source": [
        "dict_in = dict(G.in_degree())\n",
        "dict_out = dict(G.out_degree())\n",
        "\n",
        "indegree_dist = list(dict_in.values())\n",
        "outdegree_dist = list(dict_out.values())"
      ],
      "metadata": {
        "id": "PC3rY5lh0wi2"
      },
      "id": "PC3rY5lh0wi2",
      "execution_count": 12,
      "outputs": []
    },
    {
      "cell_type": "code",
      "execution_count": 13,
      "id": "d535ffea",
      "metadata": {
        "colab": {
          "base_uri": "https://localhost:8080/",
          "height": 388
        },
        "id": "d535ffea",
        "outputId": "b16ceeb8-f2fd-4a69-d989-c6624b167a76"
      },
      "outputs": [
        {
          "output_type": "display_data",
          "data": {
            "image/png": "[encoded data removed]",
            "text/plain": [
              "<Figure size 720x432 with 1 Axes>"
            ]
          },
          "metadata": {}
        }
      ],
      "source": [
        "indegree_dist.sort()\n",
        "plt.figure(figsize=(10,6))\n",
        "plt.plot(indegree_dist)\n",
        "plt.xlabel('Index Number')\n",
        "plt.ylabel('Number Of Followers')\n",
        "plt.show()"
      ]
    },
    {
      "cell_type": "markdown",
      "id": "cdf266fb",
      "metadata": {
        "id": "cdf266fb"
      },
      "source": [
        "* There are very less people having more followers. i.e. we have the data of common peoples"
      ]
    },
    {
      "cell_type": "code",
      "execution_count": 14,
      "id": "f3781eb4",
      "metadata": {
        "colab": {
          "base_uri": "https://localhost:8080/"
        },
        "id": "f3781eb4",
        "outputId": "6f4edad4-17b8-4aeb-fa3b-3bcefe4748cc"
      },
      "outputs": [
        {
          "output_type": "stream",
          "name": "stdout",
          "text": [
            "90 percentile value is 55.0\n",
            "91 percentile value is 59.0\n",
            "92 percentile value is 64.0\n",
            "93 percentile value is 70.0\n",
            "94 percentile value is 78.0\n",
            "95 percentile value is 85.0\n",
            "96 percentile value is 94.0\n",
            "97 percentile value is 103.0\n",
            "98 percentile value is 117.0\n",
            "99 percentile value is 141.85999999999967\n"
          ]
        }
      ],
      "source": [
        "# 90-99 percentile\n",
        "for i in range(0,10):\n",
        "    print(90+i,'percentile value is',np.percentile(indegree_dist,90+i))"
      ]
    },
    {
      "cell_type": "code",
      "execution_count": 15,
      "id": "1039e682",
      "metadata": {
        "colab": {
          "base_uri": "https://localhost:8080/"
        },
        "id": "1039e682",
        "outputId": "50ec2692-a360-40df-9355-cb10e46df5eb"
      },
      "outputs": [
        {
          "output_type": "stream",
          "name": "stdout",
          "text": [
            "99.1 percentile value is 147.0\n",
            "99.2 percentile value is 154.6959999999999\n",
            "99.3 percentile value is 161.20199999999977\n",
            "99.4 percentile value is 167.7720000000004\n",
            "99.5 percentile value is 170.6199999999999\n",
            "99.6 percentile value is 175.84799999999996\n",
            "99.7 percentile value is 178.77199999999993\n",
            "99.8 percentile value is 182.0\n",
            "99.9 percentile value is 185.88600000000133\n",
            "100.0 percentile value is 251.0\n"
          ]
        }
      ],
      "source": [
        "# 99-100 percentile\n",
        "for i in range(1,11,1):\n",
        "    print(99+(i/10),'percentile value is',np.percentile(indegree_dist,99+(i/10)))"
      ]
    },
    {
      "cell_type": "markdown",
      "source": [
        "**Observation:**\n",
        "\n",
        "* From 90 to 99 the people having less number of followers.\n",
        "* From 99.1 to 99.9 the number of follower increases (very less number of peoples)."
      ],
      "metadata": {
        "id": "r5FCNUEB0df4"
      },
      "id": "r5FCNUEB0df4"
    },
    {
      "cell_type": "code",
      "source": [
        "outdegree_dist.sort()\n",
        "plt.figure(figsize=(10,6))\n",
        "plt.plot(indegree_dist)\n",
        "plt.xlabel('Index Number')\n",
        "plt.ylabel('Number Of Followings')\n",
        "plt.show()"
      ],
      "metadata": {
        "colab": {
          "base_uri": "https://localhost:8080/",
          "height": 388
        },
        "id": "oV4VVdji18uA",
        "outputId": "0eb63bbd-fbc4-47ba-c34d-896b19d76863"
      },
      "id": "oV4VVdji18uA",
      "execution_count": 16,
      "outputs": [
        {
          "output_type": "display_data",
          "data": {
            "image/png": "[encoded data removed]",
            "text/plain": [
              "<Figure size 720x432 with 1 Axes>"
            ]
          },
          "metadata": {}
        }
      ]
    },
    {
      "cell_type": "markdown",
      "source": [
        "* There are very less people having more followings."
      ],
      "metadata": {
        "id": "nxVVzd0y2ZkR"
      },
      "id": "nxVVzd0y2ZkR"
    },
    {
      "cell_type": "code",
      "source": [
        "# 90-99 percentile\n",
        "for i in range(0,10):\n",
        "    print(90+i,'percentile value is',np.percentile(outdegree_dist,90+i))"
      ],
      "metadata": {
        "colab": {
          "base_uri": "https://localhost:8080/"
        },
        "id": "y_8Et8tu2DiG",
        "outputId": "b4c4fcbe-a896-4cb2-f7d2-c5c7fd5da690"
      },
      "id": "y_8Et8tu2DiG",
      "execution_count": 17,
      "outputs": [
        {
          "output_type": "stream",
          "name": "stdout",
          "text": [
            "90 percentile value is 59.0\n",
            "91 percentile value is 62.0\n",
            "92 percentile value is 66.0\n",
            "93 percentile value is 73.0\n",
            "94 percentile value is 78.0\n",
            "95 percentile value is 86.09999999999991\n",
            "96 percentile value is 95.96000000000004\n",
            "97 percentile value is 109.0\n",
            "98 percentile value is 124.0\n",
            "99 percentile value is 149.0\n"
          ]
        }
      ]
    },
    {
      "cell_type": "code",
      "source": [
        "# 99-100 percentile\n",
        "for i in range(1,11,1):\n",
        "    print(99+(i/10),'percentile value is',np.percentile(outdegree_dist,99+(i/10)))"
      ],
      "metadata": {
        "colab": {
          "base_uri": "https://localhost:8080/"
        },
        "id": "qcNejg9Q2D47",
        "outputId": "9ecb9508-af51-4246-84bb-d7d31ed0d223"
      },
      "id": "qcNejg9Q2D47",
      "execution_count": 18,
      "outputs": [
        {
          "output_type": "stream",
          "name": "stdout",
          "text": [
            "99.1 percentile value is 152.0\n",
            "99.2 percentile value is 158.08799999999974\n",
            "99.3 percentile value is 161.0\n",
            "99.4 percentile value is 163.0\n",
            "99.5 percentile value is 164.0\n",
            "99.6 percentile value is 173.39199999999983\n",
            "99.7 percentile value is 184.77199999999993\n",
            "99.8 percentile value is 190.84799999999996\n",
            "99.9 percentile value is 342.36400000005415\n",
            "100.0 percentile value is 1043.0\n"
          ]
        }
      ]
    },
    {
      "cell_type": "code",
      "execution_count": 19,
      "id": "96ab7687",
      "metadata": {
        "colab": {
          "base_uri": "https://localhost:8080/"
        },
        "id": "96ab7687",
        "outputId": "af0b0547-5b14-45bf-ed1d-752d02742498"
      },
      "outputs": [
        {
          "output_type": "stream",
          "name": "stdout",
          "text": [
            "No of persons those are not following anyone are 376 and % is 9.309234959148304\n"
          ]
        }
      ],
      "source": [
        "print('No of persons those are not following anyone are' ,sum(np.array(outdegree_dist)==0),'and % is', sum(np.array(outdegree_dist)==0)*100/len(outdegree_dist))"
      ]
    },
    {
      "cell_type": "code",
      "execution_count": 20,
      "id": "46c18d3c",
      "metadata": {
        "colab": {
          "base_uri": "https://localhost:8080/"
        },
        "id": "46c18d3c",
        "outputId": "da80640a-f989-4aaf-a0fe-5fe69bbe54bc"
      },
      "outputs": [
        {
          "output_type": "stream",
          "name": "stdout",
          "text": [
            "No of persons who have no followers 2 and % is 0.04951720722951226\n"
          ]
        }
      ],
      "source": [
        "print('No of persons who have no followers' ,sum(np.array(indegree_dist)==0),'and % is',sum(np.array(indegree_dist)==0)*100/len(indegree_dist))"
      ]
    },
    {
      "cell_type": "markdown",
      "id": "c3b18647",
      "metadata": {
        "id": "c3b18647"
      },
      "source": [
        "**Observation**\n",
        "* It indicates that there are many people who are not using or not active on social network."
      ]
    },
    {
      "cell_type": "code",
      "execution_count": 21,
      "id": "b5d744d3",
      "metadata": {
        "id": "b5d744d3"
      },
      "outputs": [],
      "source": [
        "d = Counter(dict_in) + Counter(dict_out)\n",
        "in_out_degree = np.array(list(d.values()))"
      ]
    },
    {
      "cell_type": "code",
      "execution_count": 22,
      "id": "a9620ae9",
      "metadata": {
        "colab": {
          "base_uri": "https://localhost:8080/",
          "height": 388
        },
        "id": "a9620ae9",
        "outputId": "3a82d5f7-530e-4fdc-e0d8-be673733cac7"
      },
      "outputs": [
        {
          "output_type": "display_data",
          "data": {
            "image/png": "[encoded data removed]",
            "text/plain": [
              "<Figure size 720x432 with 1 Axes>"
            ]
          },
          "metadata": {}
        }
      ],
      "source": [
        "in_out_degree_sort = sorted(in_out_degree)\n",
        "plt.figure(figsize=(10,6))\n",
        "plt.plot(in_out_degree_sort)\n",
        "plt.xlabel('Index Number')\n",
        "plt.ylabel('Number Of people each person is followings + followers')\n",
        "plt.show()"
      ]
    },
    {
      "cell_type": "code",
      "execution_count": 23,
      "id": "df11385e",
      "metadata": {
        "colab": {
          "base_uri": "https://localhost:8080/"
        },
        "id": "df11385e",
        "outputId": "c373a9d8-b7f6-49f7-8a74-37f19c826595"
      },
      "outputs": [
        {
          "output_type": "stream",
          "name": "stdout",
          "text": [
            "90 percentile value is 112.20000000000027\n",
            "91 percentile value is 119.0\n",
            "92 percentile value is 124.0\n",
            "93 percentile value is 132.0\n",
            "94 percentile value is 141.0\n",
            "95 percentile value is 153.0999999999999\n",
            "96 percentile value is 164.0\n",
            "97 percentile value is 176.0\n",
            "98 percentile value is 187.0\n",
            "99 percentile value is 199.6199999999999\n"
          ]
        }
      ],
      "source": [
        "# 90-99 percentile\n",
        "for i in range(0,10):\n",
        "    print(90+i,'percentile value is',np.percentile(in_out_degree_sort,90+i))"
      ]
    },
    {
      "cell_type": "code",
      "execution_count": 24,
      "id": "beb53cea",
      "metadata": {
        "colab": {
          "base_uri": "https://localhost:8080/"
        },
        "id": "beb53cea",
        "outputId": "1e01f215-6978-4f65-eae1-a4aa4093ddbc"
      },
      "outputs": [
        {
          "output_type": "stream",
          "name": "stdout",
          "text": [
            "99.1 percentile value is 201.0\n",
            "99.2 percentile value is 203.0\n",
            "99.3 percentile value is 205.0\n",
            "99.4 percentile value is 207.0\n",
            "99.5 percentile value is 215.85999999999967\n",
            "99.6 percentile value is 222.84799999999996\n",
            "99.7 percentile value is 230.77199999999993\n",
            "99.8 percentile value is 244.23999999999978\n",
            "99.9 percentile value is 344.9860000000235\n",
            "100.0 percentile value is 1045.0\n"
          ]
        }
      ],
      "source": [
        "# 99-100 percentile\n",
        "for i in range(10,110,10):\n",
        "    print(99+(i/100),'percentile value is',np.percentile(in_out_degree_sort,99+(i/100)))"
      ]
    },
    {
      "cell_type": "markdown",
      "source": [
        "# Generating missing edges from given graph"
      ],
      "metadata": {
        "id": "qP1-hOjN29Jt"
      },
      "id": "qP1-hOjN29Jt"
    },
    {
      "cell_type": "code",
      "execution_count": 25,
      "id": "657cb411",
      "metadata": {
        "id": "657cb411"
      },
      "outputs": [],
      "source": [
        "#the dict will contain a tuple of 2 nodes as key and the value will be 1 is the nodes are connected else -1\n",
        "edges = dict()\n",
        "\n",
        "for edge in edge_list: \n",
        "\tedges[(edge[0], edge[1])] = 1 # if edge is present in r then 1.\n",
        "\n",
        "# missing edges.\n",
        "missing_edges = set([])\n",
        "\n",
        "for a in range(1,len(nodes) + 1):\n",
        "\tfor b in range(1,len(nodes) + 1):\n",
        "\t\ttmp = edges.get((a,b),-1)\n",
        "\t\tif tmp == -1 and a != b: # if edge is missing and a and b are not same.\n",
        "\t\t\tmissing_edges.add((a,b))\n"
      ]
    },
    {
      "cell_type": "code",
      "execution_count": 26,
      "id": "3e865544",
      "metadata": {
        "id": "3e865544",
        "colab": {
          "base_uri": "https://localhost:8080/"
        },
        "outputId": "88f53171-2783-46c1-f53e-5d1fd75126bf"
      },
      "outputs": [
        {
          "output_type": "execute_result",
          "data": {
            "text/plain": [
              "16221595"
            ]
          },
          "metadata": {},
          "execution_count": 26
        }
      ],
      "source": [
        "len(missing_edges)"
      ]
    },
    {
      "cell_type": "markdown",
      "id": "40982649",
      "metadata": {
        "id": "40982649"
      },
      "source": [
        "* positive -> connected nodes\n",
        "* negative -> missing nodes"
      ]
    },
    {
      "cell_type": "code",
      "execution_count": 27,
      "id": "070a7566",
      "metadata": {
        "id": "070a7566",
        "colab": {
          "base_uri": "https://localhost:8080/"
        },
        "outputId": "a540b5d7-0f8f-4947-a5ca-6d7c77aece6d"
      },
      "outputs": [
        {
          "output_type": "stream",
          "name": "stdout",
          "text": [
            "Number of nodes in the graph with edges 88234\n",
            "Number of nodes in the graph without edges 16221595\n"
          ]
        }
      ],
      "source": [
        "df_pos = df_train\n",
        "df_neg = pd.DataFrame(list(missing_edges), columns=['source_node', 'destination_node'])\n",
        "\n",
        "print(\"Number of nodes in the graph with edges\", df_pos.shape[0])\n",
        "print(\"Number of nodes in the graph without edges\", df_neg.shape[0])"
      ]
    },
    {
      "cell_type": "markdown",
      "source": [
        "# Trian Test split \n"
      ],
      "metadata": {
        "id": "8hl6nXAe7OSM"
      },
      "id": "8hl6nXAe7OSM"
    },
    {
      "cell_type": "code",
      "source": [
        "X_train_pos, X_test_pos, y_train_pos, y_test_pos  = train_test_split(df_pos,np.ones(len(df_pos)),test_size=0.2, random_state=9)\n",
        "X_train_neg, X_test_neg, y_train_neg, y_test_neg  = train_test_split(df_neg,np.zeros(len(df_neg)),test_size=0.2, random_state=9)\n",
        "\n",
        "\n",
        "print(\"Number of nodes in the Train data graph with edges\", X_train_pos.shape[0],\" : \",y_train_pos.shape[0])\n",
        "print(\"Number of nodes in the Train data graph without edges\", X_train_neg.shape[0],\" : \", y_train_neg.shape[0])\n",
        "\n",
        "print(\"Number of nodes in the Test data graph with edges\", X_test_pos.shape[0],\" : \",y_test_pos.shape[0])\n",
        "print(\"Number of nodes in the Test data graph without edges\", X_test_neg.shape[0],\" : \",y_test_neg.shape[0])"
      ],
      "metadata": {
        "id": "T62-V9vy7LX6",
        "colab": {
          "base_uri": "https://localhost:8080/"
        },
        "outputId": "b61f4042-a67d-41a0-e19b-7a6dfc87abdd"
      },
      "id": "T62-V9vy7LX6",
      "execution_count": 28,
      "outputs": [
        {
          "output_type": "stream",
          "name": "stdout",
          "text": [
            "Number of nodes in the Train data graph with edges 70587  :  70587\n",
            "Number of nodes in the Train data graph without edges 12977276  :  12977276\n",
            "Number of nodes in the Test data graph with edges 17647  :  17647\n",
            "Number of nodes in the Test data graph without edges 3244319  :  3244319\n"
          ]
        }
      ]
    },
    {
      "cell_type": "code",
      "execution_count": 29,
      "id": "f4b13751",
      "metadata": {
        "id": "f4b13751",
        "colab": {
          "base_uri": "https://localhost:8080/",
          "height": 205
        },
        "outputId": "7c74092c-ff26-4ac4-c708-72535870ec4e"
      },
      "outputs": [
        {
          "output_type": "execute_result",
          "data": {
            "text/html": [
              "<div>\n",
              "<style scoped>\n",
              "    .dataframe tbody tr th:only-of-type {\n",
              "        vertical-align: middle;\n",
              "    }\n",
              "\n",
              "    .dataframe tbody tr th {\n",
              "        vertical-align: top;\n",
              "    }\n",
              "\n",
              "    .dataframe thead th {\n",
              "        text-align: right;\n",
              "    }\n",
              "</style>\n",
              "<table border=\"1\" class=\"dataframe\">\n",
              "  <thead>\n",
              "    <tr style=\"text-align: right;\">\n",
              "      <th></th>\n",
              "      <th>source_node</th>\n",
              "      <th>destination_node</th>\n",
              "    </tr>\n",
              "  </thead>\n",
              "  <tbody>\n",
              "    <tr>\n",
              "      <th>17047</th>\n",
              "      <td>1029</td>\n",
              "      <td>1861</td>\n",
              "    </tr>\n",
              "    <tr>\n",
              "      <th>59352</th>\n",
              "      <td>2229</td>\n",
              "      <td>2556</td>\n",
              "    </tr>\n",
              "    <tr>\n",
              "      <th>40486</th>\n",
              "      <td>1929</td>\n",
              "      <td>2037</td>\n",
              "    </tr>\n",
              "    <tr>\n",
              "      <th>74983</th>\n",
              "      <td>2865</td>\n",
              "      <td>3196</td>\n",
              "    </tr>\n",
              "    <tr>\n",
              "      <th>4506</th>\n",
              "      <td>357</td>\n",
              "      <td>477</td>\n",
              "    </tr>\n",
              "  </tbody>\n",
              "</table>\n",
              "</div>"
            ],
            "text/plain": [
              "       source_node  destination_node\n",
              "17047         1029              1861\n",
              "59352         2229              2556\n",
              "40486         1929              2037\n",
              "74983         2865              3196\n",
              "4506           357               477"
            ]
          },
          "metadata": {},
          "execution_count": 29
        }
      ],
      "source": [
        "X_train_pos.head()"
      ]
    },
    {
      "cell_type": "code",
      "execution_count": 30,
      "id": "edbafabc",
      "metadata": {
        "id": "edbafabc",
        "colab": {
          "base_uri": "https://localhost:8080/",
          "height": 205
        },
        "outputId": "19b5a7fe-f40c-4eee-e1bb-9986eb6506ec"
      },
      "outputs": [
        {
          "output_type": "execute_result",
          "data": {
            "text/html": [
              "<div>\n",
              "<style scoped>\n",
              "    .dataframe tbody tr th:only-of-type {\n",
              "        vertical-align: middle;\n",
              "    }\n",
              "\n",
              "    .dataframe tbody tr th {\n",
              "        vertical-align: top;\n",
              "    }\n",
              "\n",
              "    .dataframe thead th {\n",
              "        text-align: right;\n",
              "    }\n",
              "</style>\n",
              "<table border=\"1\" class=\"dataframe\">\n",
              "  <thead>\n",
              "    <tr style=\"text-align: right;\">\n",
              "      <th></th>\n",
              "      <th>source_node</th>\n",
              "      <th>destination_node</th>\n",
              "    </tr>\n",
              "  </thead>\n",
              "  <tbody>\n",
              "    <tr>\n",
              "      <th>67299</th>\n",
              "      <td>2489</td>\n",
              "      <td>2624</td>\n",
              "    </tr>\n",
              "    <tr>\n",
              "      <th>59989</th>\n",
              "      <td>2243</td>\n",
              "      <td>2458</td>\n",
              "    </tr>\n",
              "    <tr>\n",
              "      <th>35473</th>\n",
              "      <td>1623</td>\n",
              "      <td>1810</td>\n",
              "    </tr>\n",
              "    <tr>\n",
              "      <th>73618</th>\n",
              "      <td>2803</td>\n",
              "      <td>2881</td>\n",
              "    </tr>\n",
              "    <tr>\n",
              "      <th>27849</th>\n",
              "      <td>1332</td>\n",
              "      <td>1606</td>\n",
              "    </tr>\n",
              "  </tbody>\n",
              "</table>\n",
              "</div>"
            ],
            "text/plain": [
              "       source_node  destination_node\n",
              "67299         2489              2624\n",
              "59989         2243              2458\n",
              "35473         1623              1810\n",
              "73618         2803              2881\n",
              "27849         1332              1606"
            ]
          },
          "metadata": {},
          "execution_count": 30
        }
      ],
      "source": [
        "X_test_pos.head()"
      ]
    },
    {
      "cell_type": "code",
      "execution_count": 31,
      "id": "7313a945",
      "metadata": {
        "id": "7313a945",
        "colab": {
          "base_uri": "https://localhost:8080/"
        },
        "outputId": "a6fd4d04-5e09-4900-b826-3a5373426db1"
      },
      "outputs": [
        {
          "output_type": "execute_result",
          "data": {
            "text/plain": [
              "array([1., 1., 1., ..., 1., 1., 1.])"
            ]
          },
          "metadata": {},
          "execution_count": 31
        }
      ],
      "source": [
        "y_train_pos"
      ]
    },
    {
      "cell_type": "code",
      "execution_count": 32,
      "id": "792f7e9f",
      "metadata": {
        "id": "792f7e9f",
        "colab": {
          "base_uri": "https://localhost:8080/"
        },
        "outputId": "b57e3d38-85ca-4920-860c-9226eb7a2723"
      },
      "outputs": [
        {
          "output_type": "execute_result",
          "data": {
            "text/plain": [
              "array([1., 1., 1., ..., 1., 1., 1.])"
            ]
          },
          "metadata": {},
          "execution_count": 32
        }
      ],
      "source": [
        "y_test_pos"
      ]
    },
    {
      "cell_type": "markdown",
      "id": "1e35c092",
      "metadata": {
        "id": "1e35c092"
      },
      "source": [
        "Reading only the train positive (present edges) file"
      ]
    },
    {
      "cell_type": "code",
      "execution_count": 33,
      "id": "7cec2da6",
      "metadata": {
        "id": "7cec2da6"
      },
      "outputs": [],
      "source": [
        "X_train = X_train_pos.append(X_train_neg,ignore_index=True)\n",
        "y_train = np.concatenate((y_train_pos,y_train_neg))\n",
        "X_test = X_test_pos.append(X_test_neg,ignore_index=True)\n",
        "y_test = np.concatenate((y_test_pos,y_test_neg)) \n",
        "\n",
        "X_train.to_csv('train_X.csv',header=False,index=False)\n",
        "X_test.to_csv('test_X.csv',header=False,index=False)\n",
        "pd.DataFrame(y_train.astype(int)).to_csv('train_y.csv',header=False,index=False)\n",
        "pd.DataFrame(y_test.astype(int)).to_csv('test_y.csv',header=False,index=False)"
      ]
    },
    {
      "cell_type": "code",
      "source": [
        "train_graph = nx.DiGraph(X_train_pos.values.tolist())"
      ],
      "metadata": {
        "id": "j8CYyCgJRKYu"
      },
      "id": "j8CYyCgJRKYu",
      "execution_count": 34,
      "outputs": []
    },
    {
      "cell_type": "markdown",
      "id": "add3981b",
      "metadata": {
        "id": "add3981b"
      },
      "source": [
        "# Feature Engineering"
      ]
    },
    {
      "cell_type": "markdown",
      "id": "597fe1f2",
      "metadata": {
        "id": "597fe1f2"
      },
      "source": [
        "1. Jaccard distance\n",
        "\n",
        "\\begin{equation}\n",
        "Jaccard \\space Distance = \\frac{|X\\cap Y|}{|{X \\cup Y}|} \n",
        "\\end{equation}"
      ]
    },
    {
      "cell_type": "code",
      "execution_count": 35,
      "id": "6240f545",
      "metadata": {
        "id": "6240f545"
      },
      "outputs": [],
      "source": [
        "#for followings\n",
        "def jaccard_for_followees(a,b):\n",
        "    try:\n",
        "        if len(set(train_graph.successors(a))) == 0  | len(set(train_graph.successors(b))) == 0:\n",
        "            return 0\n",
        "        sim = (len(set(train_graph.successors(a)).intersection(set(train_graph.successors(b)))))/ (len(set(train_graph.successors(a)).union(set(train_graph.successors(b)))))\n",
        "    except:\n",
        "        return 0\n",
        "    return sim"
      ]
    },
    {
      "cell_type": "code",
      "execution_count": 36,
      "id": "a6b6c258",
      "metadata": {
        "id": "a6b6c258"
      },
      "outputs": [],
      "source": [
        "#for followers\n",
        "def jaccard_for_followers(a,b):\n",
        "    try:\n",
        "        if len(set(train_graph.predecessors(a))) == 0  | len(set(g.predecessors(b))) == 0:\n",
        "            return 0\n",
        "        sim = (len(set(train_graph.predecessors(a)).intersection(set(train_graph.predecessors(b)))))/(len(set(train_graph.predecessors(a)).union(set(train_graph.predecessors(b)))))\n",
        "        return sim\n",
        "    except:\n",
        "        return 0"
      ]
    },
    {
      "cell_type": "markdown",
      "id": "a2aa20f6",
      "metadata": {
        "id": "a2aa20f6"
      },
      "source": [
        "2. Cosine distance\n",
        "\n",
        "\\begin{equation}\n",
        "Cosine \\space Distance = \\frac{|X\\cap Y|}{\\sqrt{|X|\\cdot|Y|}} \n",
        "\\end{equation}"
      ]
    },
    {
      "cell_type": "code",
      "execution_count": 37,
      "id": "313fe829",
      "metadata": {
        "id": "313fe829"
      },
      "outputs": [],
      "source": [
        "#for followings\n",
        "def cosine_for_followees(a,b):\n",
        "    try:\n",
        "        if len(set(train_graph.successors(a))) == 0  | len(set(train_graph.successors(b))) == 0:\n",
        "            return 0\n",
        "        sim = (len(set(train_graph.successors(a)).intersection(set(train_graph.successors(b)))))/(math.sqrt(len(set(train_graph.successors(a)))*len((set(train_graph.successors(b))))))\n",
        "        return sim\n",
        "    except:\n",
        "        return 0"
      ]
    },
    {
      "cell_type": "code",
      "execution_count": 38,
      "id": "4076cc72",
      "metadata": {
        "id": "4076cc72"
      },
      "outputs": [],
      "source": [
        "# For Followers\n",
        "def cosine_for_followers(a,b):\n",
        "    try:\n",
        "        if len(set(train_graph.predecessors(a))) == 0  | len(set(train_graph.predecessors(b))) == 0:\n",
        "            return 0\n",
        "        sim = (len(set(train_graph.predecessors(a)).intersection(set(train_graph.predecessors(b)))))/(math.sqrt(len(set(train_graph.predecessors(a))))*(len(set(train_graph.predecessors(b)))))\n",
        "        return sim\n",
        "    except:\n",
        "        return 0"
      ]
    },
    {
      "cell_type": "markdown",
      "id": "b0a2097d",
      "metadata": {
        "id": "b0a2097d"
      },
      "source": [
        "3. Page rank\n",
        "\n",
        "    PageRank computes a ranking of the nodes in the graph G based on the structure of the incoming links. It was originally designed as an algorithm to rank web pages."
      ]
    },
    {
      "cell_type": "markdown",
      "id": "105e77b1",
      "metadata": {
        "id": "105e77b1"
      },
      "source": [
        "* We will use the mean pagerank as imputation."
      ]
    },
    {
      "cell_type": "code",
      "execution_count": 39,
      "id": "2bb3d62b",
      "metadata": {
        "id": "2bb3d62b"
      },
      "outputs": [],
      "source": [
        "pr = nx.pagerank(train_graph, alpha=0.85)"
      ]
    },
    {
      "cell_type": "code",
      "execution_count": 40,
      "id": "ec7cc948",
      "metadata": {
        "id": "ec7cc948"
      },
      "outputs": [],
      "source": [
        "mean_pr=float(sum(pr.values())) / len(pr)"
      ]
    },
    {
      "cell_type": "code",
      "execution_count": 41,
      "id": "f456221b",
      "metadata": {
        "id": "f456221b",
        "colab": {
          "base_uri": "https://localhost:8080/"
        },
        "outputId": "7875a840-a9fe-490a-be4e-306a3a3a8951"
      },
      "outputs": [
        {
          "output_type": "stream",
          "name": "stdout",
          "text": [
            "min 8.014650212967957e-05\n",
            "max 0.009980057311561218\n",
            "mean 0.0002487562189054724\n"
          ]
        }
      ],
      "source": [
        "print('min',pr[min(pr, key=pr.get)])\n",
        "print('max',pr[max(pr, key=pr.get)])\n",
        "print('mean',float(sum(pr.values())) / len(pr))"
      ]
    },
    {
      "cell_type": "markdown",
      "id": "5ea5a1d3",
      "metadata": {
        "id": "5ea5a1d3"
      },
      "source": [
        "4. Shortest path\n",
        "\n",
        "    Compute shortest path lengths in the graph."
      ]
    },
    {
      "cell_type": "code",
      "execution_count": 42,
      "id": "78d88f01",
      "metadata": {
        "id": "78d88f01"
      },
      "outputs": [],
      "source": [
        "#if has direct edge then deleting that edge and calculating shortest path\n",
        "def compute_shortest_path_length(a,b):\n",
        "    p=-1\n",
        "    try:\n",
        "        if train_graph.has_edge(a,b):\n",
        "            train_graph.remove_edge(a,b)\n",
        "            p= nx.shortest_path_length(train_graph,source=a,target=b)\n",
        "            train_graph.add_edge(a,b)\n",
        "        else:\n",
        "            p= nx.shortest_path_length(train_graph,source=a,target=b)\n",
        "        return p\n",
        "    except:\n",
        "        return -1"
      ]
    },
    {
      "cell_type": "markdown",
      "id": "0eae4c0e",
      "metadata": {
        "id": "0eae4c0e"
      },
      "source": [
        "5. Weakly connected components\n",
        "\n",
        "    Given a directed graph, a weakly connected component (WCC) is a subgraph of the original graph where all vertices are connected to each other by some path, ignoring the direction of edges"
      ]
    },
    {
      "cell_type": "code",
      "execution_count": 43,
      "id": "6a25e449",
      "metadata": {
        "id": "6a25e449"
      },
      "outputs": [],
      "source": [
        "# Getting weekly connected edges from graph \n",
        "wcc = list(nx.weakly_connected_components(train_graph))\n",
        "def belongs_to_same_wcc(a,b):\n",
        "    index = []\n",
        "    if train_graph.has_edge(b,a):\n",
        "        return 1\n",
        "    if train_graph.has_edge(a,b):\n",
        "            for i in wcc:\n",
        "                if a in i:\n",
        "                    index= i\n",
        "                    break\n",
        "            if (b in index):\n",
        "                train_graph.remove_edge(a,b)\n",
        "                if compute_shortest_path_length(a,b)==-1:\n",
        "                    train_graph.add_edge(a,b)\n",
        "                    return 0\n",
        "                else:\n",
        "                    train_graph.add_edge(a,b)\n",
        "                    return 1\n",
        "            else:\n",
        "                return 0\n",
        "    else:\n",
        "            for i in wcc:\n",
        "                if a in i:\n",
        "                    index= i\n",
        "                    break\n",
        "            if(b in index):\n",
        "                return 1\n",
        "            else:\n",
        "                return 0"
      ]
    },
    {
      "cell_type": "markdown",
      "id": "1360da45",
      "metadata": {
        "id": "1360da45"
      },
      "source": [
        "6. Adar Index\n",
        "\n",
        "$$Adar \\space Index(x,y)=\\sum_{u \\in N(x) \\cap N(y)}\\frac{1}{log(|N(u)|)}$$"
      ]
    },
    {
      "cell_type": "code",
      "execution_count": 44,
      "id": "72cd95a3",
      "metadata": {
        "id": "72cd95a3"
      },
      "outputs": [],
      "source": [
        "# Adar index\n",
        "def calc_adar_in(a,b):\n",
        "    sum=0\n",
        "    try:\n",
        "        n=list(set(train_graph.successors(a)).intersection(set(train_graph.successors(b))))\n",
        "        if len(n)!=0:\n",
        "            for i in n:\n",
        "                sum=sum+(1/np.log10(len(list(train_graph.predecessors(i)))))\n",
        "            return sum\n",
        "        else:\n",
        "            return 0\n",
        "    except:\n",
        "        return 0"
      ]
    },
    {
      "cell_type": "markdown",
      "id": "871a7d6c",
      "metadata": {
        "id": "871a7d6c"
      },
      "source": [
        "7. Follow Back\n",
        "\n",
        "    In Follow Back if source node is following to destination node and destination node is also follow back to source node that node we are keep in Follow Back feature."
      ]
    },
    {
      "cell_type": "code",
      "execution_count": 45,
      "id": "5f88c159",
      "metadata": {
        "id": "5f88c159"
      },
      "outputs": [],
      "source": [
        "def follows_back(a,b):\n",
        "    if train_graph.has_edge(b,a):\n",
        "        return 1\n",
        "    else:\n",
        "        return 0"
      ]
    },
    {
      "cell_type": "markdown",
      "id": "30addaf2",
      "metadata": {
        "id": "30addaf2"
      },
      "source": [
        "8. Katz Centrality\n",
        "\n",
        "$$Katz \\space Centrality(x,y)=\\sum_{i=1}^{\\infty}\\beta . A^{<i>}_{xy}|$$"
      ]
    },
    {
      "cell_type": "code",
      "execution_count": 46,
      "id": "12ab2c44",
      "metadata": {
        "id": "12ab2c44"
      },
      "outputs": [],
      "source": [
        "katz = nx.katz.katz_centrality(train_graph,alpha=0.005,beta=1)"
      ]
    },
    {
      "cell_type": "code",
      "execution_count": 47,
      "id": "b9c29e6c",
      "metadata": {
        "id": "b9c29e6c"
      },
      "outputs": [],
      "source": [
        "mean_katz=float(sum(katz.values())) / len(katz)"
      ]
    },
    {
      "cell_type": "code",
      "execution_count": 48,
      "id": "113c0374",
      "metadata": {
        "id": "113c0374",
        "colab": {
          "base_uri": "https://localhost:8080/"
        },
        "outputId": "15796e0a-5fd7-4fb7-b1e3-e52710aa7c13"
      },
      "outputs": [
        {
          "output_type": "stream",
          "name": "stdout",
          "text": [
            "min 0.014211872094836108\n",
            "max 0.032894420295031486\n",
            "mean 0.015632592851219578\n"
          ]
        }
      ],
      "source": [
        "print('min',katz[min(katz, key=katz.get)])\n",
        "print('max',katz[max(katz, key=katz.get)])\n",
        "print('mean',float(sum(katz.values())) / len(katz))"
      ]
    },
    {
      "cell_type": "markdown",
      "id": "b5442b2d",
      "metadata": {
        "id": "b5442b2d"
      },
      "source": [
        "9. HITS (Hyperlink-Induced Topic Search)\n",
        "\n",
        "    It is also known as hubs and authorities. It is a link analysis algorithm that rates Web pages. A good hub represented a page that pointed to many other pages, and a good authority represented a page that was linked by many different hubs."
      ]
    },
    {
      "cell_type": "code",
      "execution_count": 49,
      "id": "405c2f38",
      "metadata": {
        "id": "405c2f38"
      },
      "outputs": [],
      "source": [
        "hits = nx.hits(train_graph, max_iter=100, tol=1e-08, nstart=None, normalized=True)"
      ]
    },
    {
      "cell_type": "code",
      "execution_count": 50,
      "id": "7d561d14",
      "metadata": {
        "id": "7d561d14",
        "colab": {
          "base_uri": "https://localhost:8080/"
        },
        "outputId": "843bf408-a1b6-4460-d513-3aad97c19722"
      },
      "outputs": [
        {
          "output_type": "stream",
          "name": "stdout",
          "text": [
            "min -6.19351335949466e-23\n",
            "max 0.010465803001921225\n",
            "mean 0.00024875621890547273\n"
          ]
        }
      ],
      "source": [
        "print('min',hits[0][min(hits[0], key=hits[0].get)])\n",
        "print('max',hits[0][max(hits[0], key=hits[0].get)])\n",
        "print('mean',float(sum(hits[0].values())) / len(hits[0]))"
      ]
    },
    {
      "cell_type": "markdown",
      "id": "ebf5fd8f",
      "metadata": {
        "id": "ebf5fd8f"
      },
      "source": [
        "Sampling the dataset"
      ]
    },
    {
      "cell_type": "code",
      "execution_count": 51,
      "id": "6ee6c64a",
      "metadata": {
        "id": "6ee6c64a"
      },
      "outputs": [],
      "source": [
        "filename = \"train_X.csv\"\n",
        "n_train = sum(1 for line in open(filename)) #number of records in file (excludes header)\n",
        "s = 100000 #desired sample size\n",
        "skip_train = sorted(random.sample(range(1,n_train+1),n_train-s))"
      ]
    },
    {
      "cell_type": "code",
      "execution_count": 52,
      "id": "071fef94",
      "metadata": {
        "id": "071fef94"
      },
      "outputs": [],
      "source": [
        "filename = \"test_X.csv\"\n",
        "n_test = sum(1 for line in open(filename)) #number of records in file (excludes header)\n",
        "s = 50000 #desired sample size\n",
        "skip_test = sorted(random.sample(range(1,n_test+1),n_test-s))"
      ]
    },
    {
      "cell_type": "code",
      "execution_count": 53,
      "id": "c9363366",
      "metadata": {
        "id": "c9363366",
        "colab": {
          "base_uri": "https://localhost:8080/"
        },
        "outputId": "32363217-32e0-4461-ad55-167cc51d3333"
      },
      "outputs": [
        {
          "output_type": "stream",
          "name": "stdout",
          "text": [
            "Number of rows in the train data file: 13047863\n",
            "Number of rows we are going to elimiate in train data are 12947863\n",
            "Number of rows in the test data file: 3261966\n",
            "Number of rows we are going to elimiate in test data are 3211966\n"
          ]
        }
      ],
      "source": [
        "print(\"Number of rows in the train data file:\", n_train)\n",
        "print(\"Number of rows we are going to elimiate in train data are\",len(skip_train))\n",
        "print(\"Number of rows in the test data file:\", n_test)\n",
        "print(\"Number of rows we are going to elimiate in test data are\",len(skip_test))"
      ]
    },
    {
      "cell_type": "code",
      "execution_count": 54,
      "id": "c35a3dc2",
      "metadata": {
        "id": "c35a3dc2",
        "colab": {
          "base_uri": "https://localhost:8080/",
          "height": 224
        },
        "outputId": "120f1744-ad88-4f7e-9e9f-e339241a20b7"
      },
      "outputs": [
        {
          "output_type": "stream",
          "name": "stdout",
          "text": [
            "Our train matrix size  (100001, 3)\n"
          ]
        },
        {
          "output_type": "execute_result",
          "data": {
            "text/html": [
              "<div>\n",
              "<style scoped>\n",
              "    .dataframe tbody tr th:only-of-type {\n",
              "        vertical-align: middle;\n",
              "    }\n",
              "\n",
              "    .dataframe tbody tr th {\n",
              "        vertical-align: top;\n",
              "    }\n",
              "\n",
              "    .dataframe thead th {\n",
              "        text-align: right;\n",
              "    }\n",
              "</style>\n",
              "<table border=\"1\" class=\"dataframe\">\n",
              "  <thead>\n",
              "    <tr style=\"text-align: right;\">\n",
              "      <th></th>\n",
              "      <th>source_node</th>\n",
              "      <th>destination_node</th>\n",
              "      <th>indicator_link</th>\n",
              "    </tr>\n",
              "  </thead>\n",
              "  <tbody>\n",
              "    <tr>\n",
              "      <th>0</th>\n",
              "      <td>1029</td>\n",
              "      <td>1861</td>\n",
              "      <td>1</td>\n",
              "    </tr>\n",
              "    <tr>\n",
              "      <th>1</th>\n",
              "      <td>1280</td>\n",
              "      <td>1741</td>\n",
              "      <td>1</td>\n",
              "    </tr>\n",
              "    <tr>\n",
              "      <th>2</th>\n",
              "      <td>3672</td>\n",
              "      <td>3845</td>\n",
              "      <td>1</td>\n",
              "    </tr>\n",
              "    <tr>\n",
              "      <th>3</th>\n",
              "      <td>960</td>\n",
              "      <td>1199</td>\n",
              "      <td>1</td>\n",
              "    </tr>\n",
              "    <tr>\n",
              "      <th>4</th>\n",
              "      <td>2073</td>\n",
              "      <td>2561</td>\n",
              "      <td>1</td>\n",
              "    </tr>\n",
              "  </tbody>\n",
              "</table>\n",
              "</div>"
            ],
            "text/plain": [
              "   source_node  destination_node  indicator_link\n",
              "0         1029              1861               1\n",
              "1         1280              1741               1\n",
              "2         3672              3845               1\n",
              "3          960              1199               1\n",
              "4         2073              2561               1"
            ]
          },
          "metadata": {},
          "execution_count": 54
        }
      ],
      "source": [
        "df_final_train = pd.read_csv('train_X.csv', skiprows=skip_train, names=['source_node', 'destination_node'])\n",
        "df_final_train['indicator_link'] = pd.read_csv('train_y.csv', skiprows=skip_train, names=['indicator_link'])\n",
        "print(\"Our train matrix size \",df_final_train.shape)\n",
        "df_final_train.head()"
      ]
    },
    {
      "cell_type": "code",
      "execution_count": 55,
      "id": "df541a6b",
      "metadata": {
        "id": "df541a6b",
        "colab": {
          "base_uri": "https://localhost:8080/",
          "height": 224
        },
        "outputId": "08674f67-1d78-4e74-d6e7-0b0466cb5477"
      },
      "outputs": [
        {
          "output_type": "stream",
          "name": "stdout",
          "text": [
            "Our test matrix size  (50001, 3)\n"
          ]
        },
        {
          "output_type": "execute_result",
          "data": {
            "text/html": [
              "<div>\n",
              "<style scoped>\n",
              "    .dataframe tbody tr th:only-of-type {\n",
              "        vertical-align: middle;\n",
              "    }\n",
              "\n",
              "    .dataframe tbody tr th {\n",
              "        vertical-align: top;\n",
              "    }\n",
              "\n",
              "    .dataframe thead th {\n",
              "        text-align: right;\n",
              "    }\n",
              "</style>\n",
              "<table border=\"1\" class=\"dataframe\">\n",
              "  <thead>\n",
              "    <tr style=\"text-align: right;\">\n",
              "      <th></th>\n",
              "      <th>source_node</th>\n",
              "      <th>destination_node</th>\n",
              "      <th>indicator_link</th>\n",
              "    </tr>\n",
              "  </thead>\n",
              "  <tbody>\n",
              "    <tr>\n",
              "      <th>0</th>\n",
              "      <td>2489</td>\n",
              "      <td>2624</td>\n",
              "      <td>1</td>\n",
              "    </tr>\n",
              "    <tr>\n",
              "      <th>1</th>\n",
              "      <td>1003</td>\n",
              "      <td>1431</td>\n",
              "      <td>1</td>\n",
              "    </tr>\n",
              "    <tr>\n",
              "      <th>2</th>\n",
              "      <td>2328</td>\n",
              "      <td>2377</td>\n",
              "      <td>1</td>\n",
              "    </tr>\n",
              "    <tr>\n",
              "      <th>3</th>\n",
              "      <td>1122</td>\n",
              "      <td>1844</td>\n",
              "      <td>1</td>\n",
              "    </tr>\n",
              "    <tr>\n",
              "      <th>4</th>\n",
              "      <td>1207</td>\n",
              "      <td>1768</td>\n",
              "      <td>1</td>\n",
              "    </tr>\n",
              "  </tbody>\n",
              "</table>\n",
              "</div>"
            ],
            "text/plain": [
              "   source_node  destination_node  indicator_link\n",
              "0         2489              2624               1\n",
              "1         1003              1431               1\n",
              "2         2328              2377               1\n",
              "3         1122              1844               1\n",
              "4         1207              1768               1"
            ]
          },
          "metadata": {},
          "execution_count": 55
        }
      ],
      "source": [
        "df_final_test = pd.read_csv('test_X.csv', skiprows=skip_test, names=['source_node', 'destination_node'])\n",
        "df_final_test['indicator_link'] = pd.read_csv('test_y.csv', skiprows=skip_test, names=['indicator_link'])\n",
        "print(\"Our test matrix size \",df_final_test.shape)\n",
        "df_final_test.head()"
      ]
    },
    {
      "cell_type": "code",
      "execution_count": 56,
      "id": "542c43ea",
      "metadata": {
        "id": "542c43ea"
      },
      "outputs": [],
      "source": [
        "def compute_features_stage1(df_final):\n",
        "    #calculating no of followers followees for source and destination\n",
        "    #calculating intersection of followers and followees for source and destination\n",
        "    num_followers_s=[]\n",
        "    num_followees_s=[]\n",
        "    num_followers_d=[]\n",
        "    num_followees_d=[]\n",
        "    inter_followers=[]\n",
        "    inter_followees=[]\n",
        "    for i,row in df_final.iterrows():\n",
        "        try:\n",
        "            s1=set(train_graph.predecessors(row['source_node']))\n",
        "            s2=set(train_graph.successors(row['source_node']))\n",
        "        except:\n",
        "            s1 = set()\n",
        "            s2 = set()\n",
        "        try:\n",
        "            d1=set(train_graph.predecessors(row['destination_node']))\n",
        "            d2=set(train_graph.successors(row['destination_node']))\n",
        "        except:\n",
        "            d1 = set()\n",
        "            d2 = set()\n",
        "        num_followers_s.append(len(s1))\n",
        "        num_followees_s.append(len(s2))\n",
        "\n",
        "        num_followers_d.append(len(d1))\n",
        "        num_followees_d.append(len(d2))\n",
        "\n",
        "        inter_followers.append(len(s1.intersection(d1)))\n",
        "        inter_followees.append(len(s2.intersection(d2)))\n",
        "    \n",
        "    return num_followers_s, num_followers_d, num_followees_s, num_followees_d, inter_followers, inter_followees"
      ]
    },
    {
      "cell_type": "code",
      "execution_count": 57,
      "id": "c7210666",
      "metadata": {
        "id": "c7210666"
      },
      "outputs": [],
      "source": [
        "df_final_train['num_followers_s'], df_final_train['num_followers_d'], df_final_train['num_followees_s'], df_final_train['num_followees_d'], df_final_train['inter_followers'], df_final_train['inter_followees']= compute_features_stage1(df_final_train)"
      ]
    },
    {
      "cell_type": "code",
      "execution_count": 58,
      "id": "cf8911f5",
      "metadata": {
        "id": "cf8911f5"
      },
      "outputs": [],
      "source": [
        "df_final_test['num_followers_s'], df_final_test['num_followers_d'], df_final_test['num_followees_s'], df_final_test['num_followees_d'], df_final_test['inter_followers'], df_final_test['inter_followees']= compute_features_stage1(df_final_test)"
      ]
    },
    {
      "cell_type": "code",
      "execution_count": 59,
      "id": "6b966978",
      "metadata": {
        "id": "6b966978"
      },
      "outputs": [],
      "source": [
        "#mapping jaccrd followers to train and test data\n",
        "df_final_train['jaccard_followers'] = df_final_train.apply(lambda row:jaccard_for_followers(row['source_node'],row['destination_node']),axis=1)\n",
        "df_final_test['jaccard_followers'] = df_final_test.apply(lambda row:jaccard_for_followers(row['source_node'],row['destination_node']),axis=1)\n",
        "\n",
        "#mapping jaccrd followees to train and test data\n",
        "df_final_train['jaccard_followees'] = df_final_train.apply(lambda row:jaccard_for_followees(row['source_node'],row['destination_node']),axis=1)\n",
        "df_final_test['jaccard_followees'] = df_final_test.apply(lambda row:jaccard_for_followees(row['source_node'],row['destination_node']),axis=1)\n",
        "\n",
        "\n",
        "#mapping jaccrd followers to train and test data\n",
        "df_final_train['cosine_followers'] = df_final_train.apply(lambda row:cosine_for_followers(row['source_node'],row['destination_node']),axis=1)\n",
        "df_final_test['cosine_followers'] = df_final_test.apply(lambda row:cosine_for_followers(row['source_node'],row['destination_node']),axis=1)\n",
        "\n",
        "#mapping jaccrd followees to train and test data\n",
        "df_final_train['cosine_followees'] = df_final_train.apply(lambda row:cosine_for_followees(row['source_node'],row['destination_node']),axis=1)\n",
        "df_final_test['cosine_followees'] = df_final_test.apply(lambda row:cosine_for_followees(row['source_node'],row['destination_node']),axis=1)"
      ]
    },
    {
      "cell_type": "code",
      "execution_count": 60,
      "id": "218337db",
      "metadata": {
        "id": "218337db"
      },
      "outputs": [],
      "source": [
        "#mapping adar index on train\n",
        "df_final_train['adar_index'] = df_final_train.apply(lambda row: calc_adar_in(row['source_node'],row['destination_node']),axis=1)\n",
        "#mapping adar index on test\n",
        "df_final_test['adar_index'] = df_final_test.apply(lambda row: calc_adar_in(row['source_node'],row['destination_node']),axis=1)\n",
        "\n",
        "#mapping followback or not on train\n",
        "df_final_train['follows_back'] = df_final_train.apply(lambda row: follows_back(row['source_node'],row['destination_node']),axis=1)\n",
        "#mapping followback or not on test\n",
        "df_final_test['follows_back'] = df_final_test.apply(lambda row: follows_back(row['source_node'],row['destination_node']),axis=1)\n",
        "\n",
        "#mapping same component of wcc or not on train\n",
        "df_final_train['same_comp'] = df_final_train.apply(lambda row: belongs_to_same_wcc(row['source_node'],row['destination_node']),axis=1)\n",
        "##mapping same component of wcc or not on train\n",
        "df_final_test['same_comp'] = df_final_test.apply(lambda row: belongs_to_same_wcc(row['source_node'],row['destination_node']),axis=1)\n",
        "\n",
        "#mapping shortest path on train \n",
        "df_final_train['shortest_path'] = df_final_train.apply(lambda row: compute_shortest_path_length(row['source_node'],row['destination_node']),axis=1)\n",
        "#mapping shortest path on test\n",
        "df_final_test['shortest_path'] = df_final_test.apply(lambda row: compute_shortest_path_length(row['source_node'],row['destination_node']),axis=1)"
      ]
    },
    {
      "cell_type": "code",
      "execution_count": 61,
      "id": "aebb09d7",
      "metadata": {
        "id": "aebb09d7"
      },
      "outputs": [],
      "source": [
        "#page rank for source and destination in Train and Test\n",
        "#if anything not there in train graph then adding mean page rank \n",
        "df_final_train['page_rank_s'] = df_final_train.source_node.apply(lambda x:pr.get(x,mean_pr))\n",
        "df_final_train['page_rank_d'] = df_final_train.destination_node.apply(lambda x:pr.get(x,mean_pr))\n",
        "\n",
        "df_final_test['page_rank_s'] = df_final_test.source_node.apply(lambda x:pr.get(x,mean_pr))\n",
        "df_final_test['page_rank_d'] = df_final_test.destination_node.apply(lambda x:pr.get(x,mean_pr))\n",
        "\n",
        "#Katz centrality score for source and destination in Train and test\n",
        "#if anything not there in train graph then adding mean katz score\n",
        "df_final_train['katz_s'] = df_final_train.source_node.apply(lambda x: katz.get(x,mean_katz))\n",
        "df_final_train['katz_d'] = df_final_train.destination_node.apply(lambda x: katz.get(x,mean_katz))\n",
        "\n",
        "df_final_test['katz_s'] = df_final_test.source_node.apply(lambda x: katz.get(x,mean_katz))\n",
        "df_final_test['katz_d'] = df_final_test.destination_node.apply(lambda x: katz.get(x,mean_katz))\n",
        "\n",
        "#Hits algorithm score for source and destination in Train and test\n",
        "#if anything not there in train graph then adding 0\n",
        "df_final_train['hubs_s'] = df_final_train.source_node.apply(lambda x: hits[0].get(x,0))\n",
        "df_final_train['hubs_d'] = df_final_train.destination_node.apply(lambda x: hits[0].get(x,0))\n",
        "\n",
        "df_final_test['hubs_s'] = df_final_test.source_node.apply(lambda x: hits[0].get(x,0))\n",
        "df_final_test['hubs_d'] = df_final_test.destination_node.apply(lambda x: hits[0].get(x,0))\n",
        "\n",
        "#Hits algorithm score for source and destination in Train and Test\n",
        "#if anything not there in train graph then adding 0\n",
        "df_final_train['authorities_s'] = df_final_train.source_node.apply(lambda x: hits[1].get(x,0))\n",
        "df_final_train['authorities_d'] = df_final_train.destination_node.apply(lambda x: hits[1].get(x,0))\n",
        "\n",
        "df_final_test['authorities_s'] = df_final_test.source_node.apply(lambda x: hits[1].get(x,0))\n",
        "df_final_test['authorities_d'] = df_final_test.destination_node.apply(lambda x: hits[1].get(x,0))"
      ]
    },
    {
      "cell_type": "code",
      "execution_count": 62,
      "id": "3a9d90d7",
      "metadata": {
        "id": "3a9d90d7",
        "colab": {
          "base_uri": "https://localhost:8080/",
          "height": 313
        },
        "outputId": "4c9067ad-9c50-44ad-e12f-b7a4ffab80a3"
      },
      "outputs": [
        {
          "output_type": "execute_result",
          "data": {
            "text/html": [
              "<div>\n",
              "<style scoped>\n",
              "    .dataframe tbody tr th:only-of-type {\n",
              "        vertical-align: middle;\n",
              "    }\n",
              "\n",
              "    .dataframe tbody tr th {\n",
              "        vertical-align: top;\n",
              "    }\n",
              "\n",
              "    .dataframe thead th {\n",
              "        text-align: right;\n",
              "    }\n",
              "</style>\n",
              "<table border=\"1\" class=\"dataframe\">\n",
              "  <thead>\n",
              "    <tr style=\"text-align: right;\">\n",
              "      <th></th>\n",
              "      <th>source_node</th>\n",
              "      <th>destination_node</th>\n",
              "      <th>indicator_link</th>\n",
              "      <th>num_followers_s</th>\n",
              "      <th>num_followers_d</th>\n",
              "      <th>num_followees_s</th>\n",
              "      <th>num_followees_d</th>\n",
              "      <th>inter_followers</th>\n",
              "      <th>inter_followees</th>\n",
              "      <th>jaccard_followers</th>\n",
              "      <th>jaccard_followees</th>\n",
              "      <th>cosine_followers</th>\n",
              "      <th>cosine_followees</th>\n",
              "      <th>adar_index</th>\n",
              "      <th>follows_back</th>\n",
              "      <th>same_comp</th>\n",
              "      <th>shortest_path</th>\n",
              "      <th>page_rank_s</th>\n",
              "      <th>page_rank_d</th>\n",
              "      <th>katz_s</th>\n",
              "      <th>katz_d</th>\n",
              "      <th>hubs_s</th>\n",
              "      <th>hubs_d</th>\n",
              "      <th>authorities_s</th>\n",
              "      <th>authorities_d</th>\n",
              "    </tr>\n",
              "  </thead>\n",
              "  <tbody>\n",
              "    <tr>\n",
              "      <th>0</th>\n",
              "      <td>1029</td>\n",
              "      <td>1861</td>\n",
              "      <td>1</td>\n",
              "      <td>7</td>\n",
              "      <td>80</td>\n",
              "      <td>57</td>\n",
              "      <td>1</td>\n",
              "      <td>2</td>\n",
              "      <td>1</td>\n",
              "      <td>0</td>\n",
              "      <td>0.017544</td>\n",
              "      <td>0</td>\n",
              "      <td>0</td>\n",
              "      <td>0.495778</td>\n",
              "      <td>0</td>\n",
              "      <td>1</td>\n",
              "      <td>2</td>\n",
              "      <td>0.000089</td>\n",
              "      <td>0.001152</td>\n",
              "      <td>0.014724</td>\n",
              "      <td>0.021409</td>\n",
              "      <td>4.089243e-07</td>\n",
              "      <td>4.527902e-09</td>\n",
              "      <td>3.669039e-08</td>\n",
              "      <td>2.396975e-07</td>\n",
              "    </tr>\n",
              "    <tr>\n",
              "      <th>1</th>\n",
              "      <td>1280</td>\n",
              "      <td>1741</td>\n",
              "      <td>1</td>\n",
              "      <td>25</td>\n",
              "      <td>68</td>\n",
              "      <td>43</td>\n",
              "      <td>13</td>\n",
              "      <td>9</td>\n",
              "      <td>1</td>\n",
              "      <td>0</td>\n",
              "      <td>0.018182</td>\n",
              "      <td>0</td>\n",
              "      <td>0</td>\n",
              "      <td>0.518291</td>\n",
              "      <td>0</td>\n",
              "      <td>1</td>\n",
              "      <td>2</td>\n",
              "      <td>0.000120</td>\n",
              "      <td>0.000414</td>\n",
              "      <td>0.016152</td>\n",
              "      <td>0.020377</td>\n",
              "      <td>3.153065e-07</td>\n",
              "      <td>1.293777e-07</td>\n",
              "      <td>1.146800e-07</td>\n",
              "      <td>2.644499e-07</td>\n",
              "    </tr>\n",
              "    <tr>\n",
              "      <th>2</th>\n",
              "      <td>3672</td>\n",
              "      <td>3845</td>\n",
              "      <td>1</td>\n",
              "      <td>22</td>\n",
              "      <td>12</td>\n",
              "      <td>20</td>\n",
              "      <td>4</td>\n",
              "      <td>6</td>\n",
              "      <td>3</td>\n",
              "      <td>0</td>\n",
              "      <td>0.142857</td>\n",
              "      <td>0</td>\n",
              "      <td>0</td>\n",
              "      <td>2.178350</td>\n",
              "      <td>0</td>\n",
              "      <td>1</td>\n",
              "      <td>2</td>\n",
              "      <td>0.000283</td>\n",
              "      <td>0.000189</td>\n",
              "      <td>0.015825</td>\n",
              "      <td>0.015130</td>\n",
              "      <td>9.524447e-12</td>\n",
              "      <td>1.925296e-12</td>\n",
              "      <td>1.703471e-12</td>\n",
              "      <td>1.506517e-12</td>\n",
              "    </tr>\n",
              "    <tr>\n",
              "      <th>3</th>\n",
              "      <td>960</td>\n",
              "      <td>1199</td>\n",
              "      <td>1</td>\n",
              "      <td>4</td>\n",
              "      <td>45</td>\n",
              "      <td>77</td>\n",
              "      <td>128</td>\n",
              "      <td>3</td>\n",
              "      <td>37</td>\n",
              "      <td>0</td>\n",
              "      <td>0.220238</td>\n",
              "      <td>0</td>\n",
              "      <td>0</td>\n",
              "      <td>20.834481</td>\n",
              "      <td>0</td>\n",
              "      <td>1</td>\n",
              "      <td>2</td>\n",
              "      <td>0.000088</td>\n",
              "      <td>0.000130</td>\n",
              "      <td>0.014498</td>\n",
              "      <td>0.017618</td>\n",
              "      <td>2.010695e-07</td>\n",
              "      <td>5.437835e-07</td>\n",
              "      <td>1.734265e-08</td>\n",
              "      <td>1.906629e-07</td>\n",
              "    </tr>\n",
              "    <tr>\n",
              "      <th>4</th>\n",
              "      <td>2073</td>\n",
              "      <td>2561</td>\n",
              "      <td>1</td>\n",
              "      <td>28</td>\n",
              "      <td>115</td>\n",
              "      <td>132</td>\n",
              "      <td>16</td>\n",
              "      <td>19</td>\n",
              "      <td>10</td>\n",
              "      <td>0</td>\n",
              "      <td>0.072464</td>\n",
              "      <td>0</td>\n",
              "      <td>0</td>\n",
              "      <td>4.723572</td>\n",
              "      <td>0</td>\n",
              "      <td>1</td>\n",
              "      <td>2</td>\n",
              "      <td>0.000099</td>\n",
              "      <td>0.000542</td>\n",
              "      <td>0.016329</td>\n",
              "      <td>0.025332</td>\n",
              "      <td>8.443623e-03</td>\n",
              "      <td>1.396941e-03</td>\n",
              "      <td>2.233640e-03</td>\n",
              "      <td>6.760294e-03</td>\n",
              "    </tr>\n",
              "  </tbody>\n",
              "</table>\n",
              "</div>"
            ],
            "text/plain": [
              "   source_node  destination_node  ...  authorities_s  authorities_d\n",
              "0         1029              1861  ...   3.669039e-08   2.396975e-07\n",
              "1         1280              1741  ...   1.146800e-07   2.644499e-07\n",
              "2         3672              3845  ...   1.703471e-12   1.506517e-12\n",
              "3          960              1199  ...   1.734265e-08   1.906629e-07\n",
              "4         2073              2561  ...   2.233640e-03   6.760294e-03\n",
              "\n",
              "[5 rows x 25 columns]"
            ]
          },
          "metadata": {},
          "execution_count": 62
        }
      ],
      "source": [
        "df_final_train.head()"
      ]
    },
    {
      "cell_type": "code",
      "execution_count": 63,
      "id": "4664c417",
      "metadata": {
        "id": "4664c417",
        "colab": {
          "base_uri": "https://localhost:8080/",
          "height": 313
        },
        "outputId": "1403302b-bf64-4ea2-f644-87ddc4e0d558"
      },
      "outputs": [
        {
          "output_type": "execute_result",
          "data": {
            "text/html": [
              "<div>\n",
              "<style scoped>\n",
              "    .dataframe tbody tr th:only-of-type {\n",
              "        vertical-align: middle;\n",
              "    }\n",
              "\n",
              "    .dataframe tbody tr th {\n",
              "        vertical-align: top;\n",
              "    }\n",
              "\n",
              "    .dataframe thead th {\n",
              "        text-align: right;\n",
              "    }\n",
              "</style>\n",
              "<table border=\"1\" class=\"dataframe\">\n",
              "  <thead>\n",
              "    <tr style=\"text-align: right;\">\n",
              "      <th></th>\n",
              "      <th>source_node</th>\n",
              "      <th>destination_node</th>\n",
              "      <th>indicator_link</th>\n",
              "      <th>num_followers_s</th>\n",
              "      <th>num_followers_d</th>\n",
              "      <th>num_followees_s</th>\n",
              "      <th>num_followees_d</th>\n",
              "      <th>inter_followers</th>\n",
              "      <th>inter_followees</th>\n",
              "      <th>jaccard_followers</th>\n",
              "      <th>jaccard_followees</th>\n",
              "      <th>cosine_followers</th>\n",
              "      <th>cosine_followees</th>\n",
              "      <th>adar_index</th>\n",
              "      <th>follows_back</th>\n",
              "      <th>same_comp</th>\n",
              "      <th>shortest_path</th>\n",
              "      <th>page_rank_s</th>\n",
              "      <th>page_rank_d</th>\n",
              "      <th>katz_s</th>\n",
              "      <th>katz_d</th>\n",
              "      <th>hubs_s</th>\n",
              "      <th>hubs_d</th>\n",
              "      <th>authorities_s</th>\n",
              "      <th>authorities_d</th>\n",
              "    </tr>\n",
              "  </thead>\n",
              "  <tbody>\n",
              "    <tr>\n",
              "      <th>0</th>\n",
              "      <td>2489</td>\n",
              "      <td>2624</td>\n",
              "      <td>1</td>\n",
              "      <td>72</td>\n",
              "      <td>141</td>\n",
              "      <td>20</td>\n",
              "      <td>7</td>\n",
              "      <td>45</td>\n",
              "      <td>3</td>\n",
              "      <td>0</td>\n",
              "      <td>0.125000</td>\n",
              "      <td>0</td>\n",
              "      <td>0</td>\n",
              "      <td>1.441060</td>\n",
              "      <td>0</td>\n",
              "      <td>1</td>\n",
              "      <td>2</td>\n",
              "      <td>0.000212</td>\n",
              "      <td>0.001474</td>\n",
              "      <td>0.020887</td>\n",
              "      <td>0.028047</td>\n",
              "      <td>1.766985e-03</td>\n",
              "      <td>5.854158e-04</td>\n",
              "      <td>4.769803e-03</td>\n",
              "      <td>7.592705e-03</td>\n",
              "    </tr>\n",
              "    <tr>\n",
              "      <th>1</th>\n",
              "      <td>1003</td>\n",
              "      <td>1431</td>\n",
              "      <td>1</td>\n",
              "      <td>3</td>\n",
              "      <td>89</td>\n",
              "      <td>76</td>\n",
              "      <td>85</td>\n",
              "      <td>2</td>\n",
              "      <td>27</td>\n",
              "      <td>0</td>\n",
              "      <td>0.201493</td>\n",
              "      <td>0</td>\n",
              "      <td>0</td>\n",
              "      <td>14.966388</td>\n",
              "      <td>0</td>\n",
              "      <td>1</td>\n",
              "      <td>2</td>\n",
              "      <td>0.000083</td>\n",
              "      <td>0.000256</td>\n",
              "      <td>0.014429</td>\n",
              "      <td>0.021342</td>\n",
              "      <td>2.705420e-07</td>\n",
              "      <td>5.482346e-07</td>\n",
              "      <td>1.304894e-08</td>\n",
              "      <td>3.190531e-07</td>\n",
              "    </tr>\n",
              "    <tr>\n",
              "      <th>2</th>\n",
              "      <td>2328</td>\n",
              "      <td>2377</td>\n",
              "      <td>1</td>\n",
              "      <td>78</td>\n",
              "      <td>40</td>\n",
              "      <td>53</td>\n",
              "      <td>27</td>\n",
              "      <td>27</td>\n",
              "      <td>20</td>\n",
              "      <td>0</td>\n",
              "      <td>0.333333</td>\n",
              "      <td>0</td>\n",
              "      <td>0</td>\n",
              "      <td>11.084414</td>\n",
              "      <td>0</td>\n",
              "      <td>1</td>\n",
              "      <td>2</td>\n",
              "      <td>0.000287</td>\n",
              "      <td>0.000193</td>\n",
              "      <td>0.020568</td>\n",
              "      <td>0.017600</td>\n",
              "      <td>5.031623e-04</td>\n",
              "      <td>1.725013e-04</td>\n",
              "      <td>7.065618e-04</td>\n",
              "      <td>3.535951e-04</td>\n",
              "    </tr>\n",
              "    <tr>\n",
              "      <th>3</th>\n",
              "      <td>1122</td>\n",
              "      <td>1844</td>\n",
              "      <td>1</td>\n",
              "      <td>15</td>\n",
              "      <td>51</td>\n",
              "      <td>23</td>\n",
              "      <td>4</td>\n",
              "      <td>4</td>\n",
              "      <td>2</td>\n",
              "      <td>0</td>\n",
              "      <td>0.080000</td>\n",
              "      <td>0</td>\n",
              "      <td>0</td>\n",
              "      <td>1.335237</td>\n",
              "      <td>0</td>\n",
              "      <td>1</td>\n",
              "      <td>2</td>\n",
              "      <td>0.000161</td>\n",
              "      <td>0.001840</td>\n",
              "      <td>0.015344</td>\n",
              "      <td>0.018239</td>\n",
              "      <td>6.847518e-09</td>\n",
              "      <td>1.194575e-09</td>\n",
              "      <td>2.931117e-08</td>\n",
              "      <td>1.921613e-08</td>\n",
              "    </tr>\n",
              "    <tr>\n",
              "      <th>4</th>\n",
              "      <td>1207</td>\n",
              "      <td>1768</td>\n",
              "      <td>1</td>\n",
              "      <td>14</td>\n",
              "      <td>145</td>\n",
              "      <td>42</td>\n",
              "      <td>20</td>\n",
              "      <td>6</td>\n",
              "      <td>7</td>\n",
              "      <td>0</td>\n",
              "      <td>0.127273</td>\n",
              "      <td>0</td>\n",
              "      <td>0</td>\n",
              "      <td>3.374991</td>\n",
              "      <td>0</td>\n",
              "      <td>1</td>\n",
              "      <td>2</td>\n",
              "      <td>0.000104</td>\n",
              "      <td>0.000786</td>\n",
              "      <td>0.015279</td>\n",
              "      <td>0.026765</td>\n",
              "      <td>1.382856e-07</td>\n",
              "      <td>1.519304e-07</td>\n",
              "      <td>6.591032e-08</td>\n",
              "      <td>5.298938e-07</td>\n",
              "    </tr>\n",
              "  </tbody>\n",
              "</table>\n",
              "</div>"
            ],
            "text/plain": [
              "   source_node  destination_node  ...  authorities_s  authorities_d\n",
              "0         2489              2624  ...   4.769803e-03   7.592705e-03\n",
              "1         1003              1431  ...   1.304894e-08   3.190531e-07\n",
              "2         2328              2377  ...   7.065618e-04   3.535951e-04\n",
              "3         1122              1844  ...   2.931117e-08   1.921613e-08\n",
              "4         1207              1768  ...   6.591032e-08   5.298938e-07\n",
              "\n",
              "[5 rows x 25 columns]"
            ]
          },
          "metadata": {},
          "execution_count": 63
        }
      ],
      "source": [
        "df_final_test.head()"
      ]
    },
    {
      "cell_type": "code",
      "execution_count": 64,
      "id": "1bea3777",
      "metadata": {
        "id": "1bea3777",
        "colab": {
          "base_uri": "https://localhost:8080/"
        },
        "outputId": "1deae801-9076-4e68-9bc6-6003b82c30c5"
      },
      "outputs": [
        {
          "output_type": "execute_result",
          "data": {
            "text/plain": [
              "Index(['source_node', 'destination_node', 'indicator_link', 'num_followers_s',\n",
              "       'num_followers_d', 'num_followees_s', 'num_followees_d',\n",
              "       'inter_followers', 'inter_followees', 'jaccard_followers',\n",
              "       'jaccard_followees', 'cosine_followers', 'cosine_followees',\n",
              "       'adar_index', 'follows_back', 'same_comp', 'shortest_path',\n",
              "       'page_rank_s', 'page_rank_d', 'katz_s', 'katz_d', 'hubs_s', 'hubs_d',\n",
              "       'authorities_s', 'authorities_d'],\n",
              "      dtype='object')"
            ]
          },
          "metadata": {},
          "execution_count": 64
        }
      ],
      "source": [
        "df_final_train.columns"
      ]
    },
    {
      "cell_type": "markdown",
      "id": "3202e791",
      "metadata": {
        "id": "3202e791"
      },
      "source": [
        "# Target data"
      ]
    },
    {
      "cell_type": "code",
      "execution_count": 65,
      "id": "c4a913ff",
      "metadata": {
        "id": "c4a913ff"
      },
      "outputs": [],
      "source": [
        "y_train = df_final_train.indicator_link\n",
        "y_test = df_final_test.indicator_link"
      ]
    },
    {
      "cell_type": "markdown",
      "id": "ec64ea52",
      "metadata": {
        "id": "ec64ea52"
      },
      "source": [
        "### Droping unwanted columns and target values"
      ]
    },
    {
      "cell_type": "code",
      "execution_count": 66,
      "id": "82d8d781",
      "metadata": {
        "id": "82d8d781"
      },
      "outputs": [],
      "source": [
        "df_final_train.drop(['source_node', 'destination_node','indicator_link'],axis=1,inplace=True)\n",
        "df_final_test.drop(['source_node', 'destination_node','indicator_link'],axis=1,inplace=True)"
      ]
    },
    {
      "cell_type": "markdown",
      "id": "4a93a595",
      "metadata": {
        "id": "4a93a595"
      },
      "source": [
        "# Model: XGBoost Classification"
      ]
    },
    {
      "cell_type": "code",
      "execution_count": 67,
      "id": "c5e32bfb",
      "metadata": {
        "id": "c5e32bfb",
        "colab": {
          "base_uri": "https://localhost:8080/"
        },
        "outputId": "e845f476-c385-4bb1-e6e6-cf532b00cda7"
      },
      "outputs": [
        {
          "output_type": "execute_result",
          "data": {
            "text/plain": [
              "RandomizedSearchCV(estimator=XGBClassifier(), n_iter=15, n_jobs=-1,\n",
              "                   param_distributions={'learning_rate': [0.01, 0.05, 0.1],\n",
              "                                        'max_depth': [1, 2, 3, 4, 5],\n",
              "                                        'n_estimators': [100, 200, 300, 400,\n",
              "                                                         500],\n",
              "                                        'reg_lambda': [0.001, 0.1, 1.0, 10.0,\n",
              "                                                       100.0]},\n",
              "                   scoring='roc_auc')"
            ]
          },
          "metadata": {},
          "execution_count": 67
        }
      ],
      "source": [
        "tuned_params = {'max_depth': [1, 2, 3, 4, 5], 'learning_rate': [0.01, 0.05, 0.1], 'n_estimators': [100, 200, 300, 400, 500], 'reg_lambda': [0.001, 0.1, 1.0, 10.0, 100.0]}\n",
        "model = RandomizedSearchCV(XGBClassifier(), tuned_params, n_iter=15, scoring = 'roc_auc', n_jobs=-1)\n",
        "model.fit(df_final_train,y_train) # actual data and actual prediction"
      ]
    },
    {
      "cell_type": "code",
      "execution_count": 78,
      "id": "362352d5",
      "metadata": {
        "id": "362352d5",
        "colab": {
          "base_uri": "https://localhost:8080/"
        },
        "outputId": "6e98aaaa-eb3d-4a91-e2cf-db0615c23eec"
      },
      "outputs": [
        {
          "output_type": "execute_result",
          "data": {
            "text/plain": [
              "XGBClassifier(learning_rate=0.05, max_depth=5, n_estimators=300,\n",
              "              reg_lambda=10.0)"
            ]
          },
          "metadata": {},
          "execution_count": 78
        }
      ],
      "source": [
        "model.best_estimator_"
      ]
    },
    {
      "cell_type": "markdown",
      "id": "24b5ae1d",
      "metadata": {
        "id": "24b5ae1d"
      },
      "source": [
        "* In contrast to GridSearchCV, not all parameter values are tried out, but rather a fixed number of parameter settings is sampled."
      ]
    },
    {
      "cell_type": "code",
      "execution_count": null,
      "id": "cff9f8c5",
      "metadata": {
        "id": "cff9f8c5"
      },
      "outputs": [],
      "source": [
        "best_estimator = model.best_estimator_\n",
        "\n",
        "clf = GridSearchCV(XGBClassifier(base_score=0.5, booster='gbtree', colsample_bylevel=1,\n",
        "       colsample_bytree=1, gamma=0, learning_rate=best_estimator.learning_rate, max_delta_step=0,\n",
        "       max_depth=best_estimator.max_depth, min_child_weight=1, missing=None, n_estimators=best_estimator.n_estimators,\n",
        "       n_jobs=1, nthread=None, objective='binary:logistic', random_state=0,\n",
        "       reg_alpha=0, reg_lambda=best_estimator.reg_lambda, scale_pos_weight=1, seed=None,\n",
        "       silent=True, subsample=1), tuned_params, scoring = 'roc_auc', n_jobs=-1)\n",
        "\n",
        "clf.fit(df_final_train,y_train) # actual data and actual prediction"
      ]
    },
    {
      "cell_type": "markdown",
      "id": "31d56bff",
      "metadata": {
        "id": "31d56bff"
      },
      "source": [
        "# Test set"
      ]
    },
    {
      "cell_type": "code",
      "execution_count": null,
      "id": "d19d7cec",
      "metadata": {
        "id": "d19d7cec"
      },
      "outputs": [],
      "source": [
        "y_train_pred = clf.predict(df_final_train)\n",
        "y_test_pred = clf.predict(df_final_test)"
      ]
    },
    {
      "cell_type": "markdown",
      "id": "3e5046d4",
      "metadata": {
        "id": "3e5046d4"
      },
      "source": [
        "# F1 score\n",
        "\n",
        "F1 Score is the weighted average of Precision and Recall. Therefore, this score takes both false positives and false negatives into account."
      ]
    },
    {
      "cell_type": "code",
      "execution_count": null,
      "id": "e6310eec",
      "metadata": {
        "id": "e6310eec"
      },
      "outputs": [],
      "source": [
        "print('Train f1 score',f1_score(y_train,y_train_pred))\n",
        "print('Test f1 score',f1_score(y_test,y_test_pred))"
      ]
    },
    {
      "cell_type": "markdown",
      "id": "3d581301",
      "metadata": {
        "id": "3d581301"
      },
      "source": [
        "# Confusion metrics"
      ]
    },
    {
      "cell_type": "code",
      "execution_count": null,
      "id": "660a6629",
      "metadata": {
        "id": "660a6629"
      },
      "outputs": [],
      "source": [
        "confusion_matrix(y_test, y_test_pred).T"
      ]
    },
    {
      "cell_type": "code",
      "execution_count": null,
      "id": "219efa4b",
      "metadata": {
        "id": "219efa4b"
      },
      "outputs": [],
      "source": [
        "def plot_confusion_matrix(test_y, predict_y):\n",
        "    C = confusion_matrix(test_y, predict_y)\n",
        "    \n",
        "    A =(((C.T)/(C.sum(axis=1))).T)\n",
        "    \n",
        "    B =(C/C.sum(axis=0))\n",
        "    plt.figure(figsize=(20,4))\n",
        "    \n",
        "    labels = [0,1]\n",
        "    # representing A in heatmap format\n",
        "    cmap=sns.light_palette(\"blue\")\n",
        "    plt.subplot(1, 3, 1)\n",
        "    sns.heatmap(C, annot=True, cmap=cmap, fmt=\".3f\", xticklabels=labels, yticklabels=labels)\n",
        "    plt.xlabel('Predicted Class')\n",
        "    plt.ylabel('Original Class')\n",
        "    plt.title(\"Confusion matrix\")\n",
        "    \n",
        "    plt.subplot(1, 3, 2)\n",
        "    sns.heatmap(B, annot=True, cmap=cmap, fmt=\".3f\", xticklabels=labels, yticklabels=labels)\n",
        "    plt.xlabel('Predicted Class')\n",
        "    plt.ylabel('Original Class')\n",
        "    plt.title(\"Precision matrix\")\n",
        "    \n",
        "    plt.subplot(1, 3, 3)\n",
        "    # representing B in heatmap format\n",
        "    sns.heatmap(A, annot=True, cmap=cmap, fmt=\".3f\", xticklabels=labels, yticklabels=labels)\n",
        "    plt.xlabel('Predicted Class')\n",
        "    plt.ylabel('Original Class')\n",
        "    plt.title(\"Recall matrix\")\n",
        "    \n",
        "    plt.show()"
      ]
    },
    {
      "cell_type": "code",
      "execution_count": null,
      "id": "f0199239",
      "metadata": {
        "id": "f0199239"
      },
      "outputs": [],
      "source": [
        "print('Train confusion_matrix')\n",
        "plot_confusion_matrix(y_train,y_train_pred)\n",
        "print('Test confusion_matrix')\n",
        "plot_confusion_matrix(y_test,y_test_pred)"
      ]
    },
    {
      "cell_type": "markdown",
      "id": "88aade67",
      "metadata": {
        "id": "88aade67"
      },
      "source": [
        "# ROC AUC"
      ]
    },
    {
      "cell_type": "code",
      "execution_count": null,
      "id": "9faf647e",
      "metadata": {
        "id": "9faf647e"
      },
      "outputs": [],
      "source": [
        "fpr,tpr,ths = roc_curve(y_test,y_test_pred)\n",
        "auc_sc = auc(fpr, tpr)\n",
        "plt.plot(fpr, tpr, color='navy',label='ROC curve (area = %0.2f)' % auc_sc)\n",
        "plt.xlabel('False Positive Rate')\n",
        "plt.ylabel('True Positive Rate')\n",
        "plt.title('Receiver operating characteristic with test data')\n",
        "plt.legend()\n",
        "plt.show()"
      ]
    },
    {
      "cell_type": "code",
      "execution_count": null,
      "id": "f2aae9e1",
      "metadata": {
        "id": "f2aae9e1"
      },
      "outputs": [],
      "source": [
        "features = df_final_train.columns\n",
        "importances = clf.feature_importances_\n",
        "indices = (np.argsort(importances))[-25:]\n",
        "plt.figure(figsize=(10,12))\n",
        "plt.title('Feature Importances')\n",
        "plt.barh(range(len(indices)), importances[indices], color='r', align='center')\n",
        "plt.yticks(range(len(indices)), [features[i] for i in indices])\n",
        "plt.xlabel('Relative Importance')\n",
        "plt.show()"
      ]
    },
    {
      "cell_type": "markdown",
      "id": "1fd0595e",
      "metadata": {
        "id": "1fd0595e"
      },
      "source": [
        "## Testing Accuracy"
      ]
    },
    {
      "cell_type": "code",
      "execution_count": null,
      "id": "e9576900",
      "metadata": {
        "id": "e9576900"
      },
      "outputs": [],
      "source": [
        "acc=accuracy_score(y_test,y_test_pred,normalize=True)*float(100)\n",
        "print(acc)"
      ]
    },
    {
      "cell_type": "markdown",
      "id": "537c4919",
      "metadata": {
        "id": "537c4919"
      },
      "source": [
        "## Training Accuracy"
      ]
    },
    {
      "cell_type": "code",
      "execution_count": null,
      "id": "1eea97b1",
      "metadata": {
        "id": "1eea97b1"
      },
      "outputs": [],
      "source": [
        "acc=accuracy_score(y_train,y_train_pred,normalize=True)*float(100)\n",
        "print(acc)"
      ]
    },
    {
      "cell_type": "code",
      "execution_count": null,
      "id": "4d5cf053",
      "metadata": {
        "id": "4d5cf053"
      },
      "outputs": [],
      "source": [
        ""
      ]
    }
  ],
  "metadata": {
    "kernelspec": {
      "display_name": "Python 3",
      "language": "python",
      "name": "python3"
    },
    "language_info": {
      "codemirror_mode": {
        "name": "ipython",
        "version": 3
      },
      "file_extension": ".py",
      "mimetype": "text/x-python",
      "name": "python",
      "nbconvert_exporter": "python",
      "pygments_lexer": "ipython3",
      "version": "3.6.4"
    },
    "colab": {
      "name": "Link Prediction on Facebook Recruiting Dataset.ipynb",
      "provenance": [],
      "collapsed_sections": [],
      "include_colab_link": true
    },
    "accelerator": "GPU"
  },
  "nbformat": 4,
  "nbformat_minor": 5
}