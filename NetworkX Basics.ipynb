{
 "cells": [
  {
   "cell_type": "markdown",
   "metadata": {},
   "source": [
    "## Network Basics\n",
    "\n",
    "*All your relational problems are belong to networks.*\n",
    "\n",
    "Networks, a.k.a. graphs, are an immensely useful modelling tool to model complex relational problems.\n",
    "\n",
    "Networks are comprised of two main entities:\n",
    "\n",
    "* Nodes: commonly represented as circles. In the academic literature, nodes are also known as \"vertices\".\n",
    "* Edges: commonly represented as lines between circles\n",
    "\n",
    "Edges denote relationships between the nodes.\n",
    "\n",
    ">The heart of a graph lies in its edges, not in its nodes. (John Quackenbush, Harvard School of Public Health)\n",
    "\n",
    "In a network, if two nodes are joined together by an edge, then they are neighbors of one another.\n",
    "\n",
    "There are generally two types of networks - directed and undirected. In undirected networks, edges do not have a directionality associated with them. In directed networks, they do."
   ]
  },
  {
   "cell_type": "markdown",
   "metadata": {},
   "source": [
    "## Definition of a graph\n",
    "By definition,\n",
    "\n",
    "* a Graph is a collection of nodes (vertices) along with identified pairs of nodes (called edges, links, etc).\n",
    "\n",
    "In NetworkX, nodes can be any hashable object\n",
    "\n",
    "* a text string,\n",
    "* an image,\n",
    "* an XML object,\n",
    "* another Graph,\n",
    "* a customized node object, etc.\n",
    "\n",
    "Note: Python’s None object should not be used as a node as it determines whether optional function arguments have been assigned in many functions.)"
   ]
  },
  {
   "cell_type": "markdown",
   "metadata": {},
   "source": [
    "### Examples of Networks\n",
    "\n",
    "1. Facebook's network: Individuals are nodes, edges are drawn between individuals who are FB friends with one another. **undirected network.**\n",
    "2. Air traffic network: Airports are nodes, flights between airports are the edges. **directed network.**\n",
    "\n",
    "Can you think of any others?\n",
    "\n",
    "The key questions here are as follows. How do we...:\n",
    "\n",
    "1. model a problem as a network?\n",
    "2. extract useful information from a network?"
   ]
  },
  {
   "cell_type": "code",
   "execution_count": null,
   "metadata": {},
   "outputs": [],
   "source": []
  }
 ],
 "metadata": {
  "kernelspec": {
   "display_name": "Python 3",
   "language": "python",
   "name": "python3"
  },
  "language_info": {
   "codemirror_mode": {
    "name": "ipython",
    "version": 3
   },
   "file_extension": ".py",
   "mimetype": "text/x-python",
   "name": "python",
   "nbconvert_exporter": "python",
   "pygments_lexer": "ipython3",
   "version": "3.8.3"
  }
 },
 "nbformat": 4,
 "nbformat_minor": 4
}
