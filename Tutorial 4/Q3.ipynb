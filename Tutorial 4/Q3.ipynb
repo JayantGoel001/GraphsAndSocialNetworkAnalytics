{
 "cells": [
  {
   "cell_type": "code",
   "execution_count": 1,
   "id": "b126a430-9774-47ad-8adb-c85d768eef5c",
   "metadata": {},
   "outputs": [],
   "source": [
    "import networkx as nx\n",
    "import numpy as np\n",
    "import pandas as pd\n",
    "import matplotlib.pyplot as plt\n",
    "plt.style.use('seaborn')"
   ]
  },
  {
   "cell_type": "code",
   "execution_count": 2,
   "id": "86ab2211-095d-49d3-87cd-ccbe4cd9ceb4",
   "metadata": {},
   "outputs": [],
   "source": [
    "edge_list = [\n",
    "    ['A','B'],\n",
    "    ['B','A'],\n",
    "    ['C','A'],\n",
    "    ['C','B'],\n",
    "    ['C','D'],\n",
    "    ['D','B'],\n",
    "    ['E','A'],\n",
    "    ['E','B'],\n",
    "    ['E','D']\n",
    "]"
   ]
  },
  {
   "cell_type": "code",
   "execution_count": 3,
   "id": "32d25de1-0b3c-4902-a005-4859facc7be7",
   "metadata": {},
   "outputs": [],
   "source": [
    "G = nx.DiGraph(edge_list)"
   ]
  },
  {
   "cell_type": "code",
   "execution_count": 4,
   "id": "806df876-3716-4b20-8c04-c7f8126c50bb",
   "metadata": {},
   "outputs": [
    {
     "name": "stdout",
     "output_type": "stream",
     "text": [
      "['A', 'B', 'C', 'D', 'E']\n"
     ]
    }
   ],
   "source": [
    "nodes = list(G.nodes())\n",
    "print(nodes)"
   ]
  },
  {
   "cell_type": "code",
   "execution_count": 5,
   "id": "28fb0f4e-ec5c-48ab-9b38-202eb0aae6b9",
   "metadata": {},
   "outputs": [
    {
     "data": {
      "image/png": "[encoded data removed]",
      "text/plain": [
       "<Figure size 576x396 with 1 Axes>"
      ]
     },
     "metadata": {},
     "output_type": "display_data"
    }
   ],
   "source": [
    "pos = nx.planar_layout(G)\n",
    "nx.draw_networkx(G,pos,node_color='black',font_color='white')"
   ]
  },
  {
   "cell_type": "markdown",
   "id": "74da8a10-cc2a-4563-a8f5-964bf5be038b",
   "metadata": {},
   "source": [
    "## Structural equivalence \n",
    "\n",
    "Two vertices of a network are structurally equivalent if they share many of the same neighbors.\n",
    "\n",
    "### Cosine similarity\n",
    "\n",
    "A simple count of common neighbors for two vertices is not on its own a very good measure. One should know the degree of the vertices or how many common neighbors other pairs of vertices has. Cosine similarity takes into account these regards and also allow for varying degrees of vertices. Salton proposed that we regard the i-th and j-th rows/columns of the adjacency matrix as two vectors and use the cosine of the angle between them as a similarity measure. The cosine similarity of i and j is the number of common neighbors divided by the geometric mean of their degrees.\n",
    "\n",
    "Its value lies in the range from 0 to 1. The value of 1 indicates that the two vertices have exactly the same neighbors while the value of zero means that they do not have any common neighbors. Cosine similarity is technically undefined if one or both of the nodes has zero degree, but according to the convention, we say that cosine similarity is 0 in these cases.\n",
    "\n",
    "$N_{i}$ --> Neighbours  of vertex i\n",
    "\n",
    "cosine(u,v) = $\\frac{|N_{u} \\cap N_{v}|}{\\sqrt{|N_{u}|.|N_{v}|}}$"
   ]
  },
  {
   "cell_type": "code",
   "execution_count": 6,
   "id": "47db18dd-73a4-4886-9639-32e682a0e299",
   "metadata": {},
   "outputs": [],
   "source": [
    "def cosineSimilarity(Nu,Nv):\n",
    "    Nuv = np.intersect1d(Nu,Nv)\n",
    "    return len(Nuv)/np.sqrt(len(Nu) * len(Nv))"
   ]
  },
  {
   "cell_type": "code",
   "execution_count": 7,
   "id": "d3b85f9f-db05-48c2-bee0-e9a99e8b60ec",
   "metadata": {},
   "outputs": [],
   "source": [
    "# Calculating Cosine Similarity between every two vertex.\n",
    "cosine_similarities = []\n",
    "\n",
    "for i in range(len(nodes)):\n",
    "    temp = []\n",
    "    for j in range(len(nodes)):\n",
    "        temp.append(cosineSimilarity(list(G.neighbors(nodes[i])),list(G.neighbors(nodes[j]))))\n",
    "    cosine_similarities.append(temp)"
   ]
  },
  {
   "cell_type": "code",
   "execution_count": 8,
   "id": "6834acbb-ea10-4ea1-8168-3affd69f7fb1",
   "metadata": {},
   "outputs": [
    {
     "data": {
      "text/html": [
       "<div>\n",
       "<style scoped>\n",
       "    .dataframe tbody tr th:only-of-type {\n",
       "        vertical-align: middle;\n",
       "    }\n",
       "\n",
       "    .dataframe tbody tr th {\n",
       "        vertical-align: top;\n",
       "    }\n",
       "\n",
       "    .dataframe thead th {\n",
       "        text-align: right;\n",
       "    }\n",
       "</style>\n",
       "<table border=\"1\" class=\"dataframe\">\n",
       "  <thead>\n",
       "    <tr style=\"text-align: right;\">\n",
       "      <th></th>\n",
       "      <th>A</th>\n",
       "      <th>B</th>\n",
       "      <th>C</th>\n",
       "      <th>D</th>\n",
       "      <th>E</th>\n",
       "    </tr>\n",
       "  </thead>\n",
       "  <tbody>\n",
       "    <tr>\n",
       "      <th>A</th>\n",
       "      <td>1.00000</td>\n",
       "      <td>0.00000</td>\n",
       "      <td>0.57735</td>\n",
       "      <td>1.00000</td>\n",
       "      <td>0.57735</td>\n",
       "    </tr>\n",
       "    <tr>\n",
       "      <th>B</th>\n",
       "      <td>0.00000</td>\n",
       "      <td>1.00000</td>\n",
       "      <td>0.57735</td>\n",
       "      <td>0.00000</td>\n",
       "      <td>0.57735</td>\n",
       "    </tr>\n",
       "    <tr>\n",
       "      <th>C</th>\n",
       "      <td>0.57735</td>\n",
       "      <td>0.57735</td>\n",
       "      <td>1.00000</td>\n",
       "      <td>0.57735</td>\n",
       "      <td>1.00000</td>\n",
       "    </tr>\n",
       "    <tr>\n",
       "      <th>D</th>\n",
       "      <td>1.00000</td>\n",
       "      <td>0.00000</td>\n",
       "      <td>0.57735</td>\n",
       "      <td>1.00000</td>\n",
       "      <td>0.57735</td>\n",
       "    </tr>\n",
       "    <tr>\n",
       "      <th>E</th>\n",
       "      <td>0.57735</td>\n",
       "      <td>0.57735</td>\n",
       "      <td>1.00000</td>\n",
       "      <td>0.57735</td>\n",
       "      <td>1.00000</td>\n",
       "    </tr>\n",
       "  </tbody>\n",
       "</table>\n",
       "</div>"
      ],
      "text/plain": [
       "         A        B        C        D        E\n",
       "A  1.00000  0.00000  0.57735  1.00000  0.57735\n",
       "B  0.00000  1.00000  0.57735  0.00000  0.57735\n",
       "C  0.57735  0.57735  1.00000  0.57735  1.00000\n",
       "D  1.00000  0.00000  0.57735  1.00000  0.57735\n",
       "E  0.57735  0.57735  1.00000  0.57735  1.00000"
      ]
     },
     "execution_count": 8,
     "metadata": {},
     "output_type": "execute_result"
    }
   ],
   "source": [
    "cosine_similarities_df = pd.DataFrame(cosine_similarities,columns = nodes,index = nodes)\n",
    "\n",
    "cosine_similarities_df"
   ]
  },
  {
   "cell_type": "code",
   "execution_count": 9,
   "id": "c74cbd9d-c9be-4ce4-a252-e2b9eb41a349",
   "metadata": {},
   "outputs": [
    {
     "name": "stdout",
     "output_type": "stream",
     "text": [
      "Structurally Equivalent Nodes Are : \n",
      "[['A', 'D'], ['C', 'E']]\n"
     ]
    }
   ],
   "source": [
    "structurally_equivalent_nodes = []\n",
    "\n",
    "for i in range(len(nodes)):\n",
    "    for j in range(len(nodes)):\n",
    "        if i < j and cosine_similarities[i][j] == 1.0:\n",
    "            structurally_equivalent_nodes.append([nodes[i],nodes[j]])\n",
    "\n",
    "print(\"Structurally Equivalent Nodes Are : \")\n",
    "print(structurally_equivalent_nodes)"
   ]
  },
  {
   "cell_type": "code",
   "execution_count": 10,
   "id": "48054bfb-2e83-42d7-a934-adde1ded7e1c",
   "metadata": {},
   "outputs": [
    {
     "name": "stdout",
     "output_type": "stream",
     "text": [
      "Modularity of Graph : \n",
      "-0.1111111111111111\n"
     ]
    }
   ],
   "source": [
    "print(\"Modularity of Graph : \")\n",
    "print(nx.algorithms.community.quality.modularity(G,communities=nodes))"
   ]
  },
  {
   "cell_type": "code",
   "execution_count": 11,
   "id": "5719e8db-024d-45bd-8443-2d7c4b1e18c9",
   "metadata": {},
   "outputs": [
    {
     "name": "stdout",
     "output_type": "stream",
     "text": [
      "Communities : \n",
      "[frozenset({'E', 'D', 'C'}), frozenset({'B', 'A'})]\n"
     ]
    }
   ],
   "source": [
    "communities = nx.algorithms.community.greedy_modularity_communities(G)\n",
    "print(\"Communities : \")\n",
    "print(communities)"
   ]
  },
  {
   "cell_type": "code",
   "execution_count": 12,
   "id": "9bc93779-22b3-41dc-832d-91d9d7f78f45",
   "metadata": {},
   "outputs": [
    {
     "data": {
      "image/png": "[encoded data removed]",
      "text/plain": [
       "<Figure size 576x396 with 1 Axes>"
      ]
     },
     "metadata": {},
     "output_type": "display_data"
    }
   ],
   "source": [
    "nx.draw_networkx(G,pos,edge_color='black')\n",
    "for community in communities:\n",
    "    r = np.random.randint(10,100)\n",
    "    g = np.random.randint(10,100)\n",
    "    b = np.random.randint(10,100)\n",
    "    nx.draw_networkx_nodes(G,pos,nodelist=list(community),node_color='#' + str(r) + str(g) + str(b))"
   ]
  },
  {
   "cell_type": "code",
   "execution_count": null,
   "id": "2bffa545-fd51-423c-b009-68cc7788a68e",
   "metadata": {},
   "outputs": [],
   "source": []
  }
 ],
 "metadata": {
  "kernelspec": {
   "display_name": "Python 3 (ipykernel)",
   "language": "python",
   "name": "python3"
  },
  "language_info": {
   "codemirror_mode": {
    "name": "ipython",
    "version": 3
   },
   "file_extension": ".py",
   "mimetype": "text/x-python",
   "name": "python",
   "nbconvert_exporter": "python",
   "pygments_lexer": "ipython3",
   "version": "3.7.0"
  }
 },
 "nbformat": 4,
 "nbformat_minor": 5
}
