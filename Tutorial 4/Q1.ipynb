{
 "cells": [
  {
   "cell_type": "code",
   "execution_count": 1,
   "id": "f1cfecbc-a451-4cf1-a8ef-acf434348a49",
   "metadata": {},
   "outputs": [],
   "source": [
    "import networkx as nx\n",
    "import numpy as np\n",
    "import pandas as pd\n",
    "import matplotlib.pyplot as plt\n",
    "plt.style.use('seaborn')"
   ]
  },
  {
   "cell_type": "code",
   "execution_count": 2,
   "id": "6f99cea5-c30d-4ad6-933c-bdd88bf32070",
   "metadata": {},
   "outputs": [],
   "source": [
    "edge_list = [\n",
    "    ['A','B'],\n",
    "    ['A','C'],\n",
    "    ['A','D'],\n",
    "    ['A','H'],\n",
    "    ['C','E'],\n",
    "    ['D','E'],\n",
    "    ['D','F'],\n",
    "    ['D','G'],\n",
    "    ['E','G'],\n",
    "    ['F','G'],\n",
    "    ['F','H'],\n",
    "    ['G','H'],\n",
    "    ['G','I'],\n",
    "    ['G','J'],\n",
    "    ['G','K'],\n",
    "    ['G','L'],\n",
    "    ['G','M'],\n",
    "    ['H','I'],\n",
    "    ['L','M']\n",
    "]"
   ]
  },
  {
   "cell_type": "code",
   "execution_count": 3,
   "id": "e5bb82a7-e22f-430a-8227-e710bfbb1fc4",
   "metadata": {},
   "outputs": [],
   "source": [
    "G = nx.Graph(edge_list)"
   ]
  },
  {
   "cell_type": "code",
   "execution_count": 4,
   "id": "824bac81-9a65-4060-b7e7-128165361ba1",
   "metadata": {},
   "outputs": [
    {
     "name": "stdout",
     "output_type": "stream",
     "text": [
      "['A', 'B', 'C', 'D', 'H', 'E', 'F', 'G', 'I', 'J', 'K', 'L', 'M']\n"
     ]
    }
   ],
   "source": [
    "nodes = list(G.nodes())\n",
    "print(nodes)"
   ]
  },
  {
   "cell_type": "code",
   "execution_count": 5,
   "id": "5c49f47c-89c4-4cad-835c-a0cec3bd5191",
   "metadata": {},
   "outputs": [
    {
     "data": {
      "image/png": "[encoded data removed]",
      "text/plain": [
       "<Figure size 576x396 with 1 Axes>"
      ]
     },
     "metadata": {},
     "output_type": "display_data"
    }
   ],
   "source": [
    "pos = nx.spring_layout(G)\n",
    "nx.draw_networkx(G,pos,edge_color='black',node_color='black',font_color='white')\n",
    "plt.show()"
   ]
  },
  {
   "cell_type": "markdown",
   "id": "06d51702-4ca7-4817-8b75-cdb5f9eb4c35",
   "metadata": {},
   "source": [
    "### Katz Index\n",
    "\n",
    "The metric defined by Katz not only considers the path between specific neighbor nodes, rather, sums over the sets of paths and exponentially damped by length to be counted more intensively with shorter paths.\n",
    "\n",
    "$s^{KI}_{(x,y)} = \\sum_{i=1}^\\infty β^{i}.|A_{xy}^{<i>}|$\n",
    "\n",
    "Here, β is free parameter (β > 0) and called the \"damping factor\".\n",
    "One can realize that KI yields very similar score when β is low\n",
    "enough, because the paths which have higher lengths contribute\n",
    "less, and similarity index is simply determined by the shorter paths.\n",
    "\n",
    "In the case of β < 1/$λ^{A}_{I}$ is the largest eigenvalue of\n",
    "adjacency matrix, the similarity matrix can be written as follows:\n",
    "\n",
    "$S^{KI} = (I - βA)^{-1} - I$"
   ]
  },
  {
   "cell_type": "code",
   "execution_count": 6,
   "id": "bc06eafe-a1d8-49f8-b56f-56ea85895f6c",
   "metadata": {},
   "outputs": [
    {
     "name": "stdout",
     "output_type": "stream",
     "text": [
      "Eigen Values of Matrix :\n",
      "[2.22044605e-16 2.91568764e-01 1.83773521e+00 5.40255290e-01\n",
      " 6.15765886e-01 1.64168490e+00 8.00888230e-01 8.41528154e-01\n",
      " 1.15318135e+00 1.33605565e+00 1.44133656e+00 1.50000000e+00\n",
      " 1.00000000e+00]\n",
      "Maximum Eigen Value : 1.8377352077552436\n"
     ]
    }
   ],
   "source": [
    "# Finding Maximum Eigen Value\n",
    "\n",
    "L = nx.normalized_laplacian_matrix(G)\n",
    "eigen_values = np.linalg.eigvals(L.A)\n",
    "\n",
    "print(\"Eigen Values of Matrix :\")\n",
    "print(eigen_values)\n",
    "print(\"Maximum Eigen Value :\",max(eigen_values))"
   ]
  },
  {
   "cell_type": "code",
   "execution_count": 7,
   "id": "bb5ba379-ba50-4303-bb05-cd6de12a2e49",
   "metadata": {},
   "outputs": [],
   "source": [
    "# Finding Beta\n",
    "beta = 1/max(eigen_values)\n",
    "\n",
    "# Creating Identity Matrix\n",
    "I = np.identity(len(nodes))\n",
    "\n",
    "# Adjency Matrix\n",
    "adj_matrix = nx.to_numpy_array(G)\n",
    "\n",
    "# Epsilon\n",
    "epsilon = 0.00001"
   ]
  },
  {
   "cell_type": "code",
   "execution_count": 8,
   "id": "2f8c5f64-6413-429b-86a2-1a1599d5ae89",
   "metadata": {},
   "outputs": [],
   "source": [
    "KatzScore = np.linalg.inv(I - beta * adj_matrix) - I\n",
    "\n",
    "KatzScore_df = pd.DataFrame(KatzScore,columns=list(G.nodes),index = list(G.nodes))"
   ]
  },
  {
   "cell_type": "code",
   "execution_count": 9,
   "id": "40d776af-7f48-4a31-af88-71dd21254c24",
   "metadata": {},
   "outputs": [
    {
     "data": {
      "text/html": [
       "<div>\n",
       "<style scoped>\n",
       "    .dataframe tbody tr th:only-of-type {\n",
       "        vertical-align: middle;\n",
       "    }\n",
       "\n",
       "    .dataframe tbody tr th {\n",
       "        vertical-align: top;\n",
       "    }\n",
       "\n",
       "    .dataframe thead th {\n",
       "        text-align: right;\n",
       "    }\n",
       "</style>\n",
       "<table border=\"1\" class=\"dataframe\">\n",
       "  <thead>\n",
       "    <tr style=\"text-align: right;\">\n",
       "      <th></th>\n",
       "      <th>A</th>\n",
       "      <th>B</th>\n",
       "      <th>C</th>\n",
       "      <th>D</th>\n",
       "      <th>H</th>\n",
       "      <th>E</th>\n",
       "      <th>F</th>\n",
       "      <th>G</th>\n",
       "      <th>I</th>\n",
       "      <th>J</th>\n",
       "      <th>K</th>\n",
       "      <th>L</th>\n",
       "      <th>M</th>\n",
       "    </tr>\n",
       "  </thead>\n",
       "  <tbody>\n",
       "    <tr>\n",
       "      <th>A</th>\n",
       "      <td>-17.404469</td>\n",
       "      <td>-8.926459</td>\n",
       "      <td>-12.280212</td>\n",
       "      <td>-7.971905</td>\n",
       "      <td>-2.806228</td>\n",
       "      <td>-6.163309</td>\n",
       "      <td>-1.008060</td>\n",
       "      <td>8.925587</td>\n",
       "      <td>3.329837</td>\n",
       "      <td>4.856840</td>\n",
       "      <td>4.856840</td>\n",
       "      <td>10.654425</td>\n",
       "      <td>10.654425</td>\n",
       "    </tr>\n",
       "    <tr>\n",
       "      <th>B</th>\n",
       "      <td>-8.926459</td>\n",
       "      <td>-4.857315</td>\n",
       "      <td>-6.682253</td>\n",
       "      <td>-4.337896</td>\n",
       "      <td>-1.527004</td>\n",
       "      <td>-3.353753</td>\n",
       "      <td>-0.548534</td>\n",
       "      <td>4.856840</td>\n",
       "      <td>1.811924</td>\n",
       "      <td>2.642840</td>\n",
       "      <td>2.642840</td>\n",
       "      <td>5.797584</td>\n",
       "      <td>5.797584</td>\n",
       "    </tr>\n",
       "    <tr>\n",
       "      <th>C</th>\n",
       "      <td>-12.280212</td>\n",
       "      <td>-6.682253</td>\n",
       "      <td>-8.740908</td>\n",
       "      <td>-5.700416</td>\n",
       "      <td>-2.444200</td>\n",
       "      <td>-3.783263</td>\n",
       "      <td>-0.901070</td>\n",
       "      <td>6.488689</td>\n",
       "      <td>2.200801</td>\n",
       "      <td>3.530807</td>\n",
       "      <td>3.530807</td>\n",
       "      <td>7.745513</td>\n",
       "      <td>7.745513</td>\n",
       "    </tr>\n",
       "    <tr>\n",
       "      <th>D</th>\n",
       "      <td>-7.971905</td>\n",
       "      <td>-4.337896</td>\n",
       "      <td>-5.700416</td>\n",
       "      <td>-3.794585</td>\n",
       "      <td>-1.817353</td>\n",
       "      <td>-2.503951</td>\n",
       "      <td>-0.390989</td>\n",
       "      <td>3.893403</td>\n",
       "      <td>1.129679</td>\n",
       "      <td>2.118587</td>\n",
       "      <td>2.118587</td>\n",
       "      <td>4.647534</td>\n",
       "      <td>4.647534</td>\n",
       "    </tr>\n",
       "    <tr>\n",
       "      <th>H</th>\n",
       "      <td>-2.806228</td>\n",
       "      <td>-1.527004</td>\n",
       "      <td>-2.444200</td>\n",
       "      <td>-1.817353</td>\n",
       "      <td>-0.368549</td>\n",
       "      <td>-1.685564</td>\n",
       "      <td>-0.011954</td>\n",
       "      <td>1.163933</td>\n",
       "      <td>0.976955</td>\n",
       "      <td>0.633352</td>\n",
       "      <td>0.633352</td>\n",
       "      <td>1.389380</td>\n",
       "      <td>1.389380</td>\n",
       "    </tr>\n",
       "    <tr>\n",
       "      <th>E</th>\n",
       "      <td>-6.163309</td>\n",
       "      <td>-3.353753</td>\n",
       "      <td>-3.783263</td>\n",
       "      <td>-2.503951</td>\n",
       "      <td>-1.685564</td>\n",
       "      <td>-1.789327</td>\n",
       "      <td>-0.647868</td>\n",
       "      <td>2.998905</td>\n",
       "      <td>0.714652</td>\n",
       "      <td>1.631848</td>\n",
       "      <td>1.631848</td>\n",
       "      <td>3.579777</td>\n",
       "      <td>3.579777</td>\n",
       "    </tr>\n",
       "    <tr>\n",
       "      <th>F</th>\n",
       "      <td>-1.008060</td>\n",
       "      <td>-0.548534</td>\n",
       "      <td>-0.901070</td>\n",
       "      <td>-0.390989</td>\n",
       "      <td>-0.011954</td>\n",
       "      <td>-0.647868</td>\n",
       "      <td>-0.164057</td>\n",
       "      <td>0.101450</td>\n",
       "      <td>0.048699</td>\n",
       "      <td>0.055204</td>\n",
       "      <td>0.055204</td>\n",
       "      <td>0.121100</td>\n",
       "      <td>0.121100</td>\n",
       "    </tr>\n",
       "    <tr>\n",
       "      <th>G</th>\n",
       "      <td>8.925587</td>\n",
       "      <td>4.856840</td>\n",
       "      <td>6.488689</td>\n",
       "      <td>3.893403</td>\n",
       "      <td>1.163933</td>\n",
       "      <td>2.998905</td>\n",
       "      <td>0.101450</td>\n",
       "      <td>-5.870898</td>\n",
       "      <td>-2.017138</td>\n",
       "      <td>-2.650490</td>\n",
       "      <td>-2.650490</td>\n",
       "      <td>-5.814365</td>\n",
       "      <td>-5.814365</td>\n",
       "    </tr>\n",
       "    <tr>\n",
       "      <th>I</th>\n",
       "      <td>3.329837</td>\n",
       "      <td>1.811924</td>\n",
       "      <td>2.200801</td>\n",
       "      <td>1.129679</td>\n",
       "      <td>0.976955</td>\n",
       "      <td>0.714652</td>\n",
       "      <td>0.048699</td>\n",
       "      <td>-2.017138</td>\n",
       "      <td>-0.566013</td>\n",
       "      <td>-1.097622</td>\n",
       "      <td>-1.097622</td>\n",
       "      <td>-2.407847</td>\n",
       "      <td>-2.407847</td>\n",
       "    </tr>\n",
       "    <tr>\n",
       "      <th>J</th>\n",
       "      <td>4.856840</td>\n",
       "      <td>2.642840</td>\n",
       "      <td>3.530807</td>\n",
       "      <td>2.118587</td>\n",
       "      <td>0.633352</td>\n",
       "      <td>1.631848</td>\n",
       "      <td>0.055204</td>\n",
       "      <td>-2.650490</td>\n",
       "      <td>-1.097622</td>\n",
       "      <td>-1.442259</td>\n",
       "      <td>-1.442259</td>\n",
       "      <td>-3.163875</td>\n",
       "      <td>-3.163875</td>\n",
       "    </tr>\n",
       "    <tr>\n",
       "      <th>K</th>\n",
       "      <td>4.856840</td>\n",
       "      <td>2.642840</td>\n",
       "      <td>3.530807</td>\n",
       "      <td>2.118587</td>\n",
       "      <td>0.633352</td>\n",
       "      <td>1.631848</td>\n",
       "      <td>0.055204</td>\n",
       "      <td>-2.650490</td>\n",
       "      <td>-1.097622</td>\n",
       "      <td>-1.442259</td>\n",
       "      <td>-1.442259</td>\n",
       "      <td>-3.163875</td>\n",
       "      <td>-3.163875</td>\n",
       "    </tr>\n",
       "    <tr>\n",
       "      <th>L</th>\n",
       "      <td>10.654425</td>\n",
       "      <td>5.797584</td>\n",
       "      <td>7.745513</td>\n",
       "      <td>4.647534</td>\n",
       "      <td>1.389380</td>\n",
       "      <td>3.579777</td>\n",
       "      <td>0.121100</td>\n",
       "      <td>-5.814365</td>\n",
       "      <td>-2.407847</td>\n",
       "      <td>-3.163875</td>\n",
       "      <td>-3.163875</td>\n",
       "      <td>-6.519925</td>\n",
       "      <td>-6.167532</td>\n",
       "    </tr>\n",
       "    <tr>\n",
       "      <th>M</th>\n",
       "      <td>10.654425</td>\n",
       "      <td>5.797584</td>\n",
       "      <td>7.745513</td>\n",
       "      <td>4.647534</td>\n",
       "      <td>1.389380</td>\n",
       "      <td>3.579777</td>\n",
       "      <td>0.121100</td>\n",
       "      <td>-5.814365</td>\n",
       "      <td>-2.407847</td>\n",
       "      <td>-3.163875</td>\n",
       "      <td>-3.163875</td>\n",
       "      <td>-6.167532</td>\n",
       "      <td>-6.519925</td>\n",
       "    </tr>\n",
       "  </tbody>\n",
       "</table>\n",
       "</div>"
      ],
      "text/plain": [
       "           A         B          C         D         H         E         F  \\\n",
       "A -17.404469 -8.926459 -12.280212 -7.971905 -2.806228 -6.163309 -1.008060   \n",
       "B  -8.926459 -4.857315  -6.682253 -4.337896 -1.527004 -3.353753 -0.548534   \n",
       "C -12.280212 -6.682253  -8.740908 -5.700416 -2.444200 -3.783263 -0.901070   \n",
       "D  -7.971905 -4.337896  -5.700416 -3.794585 -1.817353 -2.503951 -0.390989   \n",
       "H  -2.806228 -1.527004  -2.444200 -1.817353 -0.368549 -1.685564 -0.011954   \n",
       "E  -6.163309 -3.353753  -3.783263 -2.503951 -1.685564 -1.789327 -0.647868   \n",
       "F  -1.008060 -0.548534  -0.901070 -0.390989 -0.011954 -0.647868 -0.164057   \n",
       "G   8.925587  4.856840   6.488689  3.893403  1.163933  2.998905  0.101450   \n",
       "I   3.329837  1.811924   2.200801  1.129679  0.976955  0.714652  0.048699   \n",
       "J   4.856840  2.642840   3.530807  2.118587  0.633352  1.631848  0.055204   \n",
       "K   4.856840  2.642840   3.530807  2.118587  0.633352  1.631848  0.055204   \n",
       "L  10.654425  5.797584   7.745513  4.647534  1.389380  3.579777  0.121100   \n",
       "M  10.654425  5.797584   7.745513  4.647534  1.389380  3.579777  0.121100   \n",
       "\n",
       "          G         I         J         K          L          M  \n",
       "A  8.925587  3.329837  4.856840  4.856840  10.654425  10.654425  \n",
       "B  4.856840  1.811924  2.642840  2.642840   5.797584   5.797584  \n",
       "C  6.488689  2.200801  3.530807  3.530807   7.745513   7.745513  \n",
       "D  3.893403  1.129679  2.118587  2.118587   4.647534   4.647534  \n",
       "H  1.163933  0.976955  0.633352  0.633352   1.389380   1.389380  \n",
       "E  2.998905  0.714652  1.631848  1.631848   3.579777   3.579777  \n",
       "F  0.101450  0.048699  0.055204  0.055204   0.121100   0.121100  \n",
       "G -5.870898 -2.017138 -2.650490 -2.650490  -5.814365  -5.814365  \n",
       "I -2.017138 -0.566013 -1.097622 -1.097622  -2.407847  -2.407847  \n",
       "J -2.650490 -1.097622 -1.442259 -1.442259  -3.163875  -3.163875  \n",
       "K -2.650490 -1.097622 -1.442259 -1.442259  -3.163875  -3.163875  \n",
       "L -5.814365 -2.407847 -3.163875 -3.163875  -6.519925  -6.167532  \n",
       "M -5.814365 -2.407847 -3.163875 -3.163875  -6.167532  -6.519925  "
      ]
     },
     "execution_count": 9,
     "metadata": {},
     "output_type": "execute_result"
    }
   ],
   "source": [
    "# Katz Method \n",
    "# Similarity Score for Each Node(u,v)\n",
    "KatzScore_df"
   ]
  },
  {
   "cell_type": "code",
   "execution_count": 10,
   "id": "0d902a02-a427-44b9-b401-44a9b4d886e5",
   "metadata": {},
   "outputs": [
    {
     "name": "stdout",
     "output_type": "stream",
     "text": [
      "Lowest Score :  -12.280211925409086\n",
      "Edges with lowest score : \n",
      "[['A', 'C']]\n"
     ]
    }
   ],
   "source": [
    "# Edges with Lowest Score\n",
    "\n",
    "lowestScore = KatzScore_df.max().max()\n",
    "\n",
    "for i in range(len(KatzScore)):\n",
    "    for j in range(len(KatzScore[i])):\n",
    "        if i < j:\n",
    "            lowestScore = min(lowestScore,KatzScore[i][j])\n",
    "\n",
    "            \n",
    "edges_with_lowest_score = []\n",
    "for i in range(len(KatzScore)):\n",
    "    for j in range(len(KatzScore)):\n",
    "        if i < j and abs(KatzScore[i][j]-lowestScore) < epsilon:\n",
    "            edges_with_lowest_score.append([nodes[i],nodes[j]])\n",
    "            \n",
    "print(\"Lowest Score : \",lowestScore)\n",
    "print(\"Edges with lowest score : \")\n",
    "print(edges_with_lowest_score)"
   ]
  },
  {
   "cell_type": "code",
   "execution_count": 11,
   "id": "7296f0bd-ec47-4b95-b941-be78e36a06f7",
   "metadata": {},
   "outputs": [],
   "source": [
    "# Removing the edges with lowest score in graph\n",
    "for edge in edges_with_lowest_score:\n",
    "    G.remove_edge(edge[0],edge[1])"
   ]
  },
  {
   "cell_type": "code",
   "execution_count": 12,
   "id": "ffe1374b-8e5a-4089-8c31-cfea4593b0bc",
   "metadata": {},
   "outputs": [
    {
     "data": {
      "image/png": "[encoded data removed]",
      "text/plain": [
       "<Figure size 576x396 with 1 Axes>"
      ]
     },
     "metadata": {},
     "output_type": "display_data"
    }
   ],
   "source": [
    "nx.draw_networkx(G,pos,edge_color='black',node_color='black',font_color='white')\n",
    "nx.draw_networkx_edges(G,pos,edgelist=edges_with_lowest_score,edge_color='red',style='dashed',label=\"Removed Edge\")\n",
    "plt.legend()\n",
    "plt.show()"
   ]
  },
  {
   "cell_type": "code",
   "execution_count": 13,
   "id": "38e0305f-6efa-4eca-948b-735aa681ab7e",
   "metadata": {},
   "outputs": [
    {
     "name": "stdout",
     "output_type": "stream",
     "text": [
      "10.654424791062832 10.654424791062828\n",
      "Maximum Score :  10.654424791062832\n",
      "Disconnected Edges with Maximum score : \n",
      "[['A', 'L'], ['A', 'M']]\n"
     ]
    }
   ],
   "source": [
    "# Disconnect Edges with Maximum Score\n",
    "\n",
    "maxScore = KatzScore_df.min().min()\n",
    "\n",
    "for i in range(len(KatzScore)):\n",
    "    for j in range(len(KatzScore)):\n",
    "        if i < j and adj_matrix[i][j] == 0:\n",
    "            maxScore = max(maxScore,KatzScore[i][j])\n",
    "\n",
    "disconnected_edges_with_max_score = []\n",
    "for i in range(len(KatzScore)):\n",
    "    for j in range(len(KatzScore[i])):\n",
    "        if i == 0 and nodes[j] == 'M':\n",
    "            print(maxScore,KatzScore[i][j])\n",
    "        if i < j and adj_matrix[i][j] == 0 and abs(maxScore - KatzScore[i][j]) < epsilon:\n",
    "            disconnected_edges_with_max_score.append([nodes[i],nodes[j]])\n",
    "            \n",
    "\n",
    "print(\"Maximum Score : \",maxScore)\n",
    "print(\"Disconnected Edges with Maximum score : \")\n",
    "print(disconnected_edges_with_max_score)"
   ]
  },
  {
   "cell_type": "code",
   "execution_count": 14,
   "id": "895c247f-bf25-4425-8409-1bd6223b0933",
   "metadata": {},
   "outputs": [],
   "source": [
    "# Adding the edges(Disconnected Edges) with Maximum score in graph\n",
    "for edge in disconnected_edges_with_max_score:\n",
    "    G.add_edge(edge[0],edge[1])"
   ]
  },
  {
   "cell_type": "code",
   "execution_count": 15,
   "id": "aa8e6412-a68c-47f3-b230-eeb2c8527304",
   "metadata": {},
   "outputs": [
    {
     "data": {
      "image/png": "[encoded data removed]",
      "text/plain": [
       "<Figure size 576x396 with 1 Axes>"
      ]
     },
     "metadata": {},
     "output_type": "display_data"
    }
   ],
   "source": [
    "nx.draw_networkx(G,pos,edge_color='black',node_color='black',font_color='white')\n",
    "nx.draw_networkx_edges(G,pos,edgelist=disconnected_edges_with_max_score,width=3,edge_color='#ff9800',label=\"Possible Future Links\")\n",
    "plt.legend()\n",
    "plt.show()"
   ]
  },
  {
   "cell_type": "code",
   "execution_count": null,
   "id": "6a0d2d4c-d7cc-4597-a8ef-a82b43cf1877",
   "metadata": {},
   "outputs": [],
   "source": []
  }
 ],
 "metadata": {
  "kernelspec": {
   "display_name": "Python 3 (ipykernel)",
   "language": "python",
   "name": "python3"
  },
  "language_info": {
   "codemirror_mode": {
    "name": "ipython",
    "version": 3
   },
   "file_extension": ".py",
   "mimetype": "text/x-python",
   "name": "python",
   "nbconvert_exporter": "python",
   "pygments_lexer": "ipython3",
   "version": "3.7.0"
  }
 },
 "nbformat": 4,
 "nbformat_minor": 5
}
