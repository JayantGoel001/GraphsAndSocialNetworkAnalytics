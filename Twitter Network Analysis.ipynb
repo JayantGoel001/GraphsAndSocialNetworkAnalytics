{
 "cells": [
  {
   "cell_type": "code",
   "execution_count": 1,
   "metadata": {},
   "outputs": [],
   "source": [
    "import networkx as nx\n",
    "import matplotlib.pyplot as plt\n",
    "import oauth2 as oa\n",
    "import json"
   ]
  },
  {
   "cell_type": "code",
   "execution_count": 5,
   "metadata": {},
   "outputs": [],
   "source": [
    "with open('twitter_config.json') as f:\n",
    "    tokens = json.loads(f.read())\n",
    "\n",
    "consumer = oa.Consumer(key=tokens['CONSUMER_KEY'],secret=tokens['CONSUMER_SECRET'])\n",
    "token = oa.Token(key=tokens['ACCESS_TOKEN'],secret=tokens['ACCESS_SECRET'])\n",
    "\n",
    "client = oa.Client(consumer,token)"
   ]
  },
  {
   "cell_type": "markdown",
   "metadata": {},
   "source": [
    "## Twitter's REST APIs\n",
    "\n",
    "Twitter has a rich set of API calls (full list is listed at https://dev.twitter.com/rest/public). Today we'll be using these:\n",
    "\n",
    "* [GET friends/list](https://dev.twitter.com/rest/reference/get/friends/list) - who is user X is following?\n",
    "* [GET followers/list](https://dev.twitter.com/rest/reference/get/followers/list) - who follows user X?\n",
    "\n",
    "## GET followers/list: let's find out who follows you!\n",
    "You'll see from the [GET followers/list](https://dev.twitter.com/rest/reference/get/followers/list) documentation that the URL to get the list of followers is:\n",
    "\n",
    "    https://api.twitter.com/1.1/followers/list.json?screen_name=[screen_name]\n",
    "\n",
    "Which returns:\n",
    "\n",
    "1) A response body\n",
    "\n",
    "* JSON representing the data we requested\n",
    "\n",
    "2) A response header\n",
    "\n",
    "* There's a lot of stuff here, but one param to note are the **HTTP Response Codes**, which will tell you if the request was successful. Or if not, why. The ones you should note are:\n",
    "\n",
    "* **200 - STATUS_OKAY** - <font color=\"#009900\">Success :) </font> . This is what you want.\n",
    "\n",
    "* **429 - RATE_LIMIT_EXCEEDED.** <font color=\"#990000\">Uh-oh, slow it down :/</font>. Twitter limits how frequently you can make requests, and you've exceeded it.\n",
    "* **401 - UNAUTHORIZED_USER**. Twitter isn't accepting your Consumer/Access tokens. Verify tokens were pasted correctly, or try generating new tokens.\n",
    " \n",
    "\n",
    "Now that we know what to expect, let's try it!"
   ]
  },
  {
   "cell_type": "code",
   "execution_count": 9,
   "metadata": {},
   "outputs": [],
   "source": [
    "FOLLOWERS_URL = \"https://api.twitter.com/1.1/followers/list.json?\"\n",
    "screen_name = 'ImRo45'\n",
    "url = FOLLOWERS_URL+'?screen_name='+screen_name\n",
    "header,response = client.request(url,method='GET')"
   ]
  },
  {
   "cell_type": "code",
   "execution_count": 10,
   "metadata": {},
   "outputs": [
    {
     "name": "stdout",
     "output_type": "stream",
     "text": [
      "Status :  200\n"
     ]
    }
   ],
   "source": [
    "print(\"Status : \",header['status'])"
   ]
  },
  {
   "cell_type": "code",
   "execution_count": 25,
   "metadata": {},
   "outputs": [
    {
     "name": "stdout",
     "output_type": "stream",
     "text": [
      "b'{\"users\":[{\"id\":3107048520,\"id_str\":\"3107048520\",\"name\":\"stiffy_prince\",\"screen_name\":\"nalinikanta00\",\"location\":\"\",\"description\":\"\",\"url\":null,\"entities\":{\"description\":{\"urls\":[]}},\"protected\":false'\n"
     ]
    }
   ],
   "source": [
    "print(response[:200])"
   ]
  },
  {
   "cell_type": "code",
   "execution_count": null,
   "metadata": {},
   "outputs": [],
   "source": []
  }
 ],
 "metadata": {
  "kernelspec": {
   "display_name": "Python 3",
   "language": "python",
   "name": "python3"
  },
  "language_info": {
   "codemirror_mode": {
    "name": "ipython",
    "version": 3
   },
   "file_extension": ".py",
   "mimetype": "text/x-python",
   "name": "python",
   "nbconvert_exporter": "python",
   "pygments_lexer": "ipython3",
   "version": "3.8.5"
  }
 },
 "nbformat": 4,
 "nbformat_minor": 4
}
