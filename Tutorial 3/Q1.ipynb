{
 "cells": [
  {
   "cell_type": "code",
   "execution_count": 14,
   "id": "f900b919-6ee9-4120-aa65-c0957c34567c",
   "metadata": {},
   "outputs": [],
   "source": [
    "# Importing The Library\n",
    "import networkx as nx\n",
    "import pandas as pd\n",
    "from prettytable import PrettyTable\n",
    "import matplotlib.pyplot as plt\n",
    "plt.style.use('seaborn')"
   ]
  },
  {
   "cell_type": "code",
   "execution_count": 15,
   "id": "cc473941-30fe-44dc-9bdd-94997077778b",
   "metadata": {},
   "outputs": [],
   "source": [
    "# Reading the csv file using Pandas\n",
    "df = pd.read_csv(\"Q1.csv\")"
   ]
  },
  {
   "cell_type": "code",
   "execution_count": 16,
   "id": "470ce15b-1997-4e1f-a70a-234a0de2f469",
   "metadata": {},
   "outputs": [
    {
     "data": {
      "text/html": [
       "<div>\n",
       "<style scoped>\n",
       "    .dataframe tbody tr th:only-of-type {\n",
       "        vertical-align: middle;\n",
       "    }\n",
       "\n",
       "    .dataframe tbody tr th {\n",
       "        vertical-align: top;\n",
       "    }\n",
       "\n",
       "    .dataframe thead th {\n",
       "        text-align: right;\n",
       "    }\n",
       "</style>\n",
       "<table border=\"1\" class=\"dataframe\">\n",
       "  <thead>\n",
       "    <tr style=\"text-align: right;\">\n",
       "      <th></th>\n",
       "      <th>source</th>\n",
       "      <th>target</th>\n",
       "    </tr>\n",
       "  </thead>\n",
       "  <tbody>\n",
       "    <tr>\n",
       "      <th>0</th>\n",
       "      <td>Betty</td>\n",
       "      <td>Cindy</td>\n",
       "    </tr>\n",
       "    <tr>\n",
       "      <th>1</th>\n",
       "      <td>Betty</td>\n",
       "      <td>David</td>\n",
       "    </tr>\n",
       "    <tr>\n",
       "      <th>2</th>\n",
       "      <td>Betty</td>\n",
       "      <td>Fred</td>\n",
       "    </tr>\n",
       "    <tr>\n",
       "      <th>3</th>\n",
       "      <td>Betty</td>\n",
       "      <td>Adam</td>\n",
       "    </tr>\n",
       "    <tr>\n",
       "      <th>4</th>\n",
       "      <td>Cindy</td>\n",
       "      <td>Betty</td>\n",
       "    </tr>\n",
       "  </tbody>\n",
       "</table>\n",
       "</div>"
      ],
      "text/plain": [
       "  source target\n",
       "0  Betty  Cindy\n",
       "1  Betty  David\n",
       "2  Betty   Fred\n",
       "3  Betty   Adam\n",
       "4  Cindy  Betty"
      ]
     },
     "execution_count": 16,
     "metadata": {},
     "output_type": "execute_result"
    }
   ],
   "source": [
    "df.head()"
   ]
  },
  {
   "cell_type": "code",
   "execution_count": 17,
   "id": "8223f231-3c85-4723-9a1b-0360b605661e",
   "metadata": {},
   "outputs": [],
   "source": [
    "# Creating graph using nextworkx and pandas edge list\n",
    "G = nx.from_pandas_edgelist(df,create_using=nx.Graph())"
   ]
  },
  {
   "cell_type": "code",
   "execution_count": 18,
   "id": "0a370175-6d53-4405-83f0-66ff31de5c90",
   "metadata": {},
   "outputs": [
    {
     "data": {
      "image/png": "[encoded data removed]",
      "text/plain": [
       "<Figure size 576x396 with 1 Axes>"
      ]
     },
     "metadata": {},
     "output_type": "display_data"
    }
   ],
   "source": [
    "# Representation of graph\n",
    "nx.draw_networkx(G,with_labels=True,node_color='red',node_size=1200,edge_color='blue')"
   ]
  },
  {
   "cell_type": "code",
   "execution_count": 19,
   "id": "7498827a-12c4-4b74-b7c8-6491fda9f547",
   "metadata": {},
   "outputs": [],
   "source": [
    "# Getting all nodes in sorted fashion\n",
    "field_names = [\" \"]\n",
    "field_names.extend(sorted(G.nodes))"
   ]
  },
  {
   "cell_type": "code",
   "execution_count": 7,
   "id": "787171ec-63ef-4014-b6d9-384b093daf66",
   "metadata": {},
   "outputs": [
    {
     "name": "stdout",
     "output_type": "stream",
     "text": [
      "Geodesic Distance:\n",
      "+-----------+------+-------+-------+-------+-----------+------+--------+\n",
      "|           | Adam | Betty | Cindy | David | Elizabeth | Fred | George |\n",
      "+-----------+------+-------+-------+-------+-----------+------+--------+\n",
      "|    Adam   |  0   |   1   |   2   |   1   |     3     |  1   |   3    |\n",
      "|   Betty   |  1   |   0   |   1   |   1   |     2     |  1   |   2    |\n",
      "|   Cindy   |  2   |   1   |   0   |   1   |     1     |  2   |   1    |\n",
      "|   David   |  1   |   1   |   1   |   0   |     2     |  2   |   2    |\n",
      "| Elizabeth |  3   |   2   |   1   |   2   |     0     |  3   |   2    |\n",
      "|    Fred   |  1   |   1   |   2   |   2   |     3     |  0   |   3    |\n",
      "|   George  |  3   |   2   |   1   |   2   |     2     |  3   |   0    |\n",
      "+-----------+------+-------+-------+-------+-----------+------+--------+\n"
     ]
    }
   ],
   "source": [
    "print(\"Geodesic Distance:\")\n",
    "\n",
    "geo_dist = dict(nx.all_pairs_shortest_path_length(G))\n",
    "\n",
    "pt = PrettyTable()\n",
    "pt.field_names = field_names\n",
    "\n",
    "# Using Pretty Table of sorted dict of dict to create table of shortest Distance\n",
    "for key in sorted(geo_dist):\n",
    "    values = [key]\n",
    "    for k in sorted(geo_dist[key]):\n",
    "        values.append(geo_dist[key][k])\n",
    "    pt.add_row(values)\n",
    "print(pt)"
   ]
  },
  {
   "cell_type": "code",
   "execution_count": 8,
   "id": "e54e1e12-08cd-43e5-8a51-c5d7f3108dd4",
   "metadata": {},
   "outputs": [
    {
     "name": "stdout",
     "output_type": "stream",
     "text": [
      "Eccentricity : \n"
     ]
    },
    {
     "data": {
      "text/plain": [
       "{'Betty': 2,\n",
       " 'Cindy': 2,\n",
       " 'David': 2,\n",
       " 'Fred': 3,\n",
       " 'Adam': 3,\n",
       " 'Elizabeth': 3,\n",
       " 'George': 3}"
      ]
     },
     "execution_count": 8,
     "metadata": {},
     "output_type": "execute_result"
    }
   ],
   "source": [
    "print(\"Eccentricity : \")\n",
    "ecc = nx.eccentricity(G)\n",
    "ecc"
   ]
  },
  {
   "cell_type": "code",
   "execution_count": 9,
   "id": "f1320986-5d57-48f8-bb71-2485cdcbbd4b",
   "metadata": {},
   "outputs": [
    {
     "name": "stdout",
     "output_type": "stream",
     "text": [
      "Average path Length : 1.7619047619047619\n"
     ]
    }
   ],
   "source": [
    "print(\"Average path Length :\",nx.average_shortest_path_length(G))"
   ]
  },
  {
   "cell_type": "code",
   "execution_count": 10,
   "id": "917b0b24-5b41-4655-9262-4fa49b57db06",
   "metadata": {},
   "outputs": [
    {
     "name": "stdout",
     "output_type": "stream",
     "text": [
      "Diameter : 3\n"
     ]
    }
   ],
   "source": [
    "print(\"Diameter :\",nx.diameter(G))"
   ]
  },
  {
   "cell_type": "code",
   "execution_count": 11,
   "id": "a89708df-497d-4411-8f00-0f0f6088422d",
   "metadata": {},
   "outputs": [
    {
     "name": "stdout",
     "output_type": "stream",
     "text": [
      "Average Degree : 2.5714285714285716\n"
     ]
    }
   ],
   "source": [
    "degree = G.degree()\n",
    "_degree = [y for x,y in degree]\n",
    "print(\"Average Degree :\",sum(_degree)/len(_degree))"
   ]
  },
  {
   "cell_type": "code",
   "execution_count": 23,
   "id": "f1d0e546-8810-4f14-bcde-d07dd6fb97b8",
   "metadata": {},
   "outputs": [
    {
     "data": {
      "image/png": "[encoded data removed]",
      "text/plain": [
       "<Figure size 576x396 with 1 Axes>"
      ]
     },
     "metadata": {},
     "output_type": "display_data"
    }
   ],
   "source": [
    "color = [] \n",
    "for _,i in degree:\n",
    "    if i>=4:\n",
    "        color.append('yellow')\n",
    "    else:\n",
    "        color.append('cyan')\n",
    "\n",
    "nx.draw_networkx(G,with_labels=True,node_color=color,node_size=1200,edge_color='green')\n",
    "plt.title(\"Nodes having more than 4 degree highligted Graph\")\n",
    "plt.show()"
   ]
  },
  {
   "cell_type": "code",
   "execution_count": null,
   "id": "638b78b1-0dca-4543-9227-dfe9122eaf46",
   "metadata": {},
   "outputs": [],
   "source": []
  }
 ],
 "metadata": {
  "kernelspec": {
   "display_name": "Python 3 (ipykernel)",
   "language": "python",
   "name": "python3"
  },
  "language_info": {
   "codemirror_mode": {
    "name": "ipython",
    "version": 3
   },
   "file_extension": ".py",
   "mimetype": "text/x-python",
   "name": "python",
   "nbconvert_exporter": "python",
   "pygments_lexer": "ipython3",
   "version": "3.9.6"
  }
 },
 "nbformat": 4,
 "nbformat_minor": 5
}
